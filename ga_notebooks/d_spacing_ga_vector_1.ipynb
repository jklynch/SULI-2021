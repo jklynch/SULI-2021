{
 "cells": [
  {
   "cell_type": "code",
   "execution_count": null,
   "id": "a368bb97-9b77-43bc-ace0-2b34256107c5",
   "metadata": {},
   "outputs": [],
   "source": [
    "import sympy\n",
    "from sympy import *\n",
    "from sympy.ntheory import binomial_coefficients_list\n",
    "from galgebra import *\n",
    "from galgebra.ga import Ga\n",
    "from galgebra.mv import cross\n",
    "from galgebra.printer import latex\n",
    "from IPython.display import Math\n",
    "\n",
    "# tell sympy to use latex printing by default\n",
    "sympy.init_printing(latex_printer=latex, use_latex=\"mathjax\")"
   ]
  },
  {
   "cell_type": "code",
   "execution_count": null,
   "id": "856b2451-3abc-4617-a1f1-ff87131fb39c",
   "metadata": {},
   "outputs": [],
   "source": [
    "xyz = (x, y, z) = sympy.symbols(\"x y z\", real=True)\n",
    "o3d = Ga(\"e_1 e_2 e_3\", g=[1, 1, 1], coords=xyz)"
   ]
  },
  {
   "cell_type": "code",
   "execution_count": null,
   "id": "f6501053-86ee-49ef-9e55-330f3bec97f1",
   "metadata": {},
   "outputs": [],
   "source": [
    "e1, e2, e3 = o3d.mv()\n",
    "(a1, a2, a3) = sympy.symbols(\"a1 a2 a3\", real=True)\n",
    "(b1, b2, b3) = sympy.symbols(\"b1 b2 b3\", real=True)\n",
    "(c1, c2, c3) = sympy.symbols(\"c1 c2 c3\", real=True)\n",
    "\n",
    "a = a1*e1 + a2*e2 + a3*e3\n",
    "b = b1*e1 + b2*e2 + b3*e3\n",
    "c = c1*e1 + c2*e2 + c3*e3"
   ]
  },
  {
   "cell_type": "markdown",
   "id": "51e75ab3-d8ee-47bf-964e-d67ad70c6f48",
   "metadata": {},
   "source": [
    "g_hkl derived using Vector Algebra\n",
    "----------------------------------\n",
    "\n",
    "following [_Thinking in Reciprocal Space_](https://link.springer.com/content/pdf/10.1007%2F978-0-387-76501-3_12.pdf)\n",
    "\n",
    "a, b, c define a unit cell\n",
    "\n",
    "a_r, b_r, c_r are the corresponding reciprocal vectors"
   ]
  },
  {
   "cell_type": "code",
   "execution_count": null,
   "id": "4269b8b2-5120-4cdc-9dcc-01a6466d8cca",
   "metadata": {},
   "outputs": [],
   "source": [
    "# real space lattice vector with integer coefficients\n",
    "n1, n2, n3 = sympy.symbols(\"n1 n2 n3\", integer=True, nonnegative=True)\n",
    "r = n1*a + n2*b + n3*c"
   ]
  },
  {
   "cell_type": "markdown",
   "id": "d61c0cae-e6a9-41e4-8302-15e4b548388b",
   "metadata": {},
   "source": [
    "Reciprocal vectors defined with the cross product"
   ]
  },
  {
   "cell_type": "code",
   "execution_count": null,
   "id": "c14548a8-092a-4590-91b7-70cddcdc8891",
   "metadata": {},
   "outputs": [],
   "source": [
    "a_r = cross(b, c) / (a|cross(b, c))\n",
    "b_r = cross(a, c) / (b|cross(a, c))\n",
    "c_r = cross(a, b) / (c|cross(a, b))"
   ]
  },
  {
   "cell_type": "markdown",
   "id": "139ace45-f9d2-4e78-918f-443f21f4cf1e",
   "metadata": {},
   "source": [
    "\"The directions of these new vectors are defined by the relations\" (_Thinking in Reciprocal Space_)"
   ]
  },
  {
   "cell_type": "code",
   "execution_count": null,
   "id": "6b715c91-1873-471a-83ad-3524f69db3fd",
   "metadata": {
    "tags": []
   },
   "outputs": [],
   "source": [
    "a_r|b, a_r|c, b_r|a, b_r|c, c_r|a, c_r|b"
   ]
  },
  {
   "cell_type": "markdown",
   "id": "720515c2-3059-4c92-a656-6ea9e163bdd0",
   "metadata": {},
   "source": [
    "\"We define the lengths of these vectors by another set of relations\" (_Thinking in Reciprocal Space_)"
   ]
  },
  {
   "cell_type": "code",
   "execution_count": null,
   "id": "67d342fe-4f38-461b-941f-4cd2ed13f967",
   "metadata": {},
   "outputs": [],
   "source": [
    "a_r|a, b_r|b, c_r|c"
   ]
  },
  {
   "cell_type": "code",
   "execution_count": null,
   "id": "199b6a50-4ad5-42e6-8f97-f22833f501b8",
   "metadata": {},
   "outputs": [],
   "source": [
    "h, k, l = symbols(\"h k l\", integer=True, nonnegative=True)\n",
    "g_hkl = h*a_r + k*b_r + l*c_r\n",
    "g_hkl"
   ]
  },
  {
   "cell_type": "code",
   "execution_count": null,
   "id": "d04c9092-a3c4-4d4d-9a28-22de5456b78b",
   "metadata": {},
   "outputs": [],
   "source": [
    "cubic_unit_cell = [(a1, 1), (a2, 0), (a3, 0), (b1, 0), (b2, 1), (b3, 0), (c1, 0), (c2, 0), (c3, 1)]"
   ]
  },
  {
   "cell_type": "code",
   "execution_count": null,
   "id": "5ad27f82-6a94-45b1-997b-b566ae7b7e50",
   "metadata": {},
   "outputs": [],
   "source": [
    "hkl_111 = [(h, 1), (k, 1), (l, 1)]"
   ]
  },
  {
   "cell_type": "code",
   "execution_count": null,
   "id": "b2ddfe4d-36e5-4a52-9a5c-3bfb99b2fe85",
   "metadata": {},
   "outputs": [],
   "source": [
    "# not exactly \"cubic\"\n",
    "g_hkl_cubic = g_hkl.subs([(a2, 0), (a3, 0), (b1, 0), (b3, 0), (c1, 0), (c2, 0)])\n",
    "g_hkl_cubic.simplify()"
   ]
  }
 ],
 "metadata": {
  "kernelspec": {
   "display_name": "Python 3",
   "language": "python",
   "name": "python3"
  },
  "language_info": {
   "codemirror_mode": {
    "name": "ipython",
    "version": 3
   },
   "file_extension": ".py",
   "mimetype": "text/x-python",
   "name": "python",
   "nbconvert_exporter": "python",
   "pygments_lexer": "ipython3",
   "version": "3.8.10"
  }
 },
 "nbformat": 4,
 "nbformat_minor": 5
}
