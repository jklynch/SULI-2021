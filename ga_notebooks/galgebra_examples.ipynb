{
 "cells": [
  {
   "cell_type": "code",
   "execution_count": 1,
   "id": "83b6e349-f6f8-4637-b15b-38061213e3c5",
   "metadata": {},
   "outputs": [],
   "source": [
    "import sympy\n",
    "from sympy import *\n",
    "from sympy.ntheory import binomial_coefficients_list\n",
    "from galgebra import *\n",
    "from galgebra.ga import Ga\n",
    "from galgebra.printer import latex\n",
    "from IPython.display import Math\n",
    "\n",
    "# tell sympy to use our printing by default\n",
    "sympy.init_printing(latex_printer=latex, use_latex='mathjax')"
   ]
  },
  {
   "cell_type": "code",
   "execution_count": 2,
   "id": "fd4dcf76-fffd-4ba9-b937-c9c291da5810",
   "metadata": {},
   "outputs": [],
   "source": [
    "xyz = (x, y, z) = sympy.symbols('x y z', real=True)\n",
    "o3d = Ga('e_1 e_2 e_3', g=[1, 1, 1], coords=xyz)\n",
    "grad = o3d.grad"
   ]
  },
  {
   "cell_type": "code",
   "execution_count": 3,
   "id": "86869b6c-3ae7-47b9-8a41-95661bc435ee",
   "metadata": {},
   "outputs": [],
   "source": [
    "e1, e2, e3 = o3d.mv()\n",
    "(a1, a2, a3) = sympy.symbols('a1 a2 a3', real=True)\n",
    "(b1, b2, b3) = sympy.symbols('b1 b2 b3', real=True)\n",
    "(c1, c2, c3) = sympy.symbols('c1 c2 c3', real=True)\n",
    "\n",
    "a = a1*e1 + a2*e2 + a3*e3\n",
    "b = b1*e1 + b2*e2 + b3*e3\n",
    "c = c1*e1 + c2*e2 + c3*e3"
   ]
  },
  {
   "cell_type": "code",
   "execution_count": 4,
   "id": "1ecb21e3-cb1a-49f7-8623-fe2ec04fbfc1",
   "metadata": {},
   "outputs": [
    {
     "data": {
      "text/latex": [
       "\\begin{equation*} 7 \\boldsymbol{e}_{1}\\wedge \\boldsymbol{e}_{2} \\end{equation*}"
      ],
      "text/plain": [
       "7*e_1^e_2"
      ]
     },
     "execution_count": 4,
     "metadata": {},
     "output_type": "execute_result"
    }
   ],
   "source": [
    "a.subs([(a1, 3), (a2, 1), (a3, 0)])^b.subs([(b1, 2), (b2, 3), (b3, 0)])"
   ]
  },
  {
   "cell_type": "code",
   "execution_count": 5,
   "id": "087d60f6-8557-4a71-b3aa-eb96638a3807",
   "metadata": {},
   "outputs": [
    {
     "data": {
      "text/latex": [
       "\\begin{equation*} -7 \\boldsymbol{e}_{1}\\wedge \\boldsymbol{e}_{2} \\end{equation*}"
      ],
      "text/plain": [
       "-7*e_1^e_2"
      ]
     },
     "execution_count": 5,
     "metadata": {},
     "output_type": "execute_result"
    }
   ],
   "source": [
    "b.subs([(b1, 2), (b2, 3), (b3, 0)])^a.subs([(a1, 3), (a2, 1), (a3, 0)])"
   ]
  },
  {
   "cell_type": "code",
   "execution_count": 6,
   "id": "854b7a2b-814b-432d-8190-aa5809f31681",
   "metadata": {},
   "outputs": [
    {
     "data": {
      "text/latex": [
       "\\begin{equation*} 2 \\boldsymbol{e}_{1}\\wedge \\boldsymbol{e}_{2} + 4 \\boldsymbol{e}_{1}\\wedge \\boldsymbol{e}_{3} + \\boldsymbol{e}_{2}\\wedge \\boldsymbol{e}_{3} \\end{equation*}"
      ],
      "text/plain": [
       "2*e_1^e_2 + 4*e_1^e_3 + e_2^e_3"
      ]
     },
     "execution_count": 6,
     "metadata": {},
     "output_type": "execute_result"
    }
   ],
   "source": [
    "a.subs([(a1, 2), (a2, 3), (a3, 5)])^b.subs([(b1, 2), (b2, 4), (b3, 7)])"
   ]
  },
  {
   "cell_type": "code",
   "execution_count": 7,
   "id": "96b1b8a7-4857-4fe3-acae-409b2278ac5b",
   "metadata": {},
   "outputs": [],
   "source": [
    "x = a.subs([(a1, 2), (a2, 3), (a3, 5)])^b.subs([(b1, 2), (b2, 4), (b3, 7)])"
   ]
  },
  {
   "cell_type": "code",
   "execution_count": 8,
   "id": "af77691c-a1fe-4d51-8a74-93fdba7c6740",
   "metadata": {},
   "outputs": [
    {
     "name": "stdout",
     "output_type": "stream",
     "text": [
      "2*e_1^e_2 + 4*e_1^e_3 + e_2^e_3\n"
     ]
    }
   ],
   "source": [
    "print(x)"
   ]
  },
  {
   "cell_type": "code",
   "execution_count": 9,
   "id": "27217691-f8e2-46eb-90a2-3852858494bd",
   "metadata": {},
   "outputs": [
    {
     "data": {
      "text/latex": [
       "$\\displaystyle \\sqrt{21}$"
      ],
      "text/plain": [
       "√21"
      ]
     },
     "execution_count": 9,
     "metadata": {},
     "output_type": "execute_result"
    }
   ],
   "source": [
    "x.norm()"
   ]
  },
  {
   "cell_type": "code",
   "execution_count": 10,
   "id": "da90f87e-b88e-4095-ac64-9a1b047d7ee7",
   "metadata": {},
   "outputs": [
    {
     "name": "stdout",
     "output_type": "stream",
     "text": [
      "21\n"
     ]
    }
   ],
   "source": [
    "y = x.norm()\n",
    "print(y**2)"
   ]
  },
  {
   "cell_type": "code",
   "execution_count": 11,
   "id": "dc597734-1d00-4de4-8df9-9440fa88d990",
   "metadata": {},
   "outputs": [
    {
     "data": {
      "text/latex": [
       "\\begin{equation*} \\left ( a_{1} b_{2} c_{3} - a_{1} b_{3} c_{2} - a_{2} b_{1} c_{3} + a_{2} b_{3} c_{1} + a_{3} b_{1} c_{2} - a_{3} b_{2} c_{1}\\right ) \\boldsymbol{e}_{1}\\wedge \\boldsymbol{e}_{2}\\wedge \\boldsymbol{e}_{3} \\end{equation*}"
      ],
      "text/plain": [
       "(a1*b2*c3 - a1*b3*c2 - a2*b1*c3 + a2*b3*c1 + a3*b1*c2 - a3*b2*c1)*e_1^e_2^e_3"
      ]
     },
     "execution_count": 11,
     "metadata": {},
     "output_type": "execute_result"
    }
   ],
   "source": [
    "a^b^c"
   ]
  },
  {
   "cell_type": "code",
   "execution_count": 12,
   "id": "95e3ef49-bc9c-4bf9-9d7f-c3f99416c895",
   "metadata": {},
   "outputs": [
    {
     "data": {
      "text/latex": [
       "\\begin{equation*} \\left ( a_{1} b_{1} + a_{2} b_{2} + a_{3} b_{3}\\right )  + \\left ( a_{1} b_{2} - a_{2} b_{1}\\right ) \\boldsymbol{e}_{1}\\wedge \\boldsymbol{e}_{2} + \\left ( a_{1} b_{3} - a_{3} b_{1}\\right ) \\boldsymbol{e}_{1}\\wedge \\boldsymbol{e}_{3} + \\left ( a_{2} b_{3} - a_{3} b_{2}\\right ) \\boldsymbol{e}_{2}\\wedge \\boldsymbol{e}_{3} \\end{equation*}"
      ],
      "text/plain": [
       "a1*b1 + a2*b2 + a3*b3 + (a1*b2 - a2*b1)*e_1^e_2 + (a1*b3 - a3*b1)*e_1^e_3 + (a2*b3 - a3*b2)*e_2^e_3"
      ]
     },
     "execution_count": 12,
     "metadata": {},
     "output_type": "execute_result"
    }
   ],
   "source": [
    "a*b"
   ]
  },
  {
   "cell_type": "code",
   "execution_count": 13,
   "id": "445e587e-d835-4268-884d-4ba439021049",
   "metadata": {},
   "outputs": [
    {
     "data": {
      "text/latex": [
       "$\\displaystyle \\left[ 1, \\  3, \\  3, \\  1\\right]$"
      ],
      "text/plain": [
       "[1, 3, 3, 1]"
      ]
     },
     "execution_count": 13,
     "metadata": {},
     "output_type": "execute_result"
    }
   ],
   "source": [
    "binomial_coefficients_list(3)"
   ]
  },
  {
   "cell_type": "code",
   "execution_count": 14,
   "id": "ad627fd4-b56f-4d21-a400-4b5b12d3128f",
   "metadata": {},
   "outputs": [
    {
     "data": {
      "text/latex": [
       "\\begin{equation*} 2  + 4 \\boldsymbol{e}_{1}\\wedge \\boldsymbol{e}_{2} \\end{equation*}"
      ],
      "text/plain": [
       "2 + 4*e_1^e_2"
      ]
     },
     "execution_count": 14,
     "metadata": {},
     "output_type": "execute_result"
    }
   ],
   "source": [
    "a.subs([(a1, 2), (a2, 0), (a3, 0)])*b.subs([(b1, 1), (b2, 2), (b3, 0)])"
   ]
  },
  {
   "cell_type": "code",
   "execution_count": 15,
   "id": "4b6933ce-1562-4d0d-9266-7316da1962a7",
   "metadata": {},
   "outputs": [
    {
     "data": {
      "text/latex": [
       "\\begin{equation*} 2  -4 \\boldsymbol{e}_{1}\\wedge \\boldsymbol{e}_{2} \\end{equation*}"
      ],
      "text/plain": [
       "2 - 4*e_1^e_2"
      ]
     },
     "execution_count": 15,
     "metadata": {},
     "output_type": "execute_result"
    }
   ],
   "source": [
    "a.subs([(a1, 1), (a2, 2), (a3, 0)])*b.subs([(b1, 2), (b2, 0), (b3, 0)])"
   ]
  },
  {
   "cell_type": "code",
   "execution_count": 16,
   "id": "cec32f7f-0ea1-4d00-ac28-d9bead889e19",
   "metadata": {},
   "outputs": [
    {
     "data": {
      "text/latex": [
       "$\\displaystyle \n",
       "\\begin{align}\n",
       "\\text{Grade 0:} && \\left<a\\right>_0 &=  0  \\\\\n",
       "\\text{Grade 1:} && \\left<a\\right>_1 &=  0  \\\\\n",
       "\\text{Grade 2:} && \\left<a\\right>_2 &=  0  \\\\\n",
       "\\text{Grade 3:} && \\left<a\\right>_3 &= 12 \\boldsymbol{e}_{1}\\wedge \\boldsymbol{e}_{2}\\wedge \\boldsymbol{e}_{3}\n",
       "\\end{align}\n",
       "$"
      ],
      "text/plain": [
       "<IPython.core.display.Math object>"
      ]
     },
     "execution_count": 16,
     "metadata": {},
     "output_type": "execute_result"
    }
   ],
   "source": [
    "a = 2 + 3*e1 + 2*e2 - 5*e1^e2 + 6*e1^e2^e3\n",
    "\n",
    "Math(fr'''\n",
    "\\begin{{align}}\n",
    "\\text{{Grade 0:}} && \\left<a\\right>_0 &= {latex(a.grade(0))} \\\\\n",
    "\\text{{Grade 1:}} && \\left<a\\right>_1 &= {latex(a.grade(1))} \\\\\n",
    "\\text{{Grade 2:}} && \\left<a\\right>_2 &= {latex(a.grade(2))} \\\\\n",
    "\\text{{Grade 3:}} && \\left<a\\right>_3 &= {latex(a.grade(3))}\n",
    "\\end{{align}}\n",
    "''')"
   ]
  },
  {
   "cell_type": "code",
   "execution_count": 17,
   "id": "d7c46b4c-d6dd-4680-8efe-4e76eb90a6fe",
   "metadata": {},
   "outputs": [],
   "source": [
    "a = a1*e1 + a2*e2 + a3*e3"
   ]
  },
  {
   "cell_type": "code",
   "execution_count": 18,
   "id": "706de8e1-2742-4f8f-9a15-7d4b0e516cbf",
   "metadata": {},
   "outputs": [
    {
     "data": {
      "text/latex": [
       "\\begin{equation*} a_{1} \\boldsymbol{e}_{1} + a_{2} \\boldsymbol{e}_{2} + a_{3} \\boldsymbol{e}_{3} \\end{equation*}"
      ],
      "text/plain": [
       "a1*e_1 + a2*e_2 + a3*e_3"
      ]
     },
     "execution_count": 18,
     "metadata": {},
     "output_type": "execute_result"
    }
   ],
   "source": [
    "a.rev()"
   ]
  },
  {
   "cell_type": "code",
   "execution_count": 19,
   "id": "75b53354-43c3-4d75-95e5-79589b8ef883",
   "metadata": {},
   "outputs": [],
   "source": [
    "a = 2 - 16*e1^e2"
   ]
  },
  {
   "cell_type": "code",
   "execution_count": 20,
   "id": "203538d5-0205-4edc-a453-34cbddd3bd50",
   "metadata": {},
   "outputs": [
    {
     "data": {
      "text/latex": [
       "\\begin{equation*} 2 \\boldsymbol{e}_{2} + 16 \\boldsymbol{e}_{1}\\wedge \\boldsymbol{e}_{2} \\end{equation*}"
      ],
      "text/plain": [
       "2*e_2 + 16*e_1^e_2"
      ]
     },
     "execution_count": 20,
     "metadata": {},
     "output_type": "execute_result"
    }
   ],
   "source": [
    "a.rev()"
   ]
  },
  {
   "cell_type": "code",
   "execution_count": 21,
   "id": "ee3cf550-c4ae-4b94-83de-ec077581e78f",
   "metadata": {},
   "outputs": [
    {
     "data": {
      "text/latex": [
       "\\begin{equation*} - \\frac{1}{126} \\boldsymbol{e}_{2} + \\frac{4}{63} \\boldsymbol{e}_{1}\\wedge \\boldsymbol{e}_{2} \\end{equation*}"
      ],
      "text/plain": [
       "-e_2/126 + 4*e_1^e_2/63"
      ]
     },
     "execution_count": 21,
     "metadata": {},
     "output_type": "execute_result"
    }
   ],
   "source": [
    "a.inv()"
   ]
  },
  {
   "cell_type": "code",
   "execution_count": 22,
   "id": "cfc398c9-e6eb-4917-97c3-fecec11d9b3e",
   "metadata": {},
   "outputs": [
    {
     "data": {
      "text/latex": [
       "\\begin{equation*}  \\boldsymbol{e}_{1} + 2 \\boldsymbol{e}_{2} \\end{equation*}"
      ],
      "text/plain": [
       "e_1 + 2*e_2"
      ]
     },
     "execution_count": 22,
     "metadata": {},
     "output_type": "execute_result"
    }
   ],
   "source": [
    "a = a1*e1 + a2*e2 + a3*e3\n",
    "a.subs([(a1, 1), (a2, 2), (a3, 0)])"
   ]
  },
  {
   "cell_type": "code",
   "execution_count": 23,
   "id": "d3571d3b-114a-46f9-b774-e33880ff0ddd",
   "metadata": {},
   "outputs": [
    {
     "data": {
      "text/latex": [
       "\\begin{equation*} 3 \\boldsymbol{e}_{1} + 2 \\boldsymbol{e}_{2} \\end{equation*}"
      ],
      "text/plain": [
       "3*e_1 + 2*e_2"
      ]
     },
     "execution_count": 23,
     "metadata": {},
     "output_type": "execute_result"
    }
   ],
   "source": [
    "b.subs([(b1, 3), (b2, 2), (b3, 0)])"
   ]
  },
  {
   "cell_type": "code",
   "execution_count": 25,
   "id": "67f03c1f-cce5-431b-a2db-19ff14aba282",
   "metadata": {},
   "outputs": [],
   "source": [
    "x = a.subs([(a1, 1), (a2, 2), (a3, 0)])*b.subs([(b1, 3), (b2, 2), (b3, 0)])"
   ]
  },
  {
   "cell_type": "code",
   "execution_count": 26,
   "id": "230e6dbe-d28d-496a-aa9a-f60157d67db8",
   "metadata": {},
   "outputs": [],
   "source": [
    "a = 1*e1 + 2*e2\n",
    "y = a.inv()"
   ]
  },
  {
   "cell_type": "code",
   "execution_count": 28,
   "id": "f43a97a3-24fe-4065-bb7d-ad1c2db21b43",
   "metadata": {},
   "outputs": [
    {
     "name": "stdout",
     "output_type": "stream",
     "text": [
      "e_1/5 + 2*e_2/5\n"
     ]
    }
   ],
   "source": [
    "print(y)"
   ]
  },
  {
   "cell_type": "code",
   "execution_count": 29,
   "id": "f53db885-0051-4a35-902d-aa93e46db9f0",
   "metadata": {},
   "outputs": [
    {
     "data": {
      "text/latex": [
       "\\begin{equation*} 3 \\boldsymbol{e}_{1} + 2 \\boldsymbol{e}_{2} \\end{equation*}"
      ],
      "text/plain": [
       "3*e_1 + 2*e_2"
      ]
     },
     "execution_count": 29,
     "metadata": {},
     "output_type": "execute_result"
    }
   ],
   "source": [
    "y*x"
   ]
  },
  {
   "cell_type": "code",
   "execution_count": 30,
   "id": "03439931-b85f-479f-8e28-e0adf2f3255b",
   "metadata": {},
   "outputs": [],
   "source": [
    "b = 3*e1 + 2*e2\n",
    "z = b.inv()"
   ]
  },
  {
   "cell_type": "code",
   "execution_count": 32,
   "id": "15691398-4121-4b2b-b015-e1d36df5c3c7",
   "metadata": {},
   "outputs": [
    {
     "data": {
      "text/latex": [
       "\\begin{equation*}  \\boldsymbol{e}_{1} + 2 \\boldsymbol{e}_{2} \\end{equation*}"
      ],
      "text/plain": [
       "e_1 + 2*e_2"
      ]
     },
     "execution_count": 32,
     "metadata": {},
     "output_type": "execute_result"
    }
   ],
   "source": [
    "x*z"
   ]
  },
  {
   "cell_type": "code",
   "execution_count": 33,
   "id": "b10c0ae2-90bd-488a-91b1-b8149751b41b",
   "metadata": {},
   "outputs": [
    {
     "data": {
      "text/latex": [
       "\\begin{equation*} -1 \\end{equation*}"
      ],
      "text/plain": [
       "-1"
      ]
     },
     "execution_count": 33,
     "metadata": {},
     "output_type": "execute_result"
    }
   ],
   "source": [
    "(e1^e2)**2"
   ]
  },
  {
   "cell_type": "code",
   "execution_count": 34,
   "id": "5a7afb84-aebe-4edd-a4f9-abd5a63da756",
   "metadata": {},
   "outputs": [
    {
     "data": {
      "text/latex": [
       "\\begin{equation*}  \\boldsymbol{e}_{2}\\wedge \\boldsymbol{e}_{3} \\end{equation*}"
      ],
      "text/plain": [
       "e_2^e_3"
      ]
     },
     "execution_count": 34,
     "metadata": {},
     "output_type": "execute_result"
    }
   ],
   "source": [
    "e1.dual()"
   ]
  },
  {
   "cell_type": "code",
   "execution_count": null,
   "id": "484cecdc-a676-4194-bede-c24f0794b26b",
   "metadata": {},
   "outputs": [],
   "source": []
  }
 ],
 "metadata": {
  "kernelspec": {
   "display_name": "Python 3",
   "language": "python",
   "name": "python3"
  },
  "language_info": {
   "codemirror_mode": {
    "name": "ipython",
    "version": 3
   },
   "file_extension": ".py",
   "mimetype": "text/x-python",
   "name": "python",
   "nbconvert_exporter": "python",
   "pygments_lexer": "ipython3",
   "version": "3.8.10"
  }
 },
 "nbformat": 4,
 "nbformat_minor": 5
}
