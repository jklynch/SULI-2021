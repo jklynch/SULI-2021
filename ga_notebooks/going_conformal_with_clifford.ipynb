{
 "cells": [
  {
   "cell_type": "code",
   "execution_count": null,
   "id": "92ae734b-6540-480d-9a28-a4cd8f2d376d",
   "metadata": {},
   "outputs": [],
   "source": [
    "import matplotlib.pyplot as plt\n",
    "from matplotlib.colors import CSS4_COLORS as colors\n",
    "\n",
    "import numpy as np\n",
    "\n",
    "import clifford\n",
    "\n",
    "%matplotlib widget"
   ]
  },
  {
   "cell_type": "code",
   "execution_count": null,
   "id": "d13eca99-6fa6-426f-af44-eee78c7b91ff",
   "metadata": {},
   "outputs": [],
   "source": [
    "G3, G3_blades = clifford.Cl(3)"
   ]
  },
  {
   "cell_type": "code",
   "execution_count": null,
   "id": "f1f73a4b-b5a5-433f-90ea-67cd85881f80",
   "metadata": {},
   "outputs": [],
   "source": [
    "G3"
   ]
  },
  {
   "cell_type": "code",
   "execution_count": null,
   "id": "b4f2c3ab-9cc5-4af3-937c-16473ab6fba2",
   "metadata": {},
   "outputs": [],
   "source": [
    "G3_blades"
   ]
  },
  {
   "cell_type": "code",
   "execution_count": null,
   "id": "63d3392f-07dd-46cb-90ac-573633b37a88",
   "metadata": {},
   "outputs": [],
   "source": [
    "G41, G41_blades, G41_extras = clifford.conformalize(G3)"
   ]
  },
  {
   "cell_type": "code",
   "execution_count": null,
   "id": "51759e87-6aa7-4948-b81e-7a77ce602692",
   "metadata": {},
   "outputs": [],
   "source": [
    "G41"
   ]
  },
  {
   "cell_type": "code",
   "execution_count": null,
   "id": "244dfac2-c3dc-404d-9267-0b6e10e79e06",
   "metadata": {},
   "outputs": [],
   "source": [
    "G41_blades"
   ]
  },
  {
   "cell_type": "code",
   "execution_count": null,
   "id": "abf7c4d0-d5d6-47a4-9b1a-6d8bb21a98b0",
   "metadata": {},
   "outputs": [],
   "source": [
    "G41_extras"
   ]
  },
  {
   "cell_type": "code",
   "execution_count": null,
   "id": "f8a3407c-6758-4b0d-aed5-90793c5dd9f3",
   "metadata": {},
   "outputs": [],
   "source": [
    "# put the G41 blades into the notebook namespace\n",
    "locals().update(G41_blades)\n",
    "# put the G41 extras into the notebook namespace\n",
    "locals().update(G41_extras)"
   ]
  },
  {
   "cell_type": "code",
   "execution_count": null,
   "id": "c07d20ec-e8a9-4f0d-b498-222a986372eb",
   "metadata": {},
   "outputs": [],
   "source": [
    "def plot_vector(ax, v, **kwargs):\n",
    "    # could also do something like this\n",
    "    # x, y, z = v.value[1:4]\n",
    "    # but that's less readable\n",
    "    x = v[e1]\n",
    "    y = v[e2]\n",
    "    z = v[e3]\n",
    "    ax.plot([0, x], [0, y], [0, z], **kwargs)"
   ]
  },
  {
   "cell_type": "code",
   "execution_count": null,
   "id": "adc68545-8f05-48bc-a3af-308476a1efed",
   "metadata": {},
   "outputs": [],
   "source": [
    "def make_plot_fancy(ax, axis_limits=None):\n",
    "    if axis_limits is None:\n",
    "        axis_limits = [-1, 1]\n",
    "    ax.set_xlabel(\"x\")\n",
    "    ax.set_ylabel(\"y\")\n",
    "    ax.set_zlabel(\"z\")\n",
    "    ax.set_xlim3d(axis_limits)\n",
    "    ax.set_ylim3d(axis_limits)\n",
    "    ax.set_zlim3d(axis_limits)\n",
    "    ax.set_box_aspect(aspect = (1,1,1))"
   ]
  },
  {
   "cell_type": "code",
   "execution_count": null,
   "id": "3bd916e6-c8af-42b1-9d3b-f3133aecd410",
   "metadata": {},
   "outputs": [],
   "source": [
    "# start with lattice vector a\n",
    "# make it parallel to e1\n",
    "a = 1*e1"
   ]
  },
  {
   "cell_type": "code",
   "execution_count": null,
   "id": "ca41da9a-6a18-4714-a0d1-8e901fdf00fc",
   "metadata": {},
   "outputs": [],
   "source": [
    "def make_rotor_with_vector(rotation_axis_vector, rotation_angle):\n",
    "    rotation_bivector = -e123*rotation_axis_vector\n",
    "    print(f\"rotation bivector: {rotation_bivector}\")\n",
    "    return np.e**(-(rotation_angle/2)*rotation_bivector)    "
   ]
  },
  {
   "cell_type": "code",
   "execution_count": null,
   "id": "a48a4e45-6b60-4b9f-ae3c-f78258fca297",
   "metadata": {},
   "outputs": [],
   "source": [
    "def make_rotor_with_bivector(rotation_plane_bivector, rotation_angle):\n",
    "    print(f\"rotation bivector: {rotation_plane_bivector}\")\n",
    "    return np.e**(-(rotation_angle/2)*rotation_plane_bivector)"
   ]
  },
  {
   "cell_type": "code",
   "execution_count": null,
   "id": "f1bf9337-fe36-485f-a636-f83080b60426",
   "metadata": {},
   "outputs": [],
   "source": [
    "# find a vector b making angle pi/5 with a, rotated in the e12 plane\n",
    "rotor_in_e12_36 = make_rotor_with_bivector(rotation_plane_bivector=e12, rotation_angle=np.pi/5)\n",
    "b = rotor_in_e12_36 * a * (~rotor_in_e12_36)\n",
    "ax = plt.figure().add_subplot(projection='3d')\n",
    "plot_vector(ax, a, c=colors[\"red\"])\n",
    "plot_vector(ax, b, c=colors[\"blue\"])\n",
    "make_plot_fancy(ax)"
   ]
  },
  {
   "cell_type": "code",
   "execution_count": null,
   "id": "6498dd8f-935d-433d-bcb3-a45f16b43825",
   "metadata": {},
   "outputs": [],
   "source": [
    "# find the cone of vectors making angle pi/6 with a\n",
    "# start by finding one such vector, call it c_a, by rotating\n",
    "# a vector parallel to a by pi/6 in the e12 plane\n",
    "rotor_in_e12_30 = make_rotor_with_bivector(rotation_plane_bivector=e12, rotation_angle=np.pi/6)\n",
    "print(f\"rotor in e12 30: {rotor_in_e12_30}\")\n",
    "c_a = rotor_in_e12_30 * a * (~rotor_in_e12_30)\n",
    "\n",
    "# now make a rotor to rotate vectors around a\n",
    "rotor_around_a = make_rotor_with_vector(rotation_axis_vector=a, rotation_angle=(2*np.pi)/50)\n",
    "print(f\"rotor around a: {rotor_around_a}\")\n",
    "\n",
    "c_a_cone = []\n",
    "c_a_i = c_a\n",
    "for i in range(50):\n",
    "    c_a_cone.append(c_a_i)\n",
    "    c_a_i = rotor_around_a * c_a_i * (~rotor_around_a)\n",
    "\n",
    "ax = plt.figure().add_subplot(projection='3d')\n",
    "for c_a_i in c_a_cone:\n",
    "    plot_vector(ax, c_a_i, c=colors[\"seagreen\"])\n",
    "plot_vector(ax, a, c=colors[\"red\"])\n",
    "plot_vector(ax, c_a_cone[0], c=colors[\"orange\"])\n",
    "make_plot_fancy(ax)"
   ]
  },
  {
   "cell_type": "code",
   "execution_count": null,
   "id": "f045c6e1-cb7d-4f29-8677-218d1de07d31",
   "metadata": {},
   "outputs": [],
   "source": [
    "# find the cone of vectors making angle pi/3 with b\n",
    "# start by finding one such vector, call it c_b, by rotating\n",
    "# a vector parallel to b by pi/3 in the e12 plane\n",
    "rotor_in_e12_60 = make_rotor_with_bivector(rotation_plane_bivector=e12, rotation_angle=np.pi/3)\n",
    "print(f\"rotor in e12 60: {rotor_in_e12_60}\")\n",
    "c_b = rotor_in_e12_60 * b * (~rotor_in_e12_60)\n",
    "\n",
    "# now make a rotor to rotate vectors around b\n",
    "rotor_around_b = make_rotor_with_vector(rotation_axis_vector=b, rotation_angle=(2*np.pi)/50)\n",
    "print(f\"rotor around b: {rotor_around_b}\")\n",
    "\n",
    "c_b_cone = []\n",
    "c_b_i = c_b\n",
    "for i in range(50):\n",
    "    c_b_cone.append(c_b_i)\n",
    "    c_b_i = rotor_around_b * c_b_i * (~rotor_around_b)\n",
    "\n",
    "ax = plt.figure().add_subplot(projection='3d')\n",
    "for c_b_i in c_b_cone:\n",
    "    plot_vector(ax, c_b_i, c=colors[\"seagreen\"])\n",
    "plot_vector(ax, b, c=colors[\"blue\"])\n",
    "plot_vector(ax, c_b_cone[0], c=colors[\"purple\"])\n",
    "make_plot_fancy(ax)"
   ]
  },
  {
   "cell_type": "code",
   "execution_count": null,
   "id": "5f1f328b-d4ee-468b-8ed0-13f79356877c",
   "metadata": {},
   "outputs": [],
   "source": [
    "def plot_point(ax, v, **kwargs):\n",
    "    ax.scatter(v[e1], v[e2], float(v[e3]), **kwargs)"
   ]
  },
  {
   "cell_type": "code",
   "execution_count": null,
   "id": "b24fa99c-79cc-43b4-9e3b-bc3c899b67b6",
   "metadata": {},
   "outputs": [],
   "source": [
    "# plot c_a and c_b circles\n",
    "ax = plt.figure().add_subplot(projection='3d')\n",
    "for c_a_i in c_a_cone:\n",
    "    plot_point(ax, c_a_i, c=colors[\"orange\"])\n",
    "for c_b_i in c_b_cone:\n",
    "    plot_point(ax, c_b_i, c=colors[\"purple\"])\n",
    "plot_vector(ax, a, c=colors[\"red\"])\n",
    "plot_vector(ax, b, c=colors[\"blue\"])\n",
    "make_plot_fancy(ax)"
   ]
  },
  {
   "cell_type": "code",
   "execution_count": null,
   "id": "6d724108-5d2d-4796-bbc6-f6693918a23b",
   "metadata": {},
   "outputs": [],
   "source": [
    "# find circle C_a\n",
    "C_a = up(c_a_cone[0]) ^ up(c_a_cone[5]) ^ up(c_a_cone[10])\n",
    "C_a = C_a.normal()\n",
    "C_a"
   ]
  },
  {
   "cell_type": "code",
   "execution_count": null,
   "id": "357fe598-c653-450d-b22f-1f3485960d33",
   "metadata": {},
   "outputs": [],
   "source": [
    "# find circle C_b\n",
    "C_b = up(c_b_cone[0]) ^ up(c_b_cone[5]) ^ up(c_b_cone[10])\n",
    "C_b = C_b.normal()\n",
    "C_b"
   ]
  },
  {
   "cell_type": "code",
   "execution_count": null,
   "id": "03b305c6-6619-4fae-a4b8-9b1d92b01a2b",
   "metadata": {},
   "outputs": [],
   "source": [
    "# intersection of C_a and C_b ?\n",
    "X = (C_a.dual() * C_b.dual())\n",
    "X = X.normal()\n",
    "X"
   ]
  },
  {
   "cell_type": "code",
   "execution_count": null,
   "id": "994b5266-101c-46b1-a8f0-2ea20ac3226f",
   "metadata": {},
   "outputs": [],
   "source": [
    "#pip install mpl_toolkits.clifford\n",
    "from mpl_toolkits.clifford import plot"
   ]
  },
  {
   "cell_type": "code",
   "execution_count": null,
   "id": "312155d9-ce62-4bd3-adc2-09457e9ce66c",
   "metadata": {},
   "outputs": [],
   "source": [
    "ax = plt.figure().add_subplot(projection='3d')\n",
    "plot(ax, C_a, color=colors[\"orange\"])\n",
    "plot(ax, C_b, color=colors[\"purple\"])\n",
    "PP = C_a.meet(C_b)\n",
    "plot(ax, PP, color=colors[\"indigo\"])\n",
    "plot_vector(ax, a, c=colors[\"red\"])\n",
    "plot_vector(ax, b, c=colors[\"blue\"])\n",
    "make_plot_fancy(ax)"
   ]
  },
  {
   "cell_type": "code",
   "execution_count": null,
   "id": "3669a7f3-0c3c-4a94-825c-c4fea86de2b3",
   "metadata": {},
   "outputs": [],
   "source": []
  }
 ],
 "metadata": {
  "kernelspec": {
   "display_name": "Python 3",
   "language": "python",
   "name": "python3"
  },
  "language_info": {
   "codemirror_mode": {
    "name": "ipython",
    "version": 3
   },
   "file_extension": ".py",
   "mimetype": "text/x-python",
   "name": "python",
   "nbconvert_exporter": "python",
   "pygments_lexer": "ipython3",
   "version": "3.8.10"
  }
 },
 "nbformat": 4,
 "nbformat_minor": 5
}
