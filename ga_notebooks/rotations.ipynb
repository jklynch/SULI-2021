{
 "cells": [
  {
   "cell_type": "code",
   "execution_count": 1,
   "id": "8695189a-a65b-4975-8a20-68617fd555df",
   "metadata": {},
   "outputs": [],
   "source": [
    "import sympy\n",
    "from sympy import *\n",
    "from sympy.ntheory import binomial_coefficients_list\n",
    "from galgebra import *\n",
    "from galgebra.ga import Ga\n",
    "from galgebra.printer import latex\n",
    "from IPython.display import Math\n",
    "\n",
    "# tell sympy to use our printing by default\n",
    "sympy.init_printing(latex_printer=latex, use_latex='mathjax')"
   ]
  },
  {
   "cell_type": "code",
   "execution_count": 2,
   "id": "6dbca9c0-f944-4744-a410-831b9cd8fa83",
   "metadata": {},
   "outputs": [],
   "source": [
    "xyz = (x, y, z) = sympy.symbols('x y z', real=True)\n",
    "o3d = Ga('e_1 e_2 e_3', g=[1, 1, 1], coords=xyz)\n",
    "grad = o3d.grad"
   ]
  },
  {
   "cell_type": "code",
   "execution_count": 3,
   "id": "e95eb7c3-3af9-415e-a7d2-dd43bb9ee652",
   "metadata": {},
   "outputs": [],
   "source": [
    "e1, e2, e3 = o3d.mv()\n",
    "(a1, a2, a3) = sympy.symbols('a1 a2 a3', real=True)\n",
    "(b1, b2, b3) = sympy.symbols('b1 b2 b3', real=True)\n",
    "(c1, c2, c3) = sympy.symbols('c1 c2 c3', real=True)\n",
    "p, m, f, n, w, v, s, t, h, k, l = sympy.symbols('p m f n w v s t h k l')\n",
    "mh, nh, pr = sympy.symbols('mh nh pr')\n",
    "\n",
    "a = a1*e1 + a2*e2 + a3*e3\n",
    "b = b1*e1 + b2*e2 + b3*e3\n",
    "c = c1*e1 + c2*e2 + c3*e3"
   ]
  },
  {
   "cell_type": "code",
   "execution_count": 4,
   "id": "da5ab5ad-4e85-4d7b-9aab-b04b23c3377c",
   "metadata": {},
   "outputs": [
    {
     "data": {
      "text/latex": [
       "\\begin{equation*}  \\boldsymbol{e}_{1} + \\boldsymbol{e}_{2} - \\boldsymbol{e}_{3} \\end{equation*}"
      ],
      "text/plain": [
       "e_1 + e_2 - e_3"
      ]
     },
     "execution_count": 4,
     "metadata": {},
     "output_type": "execute_result"
    }
   ],
   "source": [
    "a.subs([(a1, 1), (a2, 1), (a3, -1)])"
   ]
  },
  {
   "cell_type": "code",
   "execution_count": 5,
   "id": "502b37c7-3784-4695-a07d-f01f12e376cb",
   "metadata": {},
   "outputs": [],
   "source": [
    "mh = e2"
   ]
  },
  {
   "cell_type": "code",
   "execution_count": null,
   "id": "ef49a9bc-166b-48d0-bdc9-3ef05615e661",
   "metadata": {},
   "outputs": [],
   "source": [
    "ar = mh*a*mh"
   ]
  },
  {
   "cell_type": "markdown",
   "id": "a21b9636-bb7c-46c8-96b0-af600737b9ff",
   "metadata": {},
   "source": [
    "Example on pg. 105 (uses a vector mirror)"
   ]
  },
  {
   "cell_type": "code",
   "execution_count": 7,
   "id": "fc7cbfbd-f1b8-4cfd-99d7-36e9dd65fb6b",
   "metadata": {},
   "outputs": [
    {
     "data": {
      "text/latex": [
       "\\begin{equation*} - \\boldsymbol{e}_{1} + \\boldsymbol{e}_{2} + \\boldsymbol{e}_{3} \\end{equation*}"
      ],
      "text/plain": [
       "-e_1 + e_2 + e_3"
      ]
     },
     "execution_count": 7,
     "metadata": {},
     "output_type": "execute_result"
    }
   ],
   "source": [
    "ar.subs([(a1, 1), (a2, 1), (a3, -1)])"
   ]
  },
  {
   "cell_type": "code",
   "execution_count": 8,
   "id": "1b1656a9-e060-4676-a3b1-fd75d2dfccbb",
   "metadata": {},
   "outputs": [],
   "source": [
    "Bh = e3^e1"
   ]
  },
  {
   "cell_type": "code",
   "execution_count": 9,
   "id": "38144194-8a1b-43dd-b7c0-0fe7ec194d80",
   "metadata": {},
   "outputs": [],
   "source": [
    "Bd = Bh.dual()"
   ]
  },
  {
   "cell_type": "code",
   "execution_count": 10,
   "id": "3e102c1a-0834-429a-b42e-d248fb978b3d",
   "metadata": {},
   "outputs": [],
   "source": [
    "ar = Bd*a*Bd"
   ]
  },
  {
   "cell_type": "markdown",
   "id": "d8652634-386e-4aa9-8c0a-22c7a91fc68a",
   "metadata": {},
   "source": [
    "Example on pg. 105 (uses a bivector mirror)"
   ]
  },
  {
   "cell_type": "code",
   "execution_count": 11,
   "id": "fd7f4011-0409-4df1-b385-517a18e87059",
   "metadata": {},
   "outputs": [
    {
     "data": {
      "text/latex": [
       "\\begin{equation*} - \\boldsymbol{e}_{1} + \\boldsymbol{e}_{2} + \\boldsymbol{e}_{3} \\end{equation*}"
      ],
      "text/plain": [
       "-e_1 + e_2 + e_3"
      ]
     },
     "execution_count": 11,
     "metadata": {},
     "output_type": "execute_result"
    }
   ],
   "source": [
    "ar.subs([(a1, 1), (a2, 1), (a3, -1)])"
   ]
  },
  {
   "cell_type": "code",
   "execution_count": 12,
   "id": "21b4c078-b7f2-48d3-8653-f9fd5ff76a57",
   "metadata": {},
   "outputs": [],
   "source": [
    "mh = e2\n",
    "B = e1^e2"
   ]
  },
  {
   "cell_type": "code",
   "execution_count": 13,
   "id": "9bcc5699-9ccd-4a3a-bb98-54fb941eba69",
   "metadata": {},
   "outputs": [],
   "source": [
    "Br = mh*B*mh"
   ]
  },
  {
   "cell_type": "code",
   "execution_count": 14,
   "id": "90472b9e-bad1-47cc-921d-51f8022c1e56",
   "metadata": {},
   "outputs": [
    {
     "name": "stdout",
     "output_type": "stream",
     "text": [
      "-e_1^e_2\n"
     ]
    }
   ],
   "source": [
    "print(Br)"
   ]
  },
  {
   "cell_type": "code",
   "execution_count": 15,
   "id": "7b7ab952-548b-46c4-ab12-0efa449b95a2",
   "metadata": {},
   "outputs": [],
   "source": [
    "B = a^b"
   ]
  },
  {
   "cell_type": "code",
   "execution_count": 16,
   "id": "8ab89b1b-977a-4517-be34-29ce4157802b",
   "metadata": {},
   "outputs": [],
   "source": [
    "mh = e3"
   ]
  },
  {
   "cell_type": "code",
   "execution_count": 17,
   "id": "59e6f98b-bd36-4f14-af29-6fd8c4c5cac0",
   "metadata": {},
   "outputs": [],
   "source": [
    "Br = mh*B*mh"
   ]
  },
  {
   "cell_type": "markdown",
   "id": "4d5d6fc1-75da-487d-b2a1-96d883fb738f",
   "metadata": {},
   "source": [
    "Example on pg. 110"
   ]
  },
  {
   "cell_type": "code",
   "execution_count": 18,
   "id": "406fb431-4723-4606-b30a-21dcc6543316",
   "metadata": {},
   "outputs": [
    {
     "data": {
      "text/latex": [
       "\\begin{equation*} -2 \\boldsymbol{e}_{1}\\wedge \\boldsymbol{e}_{2} -4 \\boldsymbol{e}_{2}\\wedge \\boldsymbol{e}_{3} \\end{equation*}"
      ],
      "text/plain": [
       "-2*e_1^e_2 - 4*e_2^e_3"
      ]
     },
     "execution_count": 18,
     "metadata": {},
     "output_type": "execute_result"
    }
   ],
   "source": [
    "Br.subs([(a1, 1), (a2, 2), (a3, 2), (b1, 1), (b2, 0), (b3, 2)])"
   ]
  },
  {
   "cell_type": "code",
   "execution_count": 19,
   "id": "3a76ee75-247c-467a-bb2f-d039fdc48ce5",
   "metadata": {},
   "outputs": [],
   "source": [
    "(p1, p2, p3) = sympy.symbols('p1 p2 p3', real=True)\n",
    "(m1, m2, m3) = sympy.symbols('m1 m2 m3', real=True)\n",
    "(n1, n2, n3) = sympy.symbols('n1 n2 n3', real=True)\n",
    "\n",
    "p = p1*e1 + p2*e2 + p3*e3\n",
    "mh = m1*e1 + m2*e2 + m3*e3\n",
    "nh = n1*e1 + n2*e2 + n3*e3"
   ]
  },
  {
   "cell_type": "code",
   "execution_count": 20,
   "id": "7a5683e3-ed69-4019-9ca1-ee3f327fd0a3",
   "metadata": {},
   "outputs": [],
   "source": [
    "pr = nh*mh*p*mh*nh"
   ]
  },
  {
   "cell_type": "markdown",
   "id": "3f35e5cd-bc44-4241-8557-45cf532b353a",
   "metadata": {},
   "source": [
    ">Example found on pg. 114"
   ]
  },
  {
   "cell_type": "code",
   "execution_count": 21,
   "id": "bcf4d7f9-67ab-4729-b00f-c70cf535f637",
   "metadata": {},
   "outputs": [
    {
     "data": {
      "text/latex": [
       "\\begin{equation*} - \\boldsymbol{e}_{1} + \\boldsymbol{e}_{2} \\end{equation*}"
      ],
      "text/plain": [
       "-e_1 + e_2"
      ]
     },
     "execution_count": 21,
     "metadata": {},
     "output_type": "execute_result"
    }
   ],
   "source": [
    "pr.subs([(p1, 1), (p2, -1), (p3, 0), (m1, 0), (m2, 1), (m3, 0), (n1, -1), (n2, 0), (n3, 0)])"
   ]
  },
  {
   "cell_type": "markdown",
   "id": "69ccf529-ea64-4be7-adcf-46bf5222eb9e",
   "metadata": {},
   "source": [
    ">Example found on pg. 116"
   ]
  },
  {
   "cell_type": "code",
   "execution_count": 22,
   "id": "fd6564a9-77eb-449a-b85d-1894a3861d27",
   "metadata": {},
   "outputs": [
    {
     "data": {
      "text/latex": [
       "\\begin{equation*}  \\boldsymbol{e}_{2} + \\boldsymbol{e}_{3} \\end{equation*}"
      ],
      "text/plain": [
       "e_2 + e_3"
      ]
     },
     "execution_count": 22,
     "metadata": {},
     "output_type": "execute_result"
    }
   ],
   "source": [
    "pr.subs([(p1, 1), (p2, 1), (p3, 0), (m1, 1/sqrt(2)), (m2, 0), (m3, -1/sqrt(2)) , (n1, 0), (n2, 1/sqrt(2)), (n3, -1/sqrt(2))])"
   ]
  },
  {
   "cell_type": "code",
   "execution_count": null,
   "id": "ef0009e1-cce5-4f9c-900f-b34ac7217c10",
   "metadata": {},
   "outputs": [],
   "source": []
  }
 ],
 "metadata": {
  "kernelspec": {
   "display_name": "Python 3",
   "language": "python",
   "name": "python3"
  },
  "language_info": {
   "codemirror_mode": {
    "name": "ipython",
    "version": 3
   },
   "file_extension": ".py",
   "mimetype": "text/x-python",
   "name": "python",
   "nbconvert_exporter": "python",
   "pygments_lexer": "ipython3",
   "version": "3.8.10"
  }
 },
 "nbformat": 4,
 "nbformat_minor": 5
}
