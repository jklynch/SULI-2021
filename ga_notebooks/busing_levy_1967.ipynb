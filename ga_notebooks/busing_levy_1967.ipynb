{
 "cells": [
  {
   "cell_type": "markdown",
   "id": "8f0de448-5833-4dda-aefa-d8594bf144e6",
   "metadata": {},
   "source": [
    "[the paper](https://onlinelibrary.wiley.com/doi/10.1107/S0365110X67000970)"
   ]
  },
  {
   "cell_type": "code",
   "execution_count": null,
   "id": "c647cd17-16c8-4c1c-9957-878a64891cc1",
   "metadata": {},
   "outputs": [],
   "source": [
    "import matplotlib.pyplot as plt\n",
    "import numpy as np\n",
    "\n",
    "import sympy\n",
    "from sympy import *\n",
    "from sympy.ntheory import binomial_coefficients_list\n",
    "from galgebra import *\n",
    "from galgebra.ga import Ga\n",
    "from galgebra.mv import cross\n",
    "from galgebra.printer import latex\n",
    "from IPython.display import Math\n",
    "\n",
    "# tell sympy to use latex printing by default\n",
    "sympy.init_printing(latex_printer=latex, use_latex=\"mathjax\")\n",
    "\n",
    "# use galgebra vectors and operations even though\n",
    "# everything in this notebook will be vector algebra\n",
    "xyz = (x, y, z) = sympy.symbols(\"x y z\", real=True)\n",
    "o3d = Ga(\"e_1 e_2 e_3\", g=[1, 1, 1], coords=xyz)\n",
    "\n",
    "%matplotlib widget"
   ]
  },
  {
   "cell_type": "markdown",
   "id": "ae7c52a8-07d6-40a6-bba4-3f9c87bc0017",
   "metadata": {},
   "source": [
    "# Definition of diffractometer angles"
   ]
  },
  {
   "cell_type": "markdown",
   "id": "7de55db7-b217-4983-bbd7-fc4cf25f84ff",
   "metadata": {},
   "source": [
    "define lattice vectors (a1, a2, a3) and reciprocal lattice vectors (b1, b2, b3)"
   ]
  },
  {
   "cell_type": "code",
   "execution_count": null,
   "id": "485a494b-e606-4dc5-b8dc-f38ee5347d0a",
   "metadata": {},
   "outputs": [],
   "source": [
    "e1, e2, e3 = o3d.mv()\n",
    "(a1_1, a1_2, a1_3) = sympy.symbols(\"a1_1 a1_2 a1_3\", real=True)\n",
    "(a2_1, a2_2, a2_3) = sympy.symbols(\"a2_1 a2_2 a2_3\", real=True)\n",
    "(a3_1, a3_2, a3_3) = sympy.symbols(\"a3_1 a3_2 a3_3\", real=True)\n",
    "\n",
    "a1 = a1_1*e1 + a1_2*e2 + a1_3*e3\n",
    "a2 = a2_1*e1 + a2_2*e2 + a2_3*e3\n",
    "a3 = a3_1*e1 + a3_2*e2 + a3_3*e3\n",
    "\n",
    "b1 = cross(a2, a3) / (a1|cross(a2, a3))\n",
    "b2 = cross(a3, a1) / (a2|cross(a3, a1))\n",
    "b3 = cross(a1, a2) / (a3|cross(a1, a2))\n",
    "\n",
    "def get_vector_coefficients(multivector):\n",
    "    # return only the coefficients of e1, e2, e3\n",
    "    return [c for c in multivector.blade_coefs()[1:4]]\n",
    "\n",
    "b1_1, b1_2, b1_3 = get_vector_coefficients(b1)\n",
    "b2_1, b2_2, b2_3 = get_vector_coefficients(b2)\n",
    "b3_1, b3_2, b3_3 = get_vector_coefficients(b3)"
   ]
  },
  {
   "cell_type": "markdown",
   "id": "09e4c46c-2eca-4d9a-9144-dc2302ed3e60",
   "metadata": {},
   "source": [
    "define angles between lattice vectors (alpha1, alpha2, alpha3)"
   ]
  },
  {
   "cell_type": "code",
   "execution_count": null,
   "id": "4a5f31d3-4e59-4f8c-88b3-706405bc4df8",
   "metadata": {},
   "outputs": [],
   "source": [
    "alpha1 = acos( (a2|a3).obj / (a2.norm()*a3.norm()) )\n",
    "alpha2 = acos( (a3|a1).obj / (a3.norm()*a1.norm()) )\n",
    "alpha3 = acos( (a1|a2).obj / (a1.norm()*a2.norm()) )"
   ]
  },
  {
   "cell_type": "code",
   "execution_count": null,
   "id": "b81c3a70-e4bf-4eff-bcac-ad344d8d6e8d",
   "metadata": {},
   "outputs": [],
   "source": [
    "alpha1"
   ]
  },
  {
   "cell_type": "markdown",
   "id": "eb70b747-1e81-445b-92e3-0582380c4cf3",
   "metadata": {},
   "source": [
    "define angles between reciprocal lattice vectors (beta1, beta2, beta3)"
   ]
  },
  {
   "cell_type": "code",
   "execution_count": null,
   "id": "73f78b22-a913-4141-a030-bbc1537a3616",
   "metadata": {},
   "outputs": [],
   "source": [
    "# norm2() is used here because norm() would not work with \n",
    "# the reciprocal lattice vectors (why?)\n",
    "beta1 = acos( (b2|b3).obj / sqrt(b2.norm2()*b3.norm2()) )\n",
    "beta2 = acos( (b3|b1).obj / sqrt(b3.norm2()*b1.norm2()) )\n",
    "beta3 = acos( (b1|b2).obj / sqrt(b1.norm2()*b2.norm2()) )"
   ]
  },
  {
   "cell_type": "code",
   "execution_count": null,
   "id": "4dc05e50-0f5b-4a84-a726-2739d62f225e",
   "metadata": {},
   "outputs": [],
   "source": [
    "# just trying to make b1.norm2() look nice\n",
    "sqrt(factor(simplify(b1.norm2())))"
   ]
  },
  {
   "cell_type": "code",
   "execution_count": null,
   "id": "807d1a15-9dfa-4a9a-8ed5-901a8c1ca8de",
   "metadata": {},
   "outputs": [],
   "source": [
    "simplify(b1_1)"
   ]
  },
  {
   "cell_type": "code",
   "execution_count": null,
   "id": "d7d201a2-e670-4a6f-bab6-49828d8eff97",
   "metadata": {},
   "outputs": [],
   "source": [
    "simplify(b1_2)"
   ]
  },
  {
   "cell_type": "code",
   "execution_count": null,
   "id": "59b82aa4-c5e5-438c-b9a6-c9e605c86be6",
   "metadata": {},
   "outputs": [],
   "source": [
    "simplify(b1_3)"
   ]
  },
  {
   "cell_type": "code",
   "execution_count": null,
   "id": "dd90c1d8-1a5b-46ce-adb0-32015f385b37",
   "metadata": {},
   "outputs": [],
   "source": [
    "simplify(b2_1)"
   ]
  },
  {
   "cell_type": "code",
   "execution_count": null,
   "id": "b413ef76-932c-457b-9775-80a1849fb73c",
   "metadata": {},
   "outputs": [],
   "source": [
    "simplify(b2_2)"
   ]
  },
  {
   "cell_type": "code",
   "execution_count": null,
   "id": "f7d296f0-9401-4ffa-a34a-5e1fd577106e",
   "metadata": {},
   "outputs": [],
   "source": [
    "simplify(b2_3)"
   ]
  },
  {
   "cell_type": "code",
   "execution_count": null,
   "id": "5df13891-797e-46ec-8da6-4380c13569b2",
   "metadata": {},
   "outputs": [],
   "source": [
    "simplify(b3_1)"
   ]
  },
  {
   "cell_type": "code",
   "execution_count": null,
   "id": "4f76b540-20e4-4a3e-9704-017c7342632d",
   "metadata": {},
   "outputs": [],
   "source": [
    "b3_2 = simplify(b3_2)\n",
    "b3_2"
   ]
  },
  {
   "cell_type": "code",
   "execution_count": null,
   "id": "040698b6-6a47-494c-aaed-3b6945b31b6f",
   "metadata": {},
   "outputs": [],
   "source": [
    "b3_3 = simplify(b3_3)\n",
    "b3_3"
   ]
  },
  {
   "cell_type": "code",
   "execution_count": null,
   "id": "567a7c45-8b8f-4ed2-8206-15b53eff8527",
   "metadata": {},
   "outputs": [],
   "source": [
    "def plot_lattice_vectors(u1, u2, u3, ax):\n",
    "    # place u1, u2, u3 at the origin\n",
    "\n",
    "    # draw a line from (x01, x02, x03) to (x11, x12, x13)\n",
    "    # put coordinates into an array like this\n",
    "    #   x01  x11\n",
    "    #   x02  x12\n",
    "    #   x03  x13\n",
    "    u1_coords = np.zeros((3, 2))\n",
    "    u1_coords[:, 1] = get_vector_coefficients(u1)\n",
    "    u2_coords = np.zeros((3, 2))\n",
    "    u2_coords[:, 1] = get_vector_coefficients(u2)\n",
    "    u3_coords = np.zeros((3, 2))\n",
    "    u3_coords[:, 1] = get_vector_coefficients(u3)\n",
    "\n",
    "    ax.plot(u1_coords[0, :], u1_coords[1, :], u1_coords[2, :], c='r')\n",
    "    ax.plot(u2_coords[0, :], u2_coords[1, :], u2_coords[2, :], c='g')\n",
    "    ax.plot(u3_coords[0, :], u3_coords[1, :], u3_coords[2, :], c='b')\n"
   ]
  },
  {
   "cell_type": "code",
   "execution_count": null,
   "id": "7af893fa-e0fa-4741-849d-0cb41ae7084f",
   "metadata": {},
   "outputs": [],
   "source": [
    "cubic_lattice = [\n",
    "    (a1_1, 2), (a1_2, 0), (a1_3, 0),\n",
    "    (a2_1, 0), (a2_2, 2), (a2_3, 0),\n",
    "    (a3_1, 0), (a3_2, 0), (a3_3, 2),\n",
    "]\n",
    "cubic_a1 = a1.subs(cubic_lattice)\n",
    "cubic_a2 = a2.subs(cubic_lattice)\n",
    "cubic_a3 = a3.subs(cubic_lattice)\n",
    "\n",
    "ax = plt.figure().add_subplot(projection='3d')\n",
    "plot_lattice_vectors(cubic_a1, cubic_a2, cubic_a3, ax)\n",
    "ax.xlim = [0, 2]\n",
    "ax.ylim = ax.xlim\n",
    "ax.zlim = ax.xlim\n",
    "plt.show()"
   ]
  },
  {
   "cell_type": "code",
   "execution_count": null,
   "id": "5fca75a3-f7f9-4ba2-89e4-6e112646d865",
   "metadata": {},
   "outputs": [],
   "source": []
  },
  {
   "cell_type": "markdown",
   "id": "881fa4b8-e229-416e-8caa-580c2fcde8cc",
   "metadata": {},
   "source": [
    "do some tests"
   ]
  },
  {
   "cell_type": "code",
   "execution_count": null,
   "id": "1a0a003e-7581-49a7-a512-d9c691340261",
   "metadata": {},
   "outputs": [],
   "source": [
    "print(f\"alpha_1: {alpha1.subs(cubic_lattice).evalf()}\")\n",
    "print(f\"alpha_2: {alpha2.subs(cubic_lattice).evalf()}\")\n",
    "print(f\"alpha_3: {alpha3.subs(cubic_lattice).evalf()}\")"
   ]
  },
  {
   "cell_type": "code",
   "execution_count": null,
   "id": "1cf8f51f-5114-4ef5-9cd1-81f62e6b0462",
   "metadata": {},
   "outputs": [],
   "source": [
    "cubic_b1 = b1.subs(cubic_lattice)\n",
    "cubic_b2 = b2.subs(cubic_lattice)\n",
    "cubic_b3 = b3.subs(cubic_lattice)\n",
    "\n",
    "ax = plt.figure().add_subplot(projection='3d')\n",
    "plot_lattice_vectors(cubic_b1, cubic_b2, cubic_b3, ax)\n",
    "ax.xlim = [0, 2]\n",
    "ax.ylim = ax.xlim\n",
    "ax.zlim = ax.xlim\n",
    "plt.show()"
   ]
  },
  {
   "cell_type": "code",
   "execution_count": null,
   "id": "ce1ce777-2144-44ff-8f71-ea858241d825",
   "metadata": {},
   "outputs": [],
   "source": [
    "print(f\"beta_1: {beta1.subs(cubic_lattice).evalf()}\")\n",
    "print(f\"beta_2: {beta2.subs(cubic_lattice).evalf()}\")\n",
    "print(f\"beta_3: {beta3.subs(cubic_lattice).evalf()}\")"
   ]
  },
  {
   "cell_type": "markdown",
   "id": "a8e849fb-3912-4fc9-838f-a948cd7a3217",
   "metadata": {},
   "source": [
    "Coordinate transformations"
   ]
  },
  {
   "cell_type": "code",
   "execution_count": null,
   "id": "6f6e23ae-5c4f-481a-8343-1117ebe5a9c3",
   "metadata": {},
   "outputs": [],
   "source": [
    "(v1, v2, v3) = sympy.symbols(\"v1 v2 v3\", real=True)\n",
    "v = (v1*b1) + (v2*b2) + (v3*b3)\n",
    "collect(simplify(v.obj), (v1, v2, v3))"
   ]
  },
  {
   "cell_type": "markdown",
   "id": "7d4415b8-a83e-4e1a-abcc-ead72db2f9e6",
   "metadata": {},
   "source": [
    "The \"crystal cartesian axes\" x,y,z are attached to b1, b2, b3 like this:\n",
    "  - the x-axis is parallel to b1\n",
    "    - b1_2 = 0\n",
    "    - b1_3 = 0\n",
    "  - the y-axis is in the b1-b2 plane\n",
    "    - b2_3 = 0\n",
    "  - the z-axis is perpendicular to the x-y plane (as usual)"
   ]
  },
  {
   "cell_type": "code",
   "execution_count": null,
   "id": "da4146f4-44b5-42e9-8d2d-5191b2e3fb48",
   "metadata": {},
   "outputs": [],
   "source": [
    "crystal_cartesian_orientation = [\n",
    "    (b1_2, 0), (b1_3, 0),\n",
    "    (b2_3, 0)\n",
    "]"
   ]
  },
  {
   "cell_type": "code",
   "execution_count": null,
   "id": "841a70a9-7c92-4fb2-8a84-517a5d56adce",
   "metadata": {},
   "outputs": [],
   "source": [
    "# compare general b1 with b1 in crystal cartesian orientation\n",
    "simplify(b1.obj)"
   ]
  },
  {
   "cell_type": "code",
   "execution_count": null,
   "id": "69f79ba7-b2b7-4b04-8ffb-4450936bfd8b",
   "metadata": {},
   "outputs": [],
   "source": [
    "simplify(b1.subs(crystal_cartesian_orientation).obj)"
   ]
  },
  {
   "cell_type": "code",
   "execution_count": null,
   "id": "1651296c-a517-4b55-bbc2-dc7b2220a8a7",
   "metadata": {},
   "outputs": [],
   "source": [
    "# compare general b2 with b2 in crystal cartesian orientation\n",
    "simplify(b2.obj)"
   ]
  },
  {
   "cell_type": "code",
   "execution_count": null,
   "id": "03175461-2b9c-4735-9859-dc4c483f8503",
   "metadata": {},
   "outputs": [],
   "source": [
    "simplify(b2.subs(crystal_cartesian_orientation).obj)"
   ]
  },
  {
   "cell_type": "code",
   "execution_count": null,
   "id": "147602fe-f361-4ef1-9e8f-5d565e79d402",
   "metadata": {},
   "outputs": [],
   "source": [
    "# compare general b3 with b3 in crystal cartesian orientation\n",
    "simplify(b3.obj)"
   ]
  },
  {
   "cell_type": "code",
   "execution_count": null,
   "id": "7ac5d91c-441b-47e6-89c1-56a09bd001d4",
   "metadata": {},
   "outputs": [],
   "source": [
    "simplify(b3.subs(crystal_cartesian_orientation).obj)"
   ]
  },
  {
   "cell_type": "code",
   "execution_count": null,
   "id": "f6b5bf2b-b6ab-4db0-b448-3f2cab4b6f64",
   "metadata": {},
   "outputs": [],
   "source": [
    "# compare general v with v in crystal cartesian orientation\n",
    "# this does not seem to work - no simplification happens here\n",
    "collect(simplify(v.obj), (v1, v2, v3))"
   ]
  },
  {
   "cell_type": "code",
   "execution_count": null,
   "id": "25a688ce-63c2-4889-8f13-cc1190fbf09c",
   "metadata": {},
   "outputs": [],
   "source": [
    "collect(simplify(v.subs(crystal_cartesian_orientation).obj), (v1, v2, v3))"
   ]
  },
  {
   "cell_type": "code",
   "execution_count": null,
   "id": "52c16071-a631-4782-8f05-419dcc3d75d3",
   "metadata": {},
   "outputs": [],
   "source": [
    "v_c = v1*b1.subs(crystal_cartesian_orientation) + v2*b2.subs(crystal_cartesian_orientation) + v3*b3.subs(crystal_cartesian_orientation)\n",
    "v_c"
   ]
  },
  {
   "cell_type": "code",
   "execution_count": null,
   "id": "3fec9958-b3d0-4d97-8967-ca4f3a434dbe",
   "metadata": {},
   "outputs": [],
   "source": [
    "v_c_x = v_c|e1\n",
    "simplify(collect(v_c_x.obj, (v1, v2, v3)))"
   ]
  },
  {
   "cell_type": "markdown",
   "id": "d39e66ce-c974-458d-9faa-cecaf2783761",
   "metadata": {},
   "source": [
    "a good question is: what is a2_2a3_3 - a2_3a3_2 ? part of the angle between a2 and a3 in the e2,e3 plane?"
   ]
  },
  {
   "cell_type": "code",
   "execution_count": null,
   "id": "be184040-73d6-42d2-91df-54b90990e2fb",
   "metadata": {},
   "outputs": [],
   "source": [
    "v_c_y = v_c|e2\n",
    "simplify(collect(v_c_y.obj, (v1, v2, v3)))"
   ]
  },
  {
   "cell_type": "code",
   "execution_count": null,
   "id": "46ca3df3-6837-4256-87b2-7c8eb5a09347",
   "metadata": {},
   "outputs": [],
   "source": [
    "v_c_z = v_c|e3\n",
    "simplify(collect(v_c_z.obj, (v1, v2, v3)))"
   ]
  },
  {
   "cell_type": "code",
   "execution_count": null,
   "id": "24230f18-d277-4320-b7b8-4ef5cd832df9",
   "metadata": {},
   "outputs": [],
   "source": [
    "simplify(v_c_x.obj.coeff(v1))"
   ]
  },
  {
   "cell_type": "markdown",
   "id": "ee62eba4-d877-44c6-b4f1-9923569c3120",
   "metadata": {},
   "source": [
    "This B uses crystal cartesian orientation."
   ]
  },
  {
   "cell_type": "code",
   "execution_count": null,
   "id": "2c0fddc8-2390-4ddf-abb0-acf1b10c0985",
   "metadata": {},
   "outputs": [],
   "source": [
    "B = Matrix([\n",
    "    [simplify(v_c_x.obj.coeff(v1)), simplify(v_c_x.obj.coeff(v2)), simplify(v_c_x.obj.coeff(v3))],\n",
    "    [simplify(v_c_y.obj.coeff(v1)), simplify(v_c_y.obj.coeff(v2)), simplify(v_c_y.obj.coeff(v3))],\n",
    "    [simplify(v_c_z.obj.coeff(v1)), simplify(v_c_z.obj.coeff(v2)), simplify(v_c_z.obj.coeff(v3))],\n",
    "])\n",
    "B"
   ]
  },
  {
   "cell_type": "markdown",
   "id": "db1730ee-1a08-4146-9dee-ec91da9abb2b",
   "metadata": {},
   "source": [
    "This B is for a cubic lattice with lattice vectors of length 2."
   ]
  },
  {
   "cell_type": "code",
   "execution_count": null,
   "id": "526c611c-abe9-47cf-9fd4-385d92319990",
   "metadata": {},
   "outputs": [],
   "source": [
    "B_cubic = B.subs(cubic_lattice)\n",
    "B_cubic"
   ]
  },
  {
   "cell_type": "markdown",
   "id": "1ba2e9bf-8b97-45ef-be5e-b27e1838262e",
   "metadata": {},
   "source": [
    "the standard B matrix"
   ]
  },
  {
   "cell_type": "code",
   "execution_count": null,
   "id": "95b2adab-e1fa-4641-a38f-e20eba869cba",
   "metadata": {},
   "outputs": [],
   "source": [
    "# the norms of the reciprocal vectors are challenging\n",
    "b1_mag = simplify(sqrt(factor(b1.norm2())))\n",
    "b2_mag = simplify(sqrt(factor(b2.norm2())))\n",
    "b3_mag = simplify(sqrt(factor(b3.norm2())))"
   ]
  },
  {
   "cell_type": "code",
   "execution_count": null,
   "id": "b1fe182b-8cdd-405b-a044-0d62b6a65f9b",
   "metadata": {},
   "outputs": [],
   "source": [
    "b1_mag"
   ]
  },
  {
   "cell_type": "code",
   "execution_count": null,
   "id": "50b0b1c9-828a-4c83-b2fd-fc0431acd15f",
   "metadata": {},
   "outputs": [],
   "source": [
    "b2_mag"
   ]
  },
  {
   "cell_type": "code",
   "execution_count": null,
   "id": "e38fcd00-79a8-4e2a-82e3-453712e96191",
   "metadata": {},
   "outputs": [],
   "source": [
    "b3_mag"
   ]
  },
  {
   "cell_type": "code",
   "execution_count": null,
   "id": "0f8c1951-610f-4426-895c-bfb5a34e4479",
   "metadata": {},
   "outputs": [],
   "source": [
    "B_standard = Matrix([\n",
    "    [b1_mag, b2_mag*cos(beta3),  b3_mag*cos(beta2)],\n",
    "    [0,      b2_mag*sin(beta3), -1*b3_mag*sin(beta2)*cos(alpha1)],\n",
    "    [0,      0,                  1/a3.norm()]\n",
    "])\n",
    "B_standard"
   ]
  },
  {
   "cell_type": "code",
   "execution_count": null,
   "id": "a26c65aa-67c8-4a44-8fcf-cdf2d4d90e15",
   "metadata": {},
   "outputs": [],
   "source": [
    "B_standard_cubic = B_standard.subs(cubic_lattice)\n",
    "B_standard_cubic"
   ]
  },
  {
   "cell_type": "code",
   "execution_count": null,
   "id": "f7fa6329-e9f9-4b0a-87d7-36e4f4e34c1e",
   "metadata": {},
   "outputs": [],
   "source": []
  }
 ],
 "metadata": {
  "kernelspec": {
   "display_name": "Python 3",
   "language": "python",
   "name": "python3"
  },
  "language_info": {
   "codemirror_mode": {
    "name": "ipython",
    "version": 3
   },
   "file_extension": ".py",
   "mimetype": "text/x-python",
   "name": "python",
   "nbconvert_exporter": "python",
   "pygments_lexer": "ipython3",
   "version": "3.8.10"
  }
 },
 "nbformat": 4,
 "nbformat_minor": 5
}
