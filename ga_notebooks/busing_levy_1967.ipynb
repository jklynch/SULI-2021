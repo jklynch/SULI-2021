{
 "cells": [
  {
   "cell_type": "markdown",
   "id": "8f0de448-5833-4dda-aefa-d8594bf144e6",
   "metadata": {},
   "source": [
    "[the paper](https://onlinelibrary.wiley.com/doi/10.1107/S0365110X67000970)"
   ]
  },
  {
   "cell_type": "code",
   "execution_count": 1,
   "id": "c647cd17-16c8-4c1c-9957-878a64891cc1",
   "metadata": {},
   "outputs": [],
   "source": [
    "import matplotlib.pyplot as plt\n",
    "import numpy as np\n",
    "\n",
    "import sympy\n",
    "from sympy import *\n",
    "from sympy.ntheory import binomial_coefficients_list\n",
    "from galgebra import *\n",
    "from galgebra.ga import Ga\n",
    "from galgebra.mv import cross\n",
    "from galgebra.printer import latex\n",
    "from IPython.display import Math\n",
    "\n",
    "# tell sympy to use latex printing by default\n",
    "sympy.init_printing(latex_printer=latex, use_latex=\"mathjax\")\n",
    "\n",
    "# use galgebra vectors and operations even though\n",
    "# everything in this notebook will be vector algebra\n",
    "xyz = (x, y, z) = sympy.symbols(\"x y z\", real=True)\n",
    "o3d = Ga(\"e_1 e_2 e_3\", g=[1, 1, 1], coords=xyz)"
   ]
  },
  {
   "cell_type": "markdown",
   "id": "ae7c52a8-07d6-40a6-bba4-3f9c87bc0017",
   "metadata": {},
   "source": [
    "# Definition of diffractometer angles"
   ]
  },
  {
   "cell_type": "markdown",
   "id": "7de55db7-b217-4983-bbd7-fc4cf25f84ff",
   "metadata": {},
   "source": [
    "define lattice vectors (a1, a2, a3) and reciprocal lattice vectors (b1, b2, b3)"
   ]
  },
  {
   "cell_type": "code",
   "execution_count": 2,
   "id": "485a494b-e606-4dc5-b8dc-f38ee5347d0a",
   "metadata": {},
   "outputs": [],
   "source": [
    "e1, e2, e3 = o3d.mv()\n",
    "(a1_1, a1_2, a1_3) = sympy.symbols(\"a1_1 a1_2 a1_3\", real=True)\n",
    "(a2_1, a2_2, a2_3) = sympy.symbols(\"a2_1 a2_2 a2_3\", real=True)\n",
    "(a3_1, a3_2, a3_3) = sympy.symbols(\"a3_1 a3_2 a3_3\", real=True)\n",
    "\n",
    "a1 = a1_1*e1 + a1_2*e2 + a1_3*e3\n",
    "a2 = a2_1*e1 + a2_2*e2 + a2_3*e3\n",
    "a3 = a3_1*e1 + a3_2*e2 + a3_3*e3\n",
    "\n",
    "b1 = cross(a2, a3) / (a1|cross(a2, a3))\n",
    "b2 = cross(a3, a1) / (a2|cross(a3, a1))\n",
    "b3 = cross(a1, a2) / (a3|cross(a1, a2))\n",
    "\n",
    "def get_vector_coefficients(multivector):\n",
    "    # return only the coefficients of e1, e2, e3\n",
    "    return [c for c in multivector.blade_coefs()[1:4]]\n",
    "\n",
    "b1_1, b1_2, b1_3 = get_vector_coefficients(b1)\n",
    "b2_1, b2_2, b2_3 = get_vector_coefficients(b2)\n",
    "b3_1, b3_2, b3_3 = get_vector_coefficients(b3)"
   ]
  },
  {
   "cell_type": "markdown",
   "id": "09e4c46c-2eca-4d9a-9144-dc2302ed3e60",
   "metadata": {},
   "source": [
    "define angles between lattice vectors (alpha1, alpha2, alpha3)"
   ]
  },
  {
   "cell_type": "code",
   "execution_count": 3,
   "id": "4a5f31d3-4e59-4f8c-88b3-706405bc4df8",
   "metadata": {},
   "outputs": [],
   "source": [
    "alpha1 = acos( (a2|a3).obj / (a2.norm()*a3.norm()) )\n",
    "alpha2 = acos( (a3|a1).obj / (a3.norm()*a1.norm()) )\n",
    "alpha3 = acos( (a1|a2).obj / (a1.norm()*a2.norm()) )"
   ]
  },
  {
   "cell_type": "code",
   "execution_count": 4,
   "id": "b81c3a70-e4bf-4eff-bcac-ad344d8d6e8d",
   "metadata": {},
   "outputs": [
    {
     "data": {
      "text/latex": [
       "$\\displaystyle acos {\\left (\\frac{a_{2 1} a_{3 1} + a_{2 2} a_{3 2} + a_{2 3} a_{3 3}}{\\sqrt{{\\left ( a_{2 1} \\right )}^{2} + {\\left ( a_{2 2} \\right )}^{2} + {\\left ( a_{2 3} \\right )}^{2}} \\sqrt{{\\left ( a_{3 1} \\right )}^{2} + {\\left ( a_{3 2} \\right )}^{2} + {\\left ( a_{3 3} \\right )}^{2}}} \\right )}$"
      ],
      "text/plain": [
       "    ⎛          a₂ ₁⋅a₃ ₁ + a₂ ₂⋅a₃ ₂ + a₂ ₃⋅a₃ ₃          ⎞\n",
       "acos⎜─────────────────────────────────────────────────────⎟\n",
       "    ⎜   _______________________    _______________________⎟\n",
       "    ⎜  ╱     2       2       2    ╱     2       2       2 ⎟\n",
       "    ⎝╲╱  a₂ ₁  + a₂ ₂  + a₂ ₃  ⋅╲╱  a₃ ₁  + a₃ ₂  + a₃ ₃  ⎠"
      ]
     },
     "execution_count": 4,
     "metadata": {},
     "output_type": "execute_result"
    }
   ],
   "source": [
    "alpha1"
   ]
  },
  {
   "cell_type": "markdown",
   "id": "eb70b747-1e81-445b-92e3-0582380c4cf3",
   "metadata": {},
   "source": [
    "define angles between reciprocal lattice vectors (beta1, beta2, beta3)"
   ]
  },
  {
   "cell_type": "code",
   "execution_count": 5,
   "id": "73f78b22-a913-4141-a030-bbc1537a3616",
   "metadata": {},
   "outputs": [],
   "source": [
    "# norm2() is used here because norm() would not work with \n",
    "# the reciprocal lattice vectors (why?)\n",
    "beta1 = acos( (b2|b3).obj / sqrt(b2.norm2()*b3.norm2()) )\n",
    "beta2 = acos( (b3|b1).obj / sqrt(b3.norm2()*b1.norm2()) )\n",
    "beta3 = acos( (b1|b2).obj / sqrt(b1.norm2()*b2.norm2()) )"
   ]
  },
  {
   "cell_type": "code",
   "execution_count": 6,
   "id": "4dc05e50-0f5b-4a84-a726-2739d62f225e",
   "metadata": {},
   "outputs": [
    {
     "data": {
      "text/latex": [
       "$\\displaystyle \\sqrt{\\frac{{\\left ( a_{2 1} \\right )}^{2} {\\left ( a_{3 2} \\right )}^{2} + {\\left ( a_{2 1} \\right )}^{2} {\\left ( a_{3 3} \\right )}^{2} - 2 a_{2 1} a_{2 2} a_{3 1} a_{3 2} - 2 a_{2 1} a_{2 3} a_{3 1} a_{3 3} + {\\left ( a_{2 2} \\right )}^{2} {\\left ( a_{3 1} \\right )}^{2} + {\\left ( a_{2 2} \\right )}^{2} {\\left ( a_{3 3} \\right )}^{2} - 2 a_{2 2} a_{2 3} a_{3 2} a_{3 3} + {\\left ( a_{2 3} \\right )}^{2} {\\left ( a_{3 1} \\right )}^{2} + {\\left ( a_{2 3} \\right )}^{2} {\\left ( a_{3 2} \\right )}^{2}}{\\left(a_{1 1} a_{2 2} a_{3 3} - a_{1 1} a_{2 3} a_{3 2} - a_{1 2} a_{2 1} a_{3 3} + a_{1 2} a_{2 3} a_{3 1} + a_{1 3} a_{2 1} a_{3 2} - a_{1 3} a_{2 2} a_{3 1}\\right)^{2}}}$"
      ],
      "text/plain": [
       "      ________________________________________________________________________\n",
       "     ╱     2     2       2     2                                              \n",
       "    ╱  a₂ ₁ ⋅a₃ ₂  + a₂ ₁ ⋅a₃ ₃  - 2⋅a₂ ₁⋅a₂ ₂⋅a₃ ₁⋅a₃ ₂ - 2⋅a₂ ₁⋅a₂ ₃⋅a₃ ₁⋅a₃\n",
       "   ╱   ───────────────────────────────────────────────────────────────────────\n",
       "  ╱                                                                           \n",
       "╲╱                               (a₁ ₁⋅a₂ ₂⋅a₃ ₃ - a₁ ₁⋅a₂ ₃⋅a₃ ₂ - a₁ ₂⋅a₂ ₁⋅\n",
       "\n",
       "______________________________________________________________________________\n",
       "         2     2       2     2                               2     2       2  \n",
       " ₃ + a₂ ₂ ⋅a₃ ₁  + a₂ ₂ ⋅a₃ ₃  - 2⋅a₂ ₂⋅a₂ ₃⋅a₃ ₂⋅a₃ ₃ + a₂ ₃ ⋅a₃ ₁  + a₂ ₃ ⋅a\n",
       "──────────────────────────────────────────────────────────────────────────────\n",
       "                                                        2                     \n",
       "a₃ ₃ + a₁ ₂⋅a₂ ₃⋅a₃ ₁ + a₁ ₃⋅a₂ ₁⋅a₃ ₂ - a₁ ₃⋅a₂ ₂⋅a₃ ₁)                      \n",
       "\n",
       "_____\n",
       "   2 \n",
       "₃ ₂  \n",
       "──── \n",
       "     \n",
       "     "
      ]
     },
     "execution_count": 6,
     "metadata": {},
     "output_type": "execute_result"
    }
   ],
   "source": [
    "# just trying to make b1.norm2() look nice\n",
    "sqrt(factor(simplify(b1.norm2())))"
   ]
  },
  {
   "cell_type": "code",
   "execution_count": 7,
   "id": "807d1a15-9dfa-4a9a-8ed5-901a8c1ca8de",
   "metadata": {},
   "outputs": [
    {
     "data": {
      "text/latex": [
       "$\\displaystyle \\frac{a_{2 2} a_{3 3} - a_{2 3} a_{3 2}}{a_{1 1} a_{2 2} a_{3 3} - a_{1 1} a_{2 3} a_{3 2} - a_{1 2} a_{2 1} a_{3 3} + a_{1 2} a_{2 3} a_{3 1} + a_{1 3} a_{2 1} a_{3 2} - a_{1 3} a_{2 2} a_{3 1}}$"
      ],
      "text/plain": [
       "                                       a₂ ₂⋅a₃ ₃ - a₂ ₃⋅a₃ ₂                  \n",
       "──────────────────────────────────────────────────────────────────────────────\n",
       "a₁ ₁⋅a₂ ₂⋅a₃ ₃ - a₁ ₁⋅a₂ ₃⋅a₃ ₂ - a₁ ₂⋅a₂ ₁⋅a₃ ₃ + a₁ ₂⋅a₂ ₃⋅a₃ ₁ + a₁ ₃⋅a₂ ₁⋅\n",
       "\n",
       "                     \n",
       "─────────────────────\n",
       "a₃ ₂ - a₁ ₃⋅a₂ ₂⋅a₃ ₁"
      ]
     },
     "execution_count": 7,
     "metadata": {},
     "output_type": "execute_result"
    }
   ],
   "source": [
    "simplify(b1_1)"
   ]
  },
  {
   "cell_type": "code",
   "execution_count": 8,
   "id": "d7d201a2-e670-4a6f-bab6-49828d8eff97",
   "metadata": {},
   "outputs": [
    {
     "data": {
      "text/latex": [
       "$\\displaystyle \\frac{- a_{2 1} a_{3 3} + a_{2 3} a_{3 1}}{a_{1 1} a_{2 2} a_{3 3} - a_{1 1} a_{2 3} a_{3 2} - a_{1 2} a_{2 1} a_{3 3} + a_{1 2} a_{2 3} a_{3 1} + a_{1 3} a_{2 1} a_{3 2} - a_{1 3} a_{2 2} a_{3 1}}$"
      ],
      "text/plain": [
       "                                       -a₂ ₁⋅a₃ ₃ + a₂ ₃⋅a₃ ₁                 \n",
       "──────────────────────────────────────────────────────────────────────────────\n",
       "a₁ ₁⋅a₂ ₂⋅a₃ ₃ - a₁ ₁⋅a₂ ₃⋅a₃ ₂ - a₁ ₂⋅a₂ ₁⋅a₃ ₃ + a₁ ₂⋅a₂ ₃⋅a₃ ₁ + a₁ ₃⋅a₂ ₁⋅\n",
       "\n",
       "                     \n",
       "─────────────────────\n",
       "a₃ ₂ - a₁ ₃⋅a₂ ₂⋅a₃ ₁"
      ]
     },
     "execution_count": 8,
     "metadata": {},
     "output_type": "execute_result"
    }
   ],
   "source": [
    "simplify(b1_2)"
   ]
  },
  {
   "cell_type": "code",
   "execution_count": 9,
   "id": "59b82aa4-c5e5-438c-b9a6-c9e605c86be6",
   "metadata": {},
   "outputs": [
    {
     "data": {
      "text/latex": [
       "$\\displaystyle \\frac{a_{2 1} a_{3 2} - a_{2 2} a_{3 1}}{a_{1 1} a_{2 2} a_{3 3} - a_{1 1} a_{2 3} a_{3 2} - a_{1 2} a_{2 1} a_{3 3} + a_{1 2} a_{2 3} a_{3 1} + a_{1 3} a_{2 1} a_{3 2} - a_{1 3} a_{2 2} a_{3 1}}$"
      ],
      "text/plain": [
       "                                       a₂ ₁⋅a₃ ₂ - a₂ ₂⋅a₃ ₁                  \n",
       "──────────────────────────────────────────────────────────────────────────────\n",
       "a₁ ₁⋅a₂ ₂⋅a₃ ₃ - a₁ ₁⋅a₂ ₃⋅a₃ ₂ - a₁ ₂⋅a₂ ₁⋅a₃ ₃ + a₁ ₂⋅a₂ ₃⋅a₃ ₁ + a₁ ₃⋅a₂ ₁⋅\n",
       "\n",
       "                     \n",
       "─────────────────────\n",
       "a₃ ₂ - a₁ ₃⋅a₂ ₂⋅a₃ ₁"
      ]
     },
     "execution_count": 9,
     "metadata": {},
     "output_type": "execute_result"
    }
   ],
   "source": [
    "simplify(b1_3)"
   ]
  },
  {
   "cell_type": "code",
   "execution_count": 10,
   "id": "dd90c1d8-1a5b-46ce-adb0-32015f385b37",
   "metadata": {},
   "outputs": [
    {
     "data": {
      "text/latex": [
       "$\\displaystyle \\frac{- a_{1 2} a_{3 3} + a_{1 3} a_{3 2}}{a_{1 1} a_{2 2} a_{3 3} - a_{1 1} a_{2 3} a_{3 2} - a_{1 2} a_{2 1} a_{3 3} + a_{1 2} a_{2 3} a_{3 1} + a_{1 3} a_{2 1} a_{3 2} - a_{1 3} a_{2 2} a_{3 1}}$"
      ],
      "text/plain": [
       "                                       -a₁ ₂⋅a₃ ₃ + a₁ ₃⋅a₃ ₂                 \n",
       "──────────────────────────────────────────────────────────────────────────────\n",
       "a₁ ₁⋅a₂ ₂⋅a₃ ₃ - a₁ ₁⋅a₂ ₃⋅a₃ ₂ - a₁ ₂⋅a₂ ₁⋅a₃ ₃ + a₁ ₂⋅a₂ ₃⋅a₃ ₁ + a₁ ₃⋅a₂ ₁⋅\n",
       "\n",
       "                     \n",
       "─────────────────────\n",
       "a₃ ₂ - a₁ ₃⋅a₂ ₂⋅a₃ ₁"
      ]
     },
     "execution_count": 10,
     "metadata": {},
     "output_type": "execute_result"
    }
   ],
   "source": [
    "simplify(b2_1)"
   ]
  },
  {
   "cell_type": "code",
   "execution_count": 11,
   "id": "b413ef76-932c-457b-9775-80a1849fb73c",
   "metadata": {},
   "outputs": [
    {
     "data": {
      "text/latex": [
       "$\\displaystyle \\frac{a_{1 1} a_{3 3} - a_{1 3} a_{3 1}}{a_{1 1} a_{2 2} a_{3 3} - a_{1 1} a_{2 3} a_{3 2} - a_{1 2} a_{2 1} a_{3 3} + a_{1 2} a_{2 3} a_{3 1} + a_{1 3} a_{2 1} a_{3 2} - a_{1 3} a_{2 2} a_{3 1}}$"
      ],
      "text/plain": [
       "                                       a₁ ₁⋅a₃ ₃ - a₁ ₃⋅a₃ ₁                  \n",
       "──────────────────────────────────────────────────────────────────────────────\n",
       "a₁ ₁⋅a₂ ₂⋅a₃ ₃ - a₁ ₁⋅a₂ ₃⋅a₃ ₂ - a₁ ₂⋅a₂ ₁⋅a₃ ₃ + a₁ ₂⋅a₂ ₃⋅a₃ ₁ + a₁ ₃⋅a₂ ₁⋅\n",
       "\n",
       "                     \n",
       "─────────────────────\n",
       "a₃ ₂ - a₁ ₃⋅a₂ ₂⋅a₃ ₁"
      ]
     },
     "execution_count": 11,
     "metadata": {},
     "output_type": "execute_result"
    }
   ],
   "source": [
    "simplify(b2_2)"
   ]
  },
  {
   "cell_type": "code",
   "execution_count": 12,
   "id": "f7d296f0-9401-4ffa-a34a-5e1fd577106e",
   "metadata": {},
   "outputs": [
    {
     "data": {
      "text/latex": [
       "$\\displaystyle \\frac{- a_{1 1} a_{3 2} + a_{1 2} a_{3 1}}{a_{1 1} a_{2 2} a_{3 3} - a_{1 1} a_{2 3} a_{3 2} - a_{1 2} a_{2 1} a_{3 3} + a_{1 2} a_{2 3} a_{3 1} + a_{1 3} a_{2 1} a_{3 2} - a_{1 3} a_{2 2} a_{3 1}}$"
      ],
      "text/plain": [
       "                                       -a₁ ₁⋅a₃ ₂ + a₁ ₂⋅a₃ ₁                 \n",
       "──────────────────────────────────────────────────────────────────────────────\n",
       "a₁ ₁⋅a₂ ₂⋅a₃ ₃ - a₁ ₁⋅a₂ ₃⋅a₃ ₂ - a₁ ₂⋅a₂ ₁⋅a₃ ₃ + a₁ ₂⋅a₂ ₃⋅a₃ ₁ + a₁ ₃⋅a₂ ₁⋅\n",
       "\n",
       "                     \n",
       "─────────────────────\n",
       "a₃ ₂ - a₁ ₃⋅a₂ ₂⋅a₃ ₁"
      ]
     },
     "execution_count": 12,
     "metadata": {},
     "output_type": "execute_result"
    }
   ],
   "source": [
    "simplify(b2_3)"
   ]
  },
  {
   "cell_type": "code",
   "execution_count": 13,
   "id": "5df13891-797e-46ec-8da6-4380c13569b2",
   "metadata": {},
   "outputs": [
    {
     "data": {
      "text/latex": [
       "$\\displaystyle \\frac{a_{1 2} a_{2 3} - a_{1 3} a_{2 2}}{a_{1 1} a_{2 2} a_{3 3} - a_{1 1} a_{2 3} a_{3 2} - a_{1 2} a_{2 1} a_{3 3} + a_{1 2} a_{2 3} a_{3 1} + a_{1 3} a_{2 1} a_{3 2} - a_{1 3} a_{2 2} a_{3 1}}$"
      ],
      "text/plain": [
       "                                       a₁ ₂⋅a₂ ₃ - a₁ ₃⋅a₂ ₂                  \n",
       "──────────────────────────────────────────────────────────────────────────────\n",
       "a₁ ₁⋅a₂ ₂⋅a₃ ₃ - a₁ ₁⋅a₂ ₃⋅a₃ ₂ - a₁ ₂⋅a₂ ₁⋅a₃ ₃ + a₁ ₂⋅a₂ ₃⋅a₃ ₁ + a₁ ₃⋅a₂ ₁⋅\n",
       "\n",
       "                     \n",
       "─────────────────────\n",
       "a₃ ₂ - a₁ ₃⋅a₂ ₂⋅a₃ ₁"
      ]
     },
     "execution_count": 13,
     "metadata": {},
     "output_type": "execute_result"
    }
   ],
   "source": [
    "simplify(b3_1)"
   ]
  },
  {
   "cell_type": "code",
   "execution_count": 14,
   "id": "4f76b540-20e4-4a3e-9704-017c7342632d",
   "metadata": {},
   "outputs": [
    {
     "data": {
      "text/latex": [
       "$\\displaystyle \\frac{- a_{1 1} a_{2 3} + a_{1 3} a_{2 1}}{a_{1 1} a_{2 2} a_{3 3} - a_{1 1} a_{2 3} a_{3 2} - a_{1 2} a_{2 1} a_{3 3} + a_{1 2} a_{2 3} a_{3 1} + a_{1 3} a_{2 1} a_{3 2} - a_{1 3} a_{2 2} a_{3 1}}$"
      ],
      "text/plain": [
       "                                       -a₁ ₁⋅a₂ ₃ + a₁ ₃⋅a₂ ₁                 \n",
       "──────────────────────────────────────────────────────────────────────────────\n",
       "a₁ ₁⋅a₂ ₂⋅a₃ ₃ - a₁ ₁⋅a₂ ₃⋅a₃ ₂ - a₁ ₂⋅a₂ ₁⋅a₃ ₃ + a₁ ₂⋅a₂ ₃⋅a₃ ₁ + a₁ ₃⋅a₂ ₁⋅\n",
       "\n",
       "                     \n",
       "─────────────────────\n",
       "a₃ ₂ - a₁ ₃⋅a₂ ₂⋅a₃ ₁"
      ]
     },
     "execution_count": 14,
     "metadata": {},
     "output_type": "execute_result"
    }
   ],
   "source": [
    "b3_2 = simplify(b3_2)\n",
    "b3_2"
   ]
  },
  {
   "cell_type": "code",
   "execution_count": 15,
   "id": "040698b6-6a47-494c-aaed-3b6945b31b6f",
   "metadata": {},
   "outputs": [
    {
     "data": {
      "text/latex": [
       "$\\displaystyle \\frac{a_{1 1} a_{2 2} - a_{1 2} a_{2 1}}{a_{1 1} a_{2 2} a_{3 3} - a_{1 1} a_{2 3} a_{3 2} - a_{1 2} a_{2 1} a_{3 3} + a_{1 2} a_{2 3} a_{3 1} + a_{1 3} a_{2 1} a_{3 2} - a_{1 3} a_{2 2} a_{3 1}}$"
      ],
      "text/plain": [
       "                                       a₁ ₁⋅a₂ ₂ - a₁ ₂⋅a₂ ₁                  \n",
       "──────────────────────────────────────────────────────────────────────────────\n",
       "a₁ ₁⋅a₂ ₂⋅a₃ ₃ - a₁ ₁⋅a₂ ₃⋅a₃ ₂ - a₁ ₂⋅a₂ ₁⋅a₃ ₃ + a₁ ₂⋅a₂ ₃⋅a₃ ₁ + a₁ ₃⋅a₂ ₁⋅\n",
       "\n",
       "                     \n",
       "─────────────────────\n",
       "a₃ ₂ - a₁ ₃⋅a₂ ₂⋅a₃ ₁"
      ]
     },
     "execution_count": 15,
     "metadata": {},
     "output_type": "execute_result"
    }
   ],
   "source": [
    "b3_3 = simplify(b3_3)\n",
    "b3_3"
   ]
  },
  {
   "cell_type": "code",
   "execution_count": 16,
   "id": "567a7c45-8b8f-4ed2-8206-15b53eff8527",
   "metadata": {},
   "outputs": [],
   "source": [
    "def plot_lattice_vectors(u1, u2, u3, ax):\n",
    "    # place u1, u2, u3 at the origin\n",
    "\n",
    "    # draw a line from (x01, x02, x03) to (x11, x12, x13)\n",
    "    # put coordinates into an array like this\n",
    "    #   x01  x11\n",
    "    #   x02  x12\n",
    "    #   x03  x13\n",
    "    u1_coords = np.zeros((3, 2))\n",
    "    u1_coords[:, 1] = get_vector_coefficients(u1)\n",
    "    u2_coords = np.zeros((3, 2))\n",
    "    u2_coords[:, 1] = get_vector_coefficients(u2)\n",
    "    u3_coords = np.zeros((3, 2))\n",
    "    u3_coords[:, 1] = get_vector_coefficients(u3)\n",
    "\n",
    "    ax.plot(u1_coords[0, :], u1_coords[1, :], u1_coords[2, :], c='r')\n",
    "    ax.plot(u2_coords[0, :], u2_coords[1, :], u2_coords[2, :], c='g')\n",
    "    ax.plot(u3_coords[0, :], u3_coords[1, :], u3_coords[2, :], c='b')\n",
    "\n"
   ]
  },
  {
   "cell_type": "code",
   "execution_count": 17,
   "id": "7af893fa-e0fa-4741-849d-0cb41ae7084f",
   "metadata": {},
   "outputs": [
    {
     "data": {
      "image/png": "[encoded data removed]",
      "text/plain": [
       "<Figure size 432x288 with 1 Axes>"
      ]
     },
     "metadata": {
      "needs_background": "light"
     },
     "output_type": "display_data"
    }
   ],
   "source": [
    "cubic_lattice = [\n",
    "    (a1_1, 2), (a1_2, 0), (a1_3, 0),\n",
    "    (a2_1, 0), (a2_2, 2), (a2_3, 0),\n",
    "    (a3_1, 0), (a3_2, 0), (a3_3, 2),\n",
    "]\n",
    "cubic_a1 = a1.subs(cubic_lattice)\n",
    "cubic_a2 = a2.subs(cubic_lattice)\n",
    "cubic_a3 = a3.subs(cubic_lattice)\n",
    "\n",
    "ax = plt.figure().add_subplot(projection='3d')\n",
    "plot_lattice_vectors(cubic_a1, cubic_a2, cubic_a3, ax)\n",
    "plt.show()"
   ]
  },
  {
   "cell_type": "markdown",
   "id": "881fa4b8-e229-416e-8caa-580c2fcde8cc",
   "metadata": {},
   "source": [
    "do some tests"
   ]
  },
  {
   "cell_type": "code",
   "execution_count": 18,
   "id": "1a0a003e-7581-49a7-a512-d9c691340261",
   "metadata": {},
   "outputs": [
    {
     "name": "stdout",
     "output_type": "stream",
     "text": [
      "alpha_1: 1.57079632679490\n",
      "alpha_2: 1.57079632679490\n",
      "alpha_3: 1.57079632679490\n"
     ]
    }
   ],
   "source": [
    "print(f\"alpha_1: {alpha1.subs(cubic_lattice).evalf()}\")\n",
    "print(f\"alpha_2: {alpha2.subs(cubic_lattice).evalf()}\")\n",
    "print(f\"alpha_3: {alpha3.subs(cubic_lattice).evalf()}\")"
   ]
  },
  {
   "cell_type": "code",
   "execution_count": 19,
   "id": "1cf8f51f-5114-4ef5-9cd1-81f62e6b0462",
   "metadata": {},
   "outputs": [
    {
     "data": {
      "image/png": "[encoded data removed]",
      "text/plain": [
       "<Figure size 432x288 with 1 Axes>"
      ]
     },
     "metadata": {
      "needs_background": "light"
     },
     "output_type": "display_data"
    }
   ],
   "source": [
    "cubic_b1 = b1.subs(cubic_lattice)\n",
    "cubic_b2 = b2.subs(cubic_lattice)\n",
    "cubic_b3 = b3.subs(cubic_lattice)\n",
    "\n",
    "ax = plt.figure().add_subplot(projection='3d')\n",
    "plot_lattice_vectors(cubic_b1, cubic_b2, cubic_b3, ax)\n",
    "plt.show()"
   ]
  },
  {
   "cell_type": "code",
   "execution_count": 20,
   "id": "ce1ce777-2144-44ff-8f71-ea858241d825",
   "metadata": {},
   "outputs": [
    {
     "name": "stdout",
     "output_type": "stream",
     "text": [
      "beta_1: 1.57079632679490\n",
      "beta_2: 1.57079632679490\n",
      "beta_3: 1.57079632679490\n"
     ]
    }
   ],
   "source": [
    "print(f\"beta_1: {beta1.subs(cubic_lattice).evalf()}\")\n",
    "print(f\"beta_2: {beta2.subs(cubic_lattice).evalf()}\")\n",
    "print(f\"beta_3: {beta3.subs(cubic_lattice).evalf()}\")"
   ]
  },
  {
   "cell_type": "markdown",
   "id": "a8e849fb-3912-4fc9-838f-a948cd7a3217",
   "metadata": {},
   "source": [
    "Coordinate transformations"
   ]
  },
  {
   "cell_type": "code",
   "execution_count": 21,
   "id": "6f6e23ae-5c4f-481a-8343-1117ebe5a9c3",
   "metadata": {},
   "outputs": [
    {
     "data": {
      "text/latex": [
       "$\\displaystyle \\frac{v_{1} \\left(a_{2 1} a_{3 2} \\boldsymbol{e}_{3} - a_{2 1} a_{3 3} \\boldsymbol{e}_{2} - a_{2 2} a_{3 1} \\boldsymbol{e}_{3} + a_{2 2} a_{3 3} \\boldsymbol{e}_{1} + a_{2 3} a_{3 1} \\boldsymbol{e}_{2} - a_{2 3} a_{3 2} \\boldsymbol{e}_{1}\\right) + v_{2} \\left(- a_{1 1} a_{3 2} \\boldsymbol{e}_{3} + a_{1 1} a_{3 3} \\boldsymbol{e}_{2} + a_{1 2} a_{3 1} \\boldsymbol{e}_{3} - a_{1 2} a_{3 3} \\boldsymbol{e}_{1} - a_{1 3} a_{3 1} \\boldsymbol{e}_{2} + a_{1 3} a_{3 2} \\boldsymbol{e}_{1}\\right) + v_{3} \\left(a_{1 1} a_{2 2} \\boldsymbol{e}_{3} - a_{1 1} a_{2 3} \\boldsymbol{e}_{2} - a_{1 2} a_{2 1} \\boldsymbol{e}_{3} + a_{1 2} a_{2 3} \\boldsymbol{e}_{1} + a_{1 3} a_{2 1} \\boldsymbol{e}_{2} - a_{1 3} a_{2 2} \\boldsymbol{e}_{1}\\right)}{a_{1 1} a_{2 2} a_{3 3} - a_{1 1} a_{2 3} a_{3 2} - a_{1 2} a_{2 1} a_{3 3} + a_{1 2} a_{2 3} a_{3 1} + a_{1 3} a_{2 1} a_{3 2} - a_{1 3} a_{2 2} a_{3 1}}$"
      ],
      "text/plain": [
       "v₁⋅(a₂ ₁⋅a₃ ₂⋅e₃ - a₂ ₁⋅a₃ ₃⋅e₂ - a₂ ₂⋅a₃ ₁⋅e₃ + a₂ ₂⋅a₃ ₃⋅e₁ + a₂ ₃⋅a₃ ₁⋅e₂ -\n",
       "──────────────────────────────────────────────────────────────────────────────\n",
       "                                                                              \n",
       "\n",
       " a₂ ₃⋅a₃ ₂⋅e₁) + v₂⋅(-a₁ ₁⋅a₃ ₂⋅e₃ + a₁ ₁⋅a₃ ₃⋅e₂ + a₁ ₂⋅a₃ ₁⋅e₃ - a₁ ₂⋅a₃ ₃⋅e\n",
       "──────────────────────────────────────────────────────────────────────────────\n",
       "              a₁ ₁⋅a₂ ₂⋅a₃ ₃ - a₁ ₁⋅a₂ ₃⋅a₃ ₂ - a₁ ₂⋅a₂ ₁⋅a₃ ₃ + a₁ ₂⋅a₂ ₃⋅a₃ \n",
       "\n",
       "₁ - a₁ ₃⋅a₃ ₁⋅e₂ + a₁ ₃⋅a₃ ₂⋅e₁) + v₃⋅(a₁ ₁⋅a₂ ₂⋅e₃ - a₁ ₁⋅a₂ ₃⋅e₂ - a₁ ₂⋅a₂ ₁\n",
       "──────────────────────────────────────────────────────────────────────────────\n",
       "₁ + a₁ ₃⋅a₂ ₁⋅a₃ ₂ - a₁ ₃⋅a₂ ₂⋅a₃ ₁                                           \n",
       "\n",
       "⋅e₃ + a₁ ₂⋅a₂ ₃⋅e₁ + a₁ ₃⋅a₂ ₁⋅e₂ - a₁ ₃⋅a₂ ₂⋅e₁)\n",
       "─────────────────────────────────────────────────\n",
       "                                                 "
      ]
     },
     "execution_count": 21,
     "metadata": {},
     "output_type": "execute_result"
    }
   ],
   "source": [
    "(v1, v2, v3) = sympy.symbols(\"v1 v2 v3\", real=True)\n",
    "v = (v1*b1) + (v2*b2) + (v3*b3)\n",
    "collect(simplify(v.obj), (v1, v2, v3))"
   ]
  },
  {
   "cell_type": "markdown",
   "id": "7d4415b8-a83e-4e1a-abcc-ead72db2f9e6",
   "metadata": {},
   "source": [
    "The \"crystal cartesian axes\" x,y,z are attached to b1, b2, b3 like this:\n",
    "  - the x-axis is parallel to b1\n",
    "    - b1_2 = 0\n",
    "    - b1_3 = 0\n",
    "  - the y-axis is in the b1-b2 plane\n",
    "    - b2_3 = 0\n",
    "  - the z-axis is perpendicular to the x-y plane (as usual)"
   ]
  },
  {
   "cell_type": "code",
   "execution_count": 22,
   "id": "da4146f4-44b5-42e9-8d2d-5191b2e3fb48",
   "metadata": {},
   "outputs": [],
   "source": [
    "crystal_cartesian_orientation = [\n",
    "    (b1_2, 0), (b1_3, 0),\n",
    "    (b2_3, 0)\n",
    "]"
   ]
  },
  {
   "cell_type": "code",
   "execution_count": 23,
   "id": "841a70a9-7c92-4fb2-8a84-517a5d56adce",
   "metadata": {},
   "outputs": [
    {
     "data": {
      "text/latex": [
       "$\\displaystyle \\frac{\\left(a_{2 1} a_{3 2} - a_{2 2} a_{3 1}\\right) \\boldsymbol{e}_{3} + \\left(- a_{2 1} a_{3 3} + a_{2 3} a_{3 1}\\right) \\boldsymbol{e}_{2} + \\left(a_{2 2} a_{3 3} - a_{2 3} a_{3 2}\\right) \\boldsymbol{e}_{1}}{a_{1 1} a_{2 2} a_{3 3} - a_{1 1} a_{2 3} a_{3 2} - a_{1 2} a_{2 1} a_{3 3} + a_{1 2} a_{2 3} a_{3 1} + a_{1 3} a_{2 1} a_{3 2} - a_{1 3} a_{2 2} a_{3 1}}$"
      ],
      "text/plain": [
       "       (a₂ ₁⋅a₃ ₂ - a₂ ₂⋅a₃ ₁)⋅e₃ + (-a₂ ₁⋅a₃ ₃ + a₂ ₃⋅a₃ ₁)⋅e₂ + (a₂ ₂⋅a₃ ₃ -\n",
       "──────────────────────────────────────────────────────────────────────────────\n",
       "a₁ ₁⋅a₂ ₂⋅a₃ ₃ - a₁ ₁⋅a₂ ₃⋅a₃ ₂ - a₁ ₂⋅a₂ ₁⋅a₃ ₃ + a₁ ₂⋅a₂ ₃⋅a₃ ₁ + a₁ ₃⋅a₂ ₁⋅\n",
       "\n",
       " a₂ ₃⋅a₃ ₂)⋅e₁       \n",
       "─────────────────────\n",
       "a₃ ₂ - a₁ ₃⋅a₂ ₂⋅a₃ ₁"
      ]
     },
     "execution_count": 23,
     "metadata": {},
     "output_type": "execute_result"
    }
   ],
   "source": [
    "# compare general b1 with b1 in crystal cartesian orientation\n",
    "simplify(b1.obj)"
   ]
  },
  {
   "cell_type": "code",
   "execution_count": 24,
   "id": "69f79ba7-b2b7-4b04-8ffb-4450936bfd8b",
   "metadata": {},
   "outputs": [
    {
     "data": {
      "text/latex": [
       "$\\displaystyle \\frac{\\left(a_{2 2} a_{3 3} - a_{2 3} a_{3 2}\\right) \\boldsymbol{e}_{1}}{a_{1 1} a_{2 2} a_{3 3} - a_{1 1} a_{2 3} a_{3 2} - a_{1 2} a_{2 1} a_{3 3} + a_{1 2} a_{2 3} a_{3 1} + a_{1 3} a_{2 1} a_{3 2} - a_{1 3} a_{2 2} a_{3 1}}$"
      ],
      "text/plain": [
       "                                     (a₂ ₂⋅a₃ ₃ - a₂ ₃⋅a₃ ₂)⋅e₁               \n",
       "──────────────────────────────────────────────────────────────────────────────\n",
       "a₁ ₁⋅a₂ ₂⋅a₃ ₃ - a₁ ₁⋅a₂ ₃⋅a₃ ₂ - a₁ ₂⋅a₂ ₁⋅a₃ ₃ + a₁ ₂⋅a₂ ₃⋅a₃ ₁ + a₁ ₃⋅a₂ ₁⋅\n",
       "\n",
       "                     \n",
       "─────────────────────\n",
       "a₃ ₂ - a₁ ₃⋅a₂ ₂⋅a₃ ₁"
      ]
     },
     "execution_count": 24,
     "metadata": {},
     "output_type": "execute_result"
    }
   ],
   "source": [
    "simplify(b1.subs(crystal_cartesian_orientation).obj)"
   ]
  },
  {
   "cell_type": "code",
   "execution_count": 25,
   "id": "1651296c-a517-4b55-bbc2-dc7b2220a8a7",
   "metadata": {},
   "outputs": [
    {
     "data": {
      "text/latex": [
       "$\\displaystyle \\frac{\\left(- a_{1 1} a_{3 2} + a_{1 2} a_{3 1}\\right) \\boldsymbol{e}_{3} + \\left(a_{1 1} a_{3 3} - a_{1 3} a_{3 1}\\right) \\boldsymbol{e}_{2} + \\left(- a_{1 2} a_{3 3} + a_{1 3} a_{3 2}\\right) \\boldsymbol{e}_{1}}{a_{1 1} a_{2 2} a_{3 3} - a_{1 1} a_{2 3} a_{3 2} - a_{1 2} a_{2 1} a_{3 3} + a_{1 2} a_{2 3} a_{3 1} + a_{1 3} a_{2 1} a_{3 2} - a_{1 3} a_{2 2} a_{3 1}}$"
      ],
      "text/plain": [
       "       (-a₁ ₁⋅a₃ ₂ + a₁ ₂⋅a₃ ₁)⋅e₃ + (a₁ ₁⋅a₃ ₃ - a₁ ₃⋅a₃ ₁)⋅e₂ + (-a₁ ₂⋅a₃ ₃ \n",
       "──────────────────────────────────────────────────────────────────────────────\n",
       "a₁ ₁⋅a₂ ₂⋅a₃ ₃ - a₁ ₁⋅a₂ ₃⋅a₃ ₂ - a₁ ₂⋅a₂ ₁⋅a₃ ₃ + a₁ ₂⋅a₂ ₃⋅a₃ ₁ + a₁ ₃⋅a₂ ₁⋅\n",
       "\n",
       "+ a₁ ₃⋅a₃ ₂)⋅e₁      \n",
       "─────────────────────\n",
       "a₃ ₂ - a₁ ₃⋅a₂ ₂⋅a₃ ₁"
      ]
     },
     "execution_count": 25,
     "metadata": {},
     "output_type": "execute_result"
    }
   ],
   "source": [
    "# compare general b2 with b2 in crystal cartesian orientation\n",
    "simplify(b2.obj)"
   ]
  },
  {
   "cell_type": "code",
   "execution_count": 26,
   "id": "03175461-2b9c-4735-9859-dc4c483f8503",
   "metadata": {},
   "outputs": [
    {
     "data": {
      "text/latex": [
       "$\\displaystyle \\frac{\\left(a_{1 1} a_{3 3} - a_{1 3} a_{3 1}\\right) \\boldsymbol{e}_{2} + \\left(- a_{1 2} a_{3 3} + a_{1 3} a_{3 2}\\right) \\boldsymbol{e}_{1}}{a_{1 1} a_{2 2} a_{3 3} - a_{1 1} a_{2 3} a_{3 2} - a_{1 2} a_{2 1} a_{3 3} + a_{1 2} a_{2 3} a_{3 1} + a_{1 3} a_{2 1} a_{3 2} - a_{1 3} a_{2 2} a_{3 1}}$"
      ],
      "text/plain": [
       "                      (a₁ ₁⋅a₃ ₃ - a₁ ₃⋅a₃ ₁)⋅e₂ + (-a₁ ₂⋅a₃ ₃ + a₁ ₃⋅a₃ ₂)⋅e₁\n",
       "──────────────────────────────────────────────────────────────────────────────\n",
       "a₁ ₁⋅a₂ ₂⋅a₃ ₃ - a₁ ₁⋅a₂ ₃⋅a₃ ₂ - a₁ ₂⋅a₂ ₁⋅a₃ ₃ + a₁ ₂⋅a₂ ₃⋅a₃ ₁ + a₁ ₃⋅a₂ ₁⋅\n",
       "\n",
       "                     \n",
       "─────────────────────\n",
       "a₃ ₂ - a₁ ₃⋅a₂ ₂⋅a₃ ₁"
      ]
     },
     "execution_count": 26,
     "metadata": {},
     "output_type": "execute_result"
    }
   ],
   "source": [
    "simplify(b2.subs(crystal_cartesian_orientation).obj)"
   ]
  },
  {
   "cell_type": "code",
   "execution_count": 27,
   "id": "147602fe-f361-4ef1-9e8f-5d565e79d402",
   "metadata": {},
   "outputs": [
    {
     "data": {
      "text/latex": [
       "$\\displaystyle \\frac{\\left(a_{1 1} a_{2 2} - a_{1 2} a_{2 1}\\right) \\boldsymbol{e}_{3} + \\left(- a_{1 1} a_{2 3} + a_{1 3} a_{2 1}\\right) \\boldsymbol{e}_{2} + \\left(a_{1 2} a_{2 3} - a_{1 3} a_{2 2}\\right) \\boldsymbol{e}_{1}}{a_{1 1} a_{2 2} a_{3 3} - a_{1 1} a_{2 3} a_{3 2} - a_{1 2} a_{2 1} a_{3 3} + a_{1 2} a_{2 3} a_{3 1} + a_{1 3} a_{2 1} a_{3 2} - a_{1 3} a_{2 2} a_{3 1}}$"
      ],
      "text/plain": [
       "       (a₁ ₁⋅a₂ ₂ - a₁ ₂⋅a₂ ₁)⋅e₃ + (-a₁ ₁⋅a₂ ₃ + a₁ ₃⋅a₂ ₁)⋅e₂ + (a₁ ₂⋅a₂ ₃ -\n",
       "──────────────────────────────────────────────────────────────────────────────\n",
       "a₁ ₁⋅a₂ ₂⋅a₃ ₃ - a₁ ₁⋅a₂ ₃⋅a₃ ₂ - a₁ ₂⋅a₂ ₁⋅a₃ ₃ + a₁ ₂⋅a₂ ₃⋅a₃ ₁ + a₁ ₃⋅a₂ ₁⋅\n",
       "\n",
       " a₁ ₃⋅a₂ ₂)⋅e₁       \n",
       "─────────────────────\n",
       "a₃ ₂ - a₁ ₃⋅a₂ ₂⋅a₃ ₁"
      ]
     },
     "execution_count": 27,
     "metadata": {},
     "output_type": "execute_result"
    }
   ],
   "source": [
    "# compare general b3 with b3 in crystal cartesian orientation\n",
    "simplify(b3.obj)"
   ]
  },
  {
   "cell_type": "code",
   "execution_count": 28,
   "id": "7ac5d91c-441b-47e6-89c1-56a09bd001d4",
   "metadata": {},
   "outputs": [
    {
     "data": {
      "text/latex": [
       "$\\displaystyle \\frac{\\left(a_{1 1} a_{2 2} - a_{1 2} a_{2 1}\\right) \\boldsymbol{e}_{3} + \\left(- a_{1 1} a_{2 3} + a_{1 3} a_{2 1}\\right) \\boldsymbol{e}_{2} + \\left(a_{1 2} a_{2 3} - a_{1 3} a_{2 2}\\right) \\boldsymbol{e}_{1}}{a_{1 1} a_{2 2} a_{3 3} - a_{1 1} a_{2 3} a_{3 2} - a_{1 2} a_{2 1} a_{3 3} + a_{1 2} a_{2 3} a_{3 1} + a_{1 3} a_{2 1} a_{3 2} - a_{1 3} a_{2 2} a_{3 1}}$"
      ],
      "text/plain": [
       "       (a₁ ₁⋅a₂ ₂ - a₁ ₂⋅a₂ ₁)⋅e₃ + (-a₁ ₁⋅a₂ ₃ + a₁ ₃⋅a₂ ₁)⋅e₂ + (a₁ ₂⋅a₂ ₃ -\n",
       "──────────────────────────────────────────────────────────────────────────────\n",
       "a₁ ₁⋅a₂ ₂⋅a₃ ₃ - a₁ ₁⋅a₂ ₃⋅a₃ ₂ - a₁ ₂⋅a₂ ₁⋅a₃ ₃ + a₁ ₂⋅a₂ ₃⋅a₃ ₁ + a₁ ₃⋅a₂ ₁⋅\n",
       "\n",
       " a₁ ₃⋅a₂ ₂)⋅e₁       \n",
       "─────────────────────\n",
       "a₃ ₂ - a₁ ₃⋅a₂ ₂⋅a₃ ₁"
      ]
     },
     "execution_count": 28,
     "metadata": {},
     "output_type": "execute_result"
    }
   ],
   "source": [
    "simplify(b3.subs(crystal_cartesian_orientation).obj)"
   ]
  },
  {
   "cell_type": "code",
   "execution_count": 29,
   "id": "f6b5bf2b-b6ab-4db0-b448-3f2cab4b6f64",
   "metadata": {},
   "outputs": [
    {
     "data": {
      "text/latex": [
       "$\\displaystyle \\frac{v_{1} \\left(a_{2 1} a_{3 2} \\boldsymbol{e}_{3} - a_{2 1} a_{3 3} \\boldsymbol{e}_{2} - a_{2 2} a_{3 1} \\boldsymbol{e}_{3} + a_{2 2} a_{3 3} \\boldsymbol{e}_{1} + a_{2 3} a_{3 1} \\boldsymbol{e}_{2} - a_{2 3} a_{3 2} \\boldsymbol{e}_{1}\\right) + v_{2} \\left(- a_{1 1} a_{3 2} \\boldsymbol{e}_{3} + a_{1 1} a_{3 3} \\boldsymbol{e}_{2} + a_{1 2} a_{3 1} \\boldsymbol{e}_{3} - a_{1 2} a_{3 3} \\boldsymbol{e}_{1} - a_{1 3} a_{3 1} \\boldsymbol{e}_{2} + a_{1 3} a_{3 2} \\boldsymbol{e}_{1}\\right) + v_{3} \\left(a_{1 1} a_{2 2} \\boldsymbol{e}_{3} - a_{1 1} a_{2 3} \\boldsymbol{e}_{2} - a_{1 2} a_{2 1} \\boldsymbol{e}_{3} + a_{1 2} a_{2 3} \\boldsymbol{e}_{1} + a_{1 3} a_{2 1} \\boldsymbol{e}_{2} - a_{1 3} a_{2 2} \\boldsymbol{e}_{1}\\right)}{a_{1 1} a_{2 2} a_{3 3} - a_{1 1} a_{2 3} a_{3 2} - a_{1 2} a_{2 1} a_{3 3} + a_{1 2} a_{2 3} a_{3 1} + a_{1 3} a_{2 1} a_{3 2} - a_{1 3} a_{2 2} a_{3 1}}$"
      ],
      "text/plain": [
       "v₁⋅(a₂ ₁⋅a₃ ₂⋅e₃ - a₂ ₁⋅a₃ ₃⋅e₂ - a₂ ₂⋅a₃ ₁⋅e₃ + a₂ ₂⋅a₃ ₃⋅e₁ + a₂ ₃⋅a₃ ₁⋅e₂ -\n",
       "──────────────────────────────────────────────────────────────────────────────\n",
       "                                                                              \n",
       "\n",
       " a₂ ₃⋅a₃ ₂⋅e₁) + v₂⋅(-a₁ ₁⋅a₃ ₂⋅e₃ + a₁ ₁⋅a₃ ₃⋅e₂ + a₁ ₂⋅a₃ ₁⋅e₃ - a₁ ₂⋅a₃ ₃⋅e\n",
       "──────────────────────────────────────────────────────────────────────────────\n",
       "              a₁ ₁⋅a₂ ₂⋅a₃ ₃ - a₁ ₁⋅a₂ ₃⋅a₃ ₂ - a₁ ₂⋅a₂ ₁⋅a₃ ₃ + a₁ ₂⋅a₂ ₃⋅a₃ \n",
       "\n",
       "₁ - a₁ ₃⋅a₃ ₁⋅e₂ + a₁ ₃⋅a₃ ₂⋅e₁) + v₃⋅(a₁ ₁⋅a₂ ₂⋅e₃ - a₁ ₁⋅a₂ ₃⋅e₂ - a₁ ₂⋅a₂ ₁\n",
       "──────────────────────────────────────────────────────────────────────────────\n",
       "₁ + a₁ ₃⋅a₂ ₁⋅a₃ ₂ - a₁ ₃⋅a₂ ₂⋅a₃ ₁                                           \n",
       "\n",
       "⋅e₃ + a₁ ₂⋅a₂ ₃⋅e₁ + a₁ ₃⋅a₂ ₁⋅e₂ - a₁ ₃⋅a₂ ₂⋅e₁)\n",
       "─────────────────────────────────────────────────\n",
       "                                                 "
      ]
     },
     "execution_count": 29,
     "metadata": {},
     "output_type": "execute_result"
    }
   ],
   "source": [
    "# compare general v with v in crystal cartesian orientation\n",
    "# this does not seem to work - no simplification happens here\n",
    "collect(simplify(v.obj), (v1, v2, v3))"
   ]
  },
  {
   "cell_type": "code",
   "execution_count": 30,
   "id": "25a688ce-63c2-4889-8f13-cc1190fbf09c",
   "metadata": {},
   "outputs": [
    {
     "data": {
      "text/latex": [
       "$\\displaystyle \\frac{\\left(v_{1} \\left(a_{2 1} a_{3 2} - a_{2 2} a_{3 1}\\right) + v_{2} \\left(- a_{1 1} a_{3 2} + a_{1 2} a_{3 1}\\right) + v_{3} \\left(a_{1 1} a_{2 2} - a_{1 2} a_{2 1}\\right)\\right) \\boldsymbol{e}_{3} + \\left(v_{1} \\left(- a_{2 1} a_{3 3} + a_{2 3} a_{3 1}\\right) + v_{2} \\left(a_{1 1} a_{3 3} - a_{1 3} a_{3 1}\\right) + v_{3} \\left(- a_{1 1} a_{2 3} + a_{1 3} a_{2 1}\\right)\\right) \\boldsymbol{e}_{2} + \\left(v_{1} \\left(a_{2 2} a_{3 3} - a_{2 3} a_{3 2}\\right) + v_{2} \\left(- a_{1 2} a_{3 3} + a_{1 3} a_{3 2}\\right) + v_{3} \\left(a_{1 2} a_{2 3} - a_{1 3} a_{2 2}\\right)\\right) \\boldsymbol{e}_{1}}{a_{1 1} a_{2 2} a_{3 3} - a_{1 1} a_{2 3} a_{3 2} - a_{1 2} a_{2 1} a_{3 3} + a_{1 2} a_{2 3} a_{3 1} + a_{1 3} a_{2 1} a_{3 2} - a_{1 3} a_{2 2} a_{3 1}}$"
      ],
      "text/plain": [
       "(v₁⋅(a₂ ₁⋅a₃ ₂ - a₂ ₂⋅a₃ ₁) + v₂⋅(-a₁ ₁⋅a₃ ₂ + a₁ ₂⋅a₃ ₁) + v₃⋅(a₁ ₁⋅a₂ ₂ - a₁\n",
       "──────────────────────────────────────────────────────────────────────────────\n",
       "                                                                              \n",
       "\n",
       " ₂⋅a₂ ₁))⋅e₃ + (v₁⋅(-a₂ ₁⋅a₃ ₃ + a₂ ₃⋅a₃ ₁) + v₂⋅(a₁ ₁⋅a₃ ₃ - a₁ ₃⋅a₃ ₁) + v₃⋅\n",
       "──────────────────────────────────────────────────────────────────────────────\n",
       "           a₁ ₁⋅a₂ ₂⋅a₃ ₃ - a₁ ₁⋅a₂ ₃⋅a₃ ₂ - a₁ ₂⋅a₂ ₁⋅a₃ ₃ + a₁ ₂⋅a₂ ₃⋅a₃ ₁ +\n",
       "\n",
       "(-a₁ ₁⋅a₂ ₃ + a₁ ₃⋅a₂ ₁))⋅e₂ + (v₁⋅(a₂ ₂⋅a₃ ₃ - a₂ ₃⋅a₃ ₂) + v₂⋅(-a₁ ₂⋅a₃ ₃ + \n",
       "──────────────────────────────────────────────────────────────────────────────\n",
       " a₁ ₃⋅a₂ ₁⋅a₃ ₂ - a₁ ₃⋅a₂ ₂⋅a₃ ₁                                              \n",
       "\n",
       "a₁ ₃⋅a₃ ₂) + v₃⋅(a₁ ₂⋅a₂ ₃ - a₁ ₃⋅a₂ ₂))⋅e₁\n",
       "───────────────────────────────────────────\n",
       "                                           "
      ]
     },
     "execution_count": 30,
     "metadata": {},
     "output_type": "execute_result"
    }
   ],
   "source": [
    "collect(simplify(v.subs(crystal_cartesian_orientation).obj), (v1, v2, v3))"
   ]
  },
  {
   "cell_type": "code",
   "execution_count": 31,
   "id": "52c16071-a631-4782-8f05-419dcc3d75d3",
   "metadata": {},
   "outputs": [
    {
     "data": {
      "text/latex": [
       "\\begin{equation*} \\frac{a_{1 2} a_{2 3} v_{3} - a_{1 2} a_{3 3} v_{2} - a_{1 3} a_{2 2} v_{3} + a_{1 3} a_{3 2} v_{2} + a_{2 2} a_{3 3} v_{1} - a_{2 3} a_{3 2} v_{1}}{a_{1 1} a_{2 2} a_{3 3} - a_{1 1} a_{2 3} a_{3 2} - a_{1 2} a_{2 1} a_{3 3} + a_{1 2} a_{2 3} a_{3 1} + a_{1 3} a_{2 1} a_{3 2} - a_{1 3} a_{2 2} a_{3 1}} \\boldsymbol{e}_{1} + \\frac{- a_{1 1} a_{2 3} v_{3} + a_{1 1} a_{3 3} v_{2} + a_{1 3} a_{2 1} v_{3} - a_{1 3} a_{3 1} v_{2}}{a_{1 1} a_{2 2} a_{3 3} - a_{1 1} a_{2 3} a_{3 2} - a_{1 2} a_{2 1} a_{3 3} + a_{1 2} a_{2 3} a_{3 1} + a_{1 3} a_{2 1} a_{3 2} - a_{1 3} a_{2 2} a_{3 1}} \\boldsymbol{e}_{2} + \\frac{v_{3} \\left(a_{1 1} a_{2 2} - a_{1 2} a_{2 1}\\right)}{a_{1 1} a_{2 2} a_{3 3} - a_{1 1} a_{2 3} a_{3 2} - a_{1 2} a_{2 1} a_{3 3} + a_{1 2} a_{2 3} a_{3 1} + a_{1 3} a_{2 1} a_{3 2} - a_{1 3} a_{2 2} a_{3 1}} \\boldsymbol{e}_{3} \\end{equation*}"
      ],
      "text/plain": [
       "(a1_2*a2_3*v3 - a1_2*a3_3*v2 - a1_3*a2_2*v3 + a1_3*a3_2*v2 + a2_2*a3_3*v1 - a2_3*a3_2*v1)*e_1/(a1_1*a2_2*a3_3 - a1_1*a2_3*a3_2 - a1_2*a2_1*a3_3 + a1_2*a2_3*a3_1 + a1_3*a2_1*a3_2 - a1_3*a2_2*a3_1) + (-a1_1*a2_3*v3 + a1_1*a3_3*v2 + a1_3*a2_1*v3 - a1_3*a3_1*v2)*e_2/(a1_1*a2_2*a3_3 - a1_1*a2_3*a3_2 - a1_2*a2_1*a3_3 + a1_2*a2_3*a3_1 + a1_3*a2_1*a3_2 - a1_3*a2_2*a3_1) + v3*(a1_1*a2_2 - a1_2*a2_1)*e_3/(a1_1*a2_2*a3_3 - a1_1*a2_3*a3_2 - a1_2*a2_1*a3_3 + a1_2*a2_3*a3_1 + a1_3*a2_1*a3_2 - a1_3*a2_2*a3_1)"
      ]
     },
     "execution_count": 31,
     "metadata": {},
     "output_type": "execute_result"
    }
   ],
   "source": [
    "v_c = v1*b1.subs(crystal_cartesian_orientation) + v2*b2.subs(crystal_cartesian_orientation) + v3*b3.subs(crystal_cartesian_orientation)\n",
    "v_c"
   ]
  },
  {
   "cell_type": "code",
   "execution_count": 32,
   "id": "3fec9958-b3d0-4d97-8967-ca4f3a434dbe",
   "metadata": {},
   "outputs": [
    {
     "data": {
      "text/latex": [
       "$\\displaystyle \\frac{v_{1} \\left(a_{2 2} a_{3 3} - a_{2 3} a_{3 2}\\right) - v_{2} \\left(a_{1 2} a_{3 3} - a_{1 3} a_{3 2}\\right) + v_{3} \\left(a_{1 2} a_{2 3} - a_{1 3} a_{2 2}\\right)}{a_{1 1} a_{2 2} a_{3 3} - a_{1 1} a_{2 3} a_{3 2} - a_{1 2} a_{2 1} a_{3 3} + a_{1 2} a_{2 3} a_{3 1} + a_{1 3} a_{2 1} a_{3 2} - a_{1 3} a_{2 2} a_{3 1}}$"
      ],
      "text/plain": [
       "        v₁⋅(a₂ ₂⋅a₃ ₃ - a₂ ₃⋅a₃ ₂) - v₂⋅(a₁ ₂⋅a₃ ₃ - a₁ ₃⋅a₃ ₂) + v₃⋅(a₁ ₂⋅a₂ \n",
       "──────────────────────────────────────────────────────────────────────────────\n",
       "a₁ ₁⋅a₂ ₂⋅a₃ ₃ - a₁ ₁⋅a₂ ₃⋅a₃ ₂ - a₁ ₂⋅a₂ ₁⋅a₃ ₃ + a₁ ₂⋅a₂ ₃⋅a₃ ₁ + a₁ ₃⋅a₂ ₁⋅\n",
       "\n",
       "₃ - a₁ ₃⋅a₂ ₂)       \n",
       "─────────────────────\n",
       "a₃ ₂ - a₁ ₃⋅a₂ ₂⋅a₃ ₁"
      ]
     },
     "execution_count": 32,
     "metadata": {},
     "output_type": "execute_result"
    }
   ],
   "source": [
    "v_c_x = v_c|e1\n",
    "simplify(collect(v_c_x.obj, (v1, v2, v3)))"
   ]
  },
  {
   "cell_type": "code",
   "execution_count": 33,
   "id": "be184040-73d6-42d2-91df-54b90990e2fb",
   "metadata": {},
   "outputs": [
    {
     "data": {
      "text/latex": [
       "$\\displaystyle \\frac{v_{2} \\left(a_{1 1} a_{3 3} - a_{1 3} a_{3 1}\\right) - v_{3} \\left(a_{1 1} a_{2 3} - a_{1 3} a_{2 1}\\right)}{a_{1 1} a_{2 2} a_{3 3} - a_{1 1} a_{2 3} a_{3 2} - a_{1 2} a_{2 1} a_{3 3} + a_{1 2} a_{2 3} a_{3 1} + a_{1 3} a_{2 1} a_{3 2} - a_{1 3} a_{2 2} a_{3 1}}$"
      ],
      "text/plain": [
       "                      v₂⋅(a₁ ₁⋅a₃ ₃ - a₁ ₃⋅a₃ ₁) - v₃⋅(a₁ ₁⋅a₂ ₃ - a₁ ₃⋅a₂ ₁) \n",
       "──────────────────────────────────────────────────────────────────────────────\n",
       "a₁ ₁⋅a₂ ₂⋅a₃ ₃ - a₁ ₁⋅a₂ ₃⋅a₃ ₂ - a₁ ₂⋅a₂ ₁⋅a₃ ₃ + a₁ ₂⋅a₂ ₃⋅a₃ ₁ + a₁ ₃⋅a₂ ₁⋅\n",
       "\n",
       "                     \n",
       "─────────────────────\n",
       "a₃ ₂ - a₁ ₃⋅a₂ ₂⋅a₃ ₁"
      ]
     },
     "execution_count": 33,
     "metadata": {},
     "output_type": "execute_result"
    }
   ],
   "source": [
    "v_c_y = v_c|e2\n",
    "simplify(collect(v_c_y.obj, (v1, v2, v3)))"
   ]
  },
  {
   "cell_type": "code",
   "execution_count": 34,
   "id": "46ca3df3-6837-4256-87b2-7c8eb5a09347",
   "metadata": {},
   "outputs": [
    {
     "data": {
      "text/latex": [
       "$\\displaystyle \\frac{v_{3} \\left(a_{1 1} a_{2 2} - a_{1 2} a_{2 1}\\right)}{a_{1 1} a_{2 2} a_{3 3} - a_{1 1} a_{2 3} a_{3 2} - a_{1 2} a_{2 1} a_{3 3} + a_{1 2} a_{2 3} a_{3 1} + a_{1 3} a_{2 1} a_{3 2} - a_{1 3} a_{2 2} a_{3 1}}$"
      ],
      "text/plain": [
       "                                     v₃⋅(a₁ ₁⋅a₂ ₂ - a₁ ₂⋅a₂ ₁)               \n",
       "──────────────────────────────────────────────────────────────────────────────\n",
       "a₁ ₁⋅a₂ ₂⋅a₃ ₃ - a₁ ₁⋅a₂ ₃⋅a₃ ₂ - a₁ ₂⋅a₂ ₁⋅a₃ ₃ + a₁ ₂⋅a₂ ₃⋅a₃ ₁ + a₁ ₃⋅a₂ ₁⋅\n",
       "\n",
       "                     \n",
       "─────────────────────\n",
       "a₃ ₂ - a₁ ₃⋅a₂ ₂⋅a₃ ₁"
      ]
     },
     "execution_count": 34,
     "metadata": {},
     "output_type": "execute_result"
    }
   ],
   "source": [
    "v_c_z = v_c|e3\n",
    "simplify(collect(v_c_z.obj, (v1, v2, v3)))"
   ]
  },
  {
   "cell_type": "code",
   "execution_count": 35,
   "id": "24230f18-d277-4320-b7b8-4ef5cd832df9",
   "metadata": {},
   "outputs": [
    {
     "data": {
      "text/latex": [
       "$\\displaystyle \\frac{a_{2 2} a_{3 3} - a_{2 3} a_{3 2}}{a_{1 1} a_{2 2} a_{3 3} - a_{1 1} a_{2 3} a_{3 2} - a_{1 2} a_{2 1} a_{3 3} + a_{1 2} a_{2 3} a_{3 1} + a_{1 3} a_{2 1} a_{3 2} - a_{1 3} a_{2 2} a_{3 1}}$"
      ],
      "text/plain": [
       "                                       a₂ ₂⋅a₃ ₃ - a₂ ₃⋅a₃ ₂                  \n",
       "──────────────────────────────────────────────────────────────────────────────\n",
       "a₁ ₁⋅a₂ ₂⋅a₃ ₃ - a₁ ₁⋅a₂ ₃⋅a₃ ₂ - a₁ ₂⋅a₂ ₁⋅a₃ ₃ + a₁ ₂⋅a₂ ₃⋅a₃ ₁ + a₁ ₃⋅a₂ ₁⋅\n",
       "\n",
       "                     \n",
       "─────────────────────\n",
       "a₃ ₂ - a₁ ₃⋅a₂ ₂⋅a₃ ₁"
      ]
     },
     "execution_count": 35,
     "metadata": {},
     "output_type": "execute_result"
    }
   ],
   "source": [
    "simplify(v_c_x.obj.coeff(v1))"
   ]
  },
  {
   "cell_type": "markdown",
   "id": "ee62eba4-d877-44c6-b4f1-9923569c3120",
   "metadata": {},
   "source": [
    "This B uses crystal cartesian orientation."
   ]
  },
  {
   "cell_type": "code",
   "execution_count": 36,
   "id": "2c0fddc8-2390-4ddf-abb0-acf1b10c0985",
   "metadata": {},
   "outputs": [
    {
     "data": {
      "text/latex": [
       "$\\displaystyle \\left[\\begin{array}{ccc}\\frac{a_{2 2} a_{3 3} - a_{2 3} a_{3 2}}{a_{1 1} a_{2 2} a_{3 3} - a_{1 1} a_{2 3} a_{3 2} - a_{1 2} a_{2 1} a_{3 3} + a_{1 2} a_{2 3} a_{3 1} + a_{1 3} a_{2 1} a_{3 2} - a_{1 3} a_{2 2} a_{3 1}} & \\frac{- a_{1 2} a_{3 3} + a_{1 3} a_{3 2}}{a_{1 1} a_{2 2} a_{3 3} - a_{1 1} a_{2 3} a_{3 2} - a_{1 2} a_{2 1} a_{3 3} + a_{1 2} a_{2 3} a_{3 1} + a_{1 3} a_{2 1} a_{3 2} - a_{1 3} a_{2 2} a_{3 1}} & \\frac{a_{1 2} a_{2 3} - a_{1 3} a_{2 2}}{a_{1 1} a_{2 2} a_{3 3} - a_{1 1} a_{2 3} a_{3 2} - a_{1 2} a_{2 1} a_{3 3} + a_{1 2} a_{2 3} a_{3 1} + a_{1 3} a_{2 1} a_{3 2} - a_{1 3} a_{2 2} a_{3 1}}\\\\0 & \\frac{a_{1 1} a_{3 3} - a_{1 3} a_{3 1}}{a_{1 1} a_{2 2} a_{3 3} - a_{1 1} a_{2 3} a_{3 2} - a_{1 2} a_{2 1} a_{3 3} + a_{1 2} a_{2 3} a_{3 1} + a_{1 3} a_{2 1} a_{3 2} - a_{1 3} a_{2 2} a_{3 1}} & \\frac{- a_{1 1} a_{2 3} + a_{1 3} a_{2 1}}{a_{1 1} a_{2 2} a_{3 3} - a_{1 1} a_{2 3} a_{3 2} - a_{1 2} a_{2 1} a_{3 3} + a_{1 2} a_{2 3} a_{3 1} + a_{1 3} a_{2 1} a_{3 2} - a_{1 3} a_{2 2} a_{3 1}}\\\\0 & 0 & \\frac{a_{1 1} a_{2 2} - a_{1 2} a_{2 1}}{a_{1 1} a_{2 2} a_{3 3} - a_{1 1} a_{2 3} a_{3 2} - a_{1 2} a_{2 1} a_{3 3} + a_{1 2} a_{2 3} a_{3 1} + a_{1 3} a_{2 1} a_{3 2} - a_{1 3} a_{2 2} a_{3 1}}\\end{array}\\right]$"
      ],
      "text/plain": [
       "Matrix([\n",
       "[(a2_2*a3_3 - a2_3*a3_2)/(a1_1*a2_2*a3_3 - a1_1*a2_3*a3_2 - a1_2*a2_1*a3_3 + a1_2*a2_3*a3_1 + a1_3*a2_1*a3_2 - a1_3*a2_2*a3_1), (-a1_2*a3_3 + a1_3*a3_2)/(a1_1*a2_2*a3_3 - a1_1*a2_3*a3_2 - a1_2*a2_1*a3_3 + a1_2*a2_3*a3_1 + a1_3*a2_1*a3_2 - a1_3*a2_2*a3_1),  (a1_2*a2_3 - a1_3*a2_2)/(a1_1*a2_2*a3_3 - a1_1*a2_3*a3_2 - a1_2*a2_1*a3_3 + a1_2*a2_3*a3_1 + a1_3*a2_1*a3_2 - a1_3*a2_2*a3_1)],\n",
       "[                                                                                                                            0,  (a1_1*a3_3 - a1_3*a3_1)/(a1_1*a2_2*a3_3 - a1_1*a2_3*a3_2 - a1_2*a2_1*a3_3 + a1_2*a2_3*a3_1 + a1_3*a2_1*a3_2 - a1_3*a2_2*a3_1), (-a1_1*a2_3 + a1_3*a2_1)/(a1_1*a2_2*a3_3 - a1_1*a2_3*a3_2 - a1_2*a2_1*a3_3 + a1_2*a2_3*a3_1 + a1_3*a2_1*a3_2 - a1_3*a2_2*a3_1)],\n",
       "[                                                                                                                            0,                                                                                                                              0,  (a1_1*a2_2 - a1_2*a2_1)/(a1_1*a2_2*a3_3 - a1_1*a2_3*a3_2 - a1_2*a2_1*a3_3 + a1_2*a2_3*a3_1 + a1_3*a2_1*a3_2 - a1_3*a2_2*a3_1)]])"
      ]
     },
     "execution_count": 36,
     "metadata": {},
     "output_type": "execute_result"
    }
   ],
   "source": [
    "B = Matrix([\n",
    "    [simplify(v_c_x.obj.coeff(v1)), simplify(v_c_x.obj.coeff(v2)), simplify(v_c_x.obj.coeff(v3))],\n",
    "    [simplify(v_c_y.obj.coeff(v1)), simplify(v_c_y.obj.coeff(v2)), simplify(v_c_y.obj.coeff(v3))],\n",
    "    [simplify(v_c_z.obj.coeff(v1)), simplify(v_c_z.obj.coeff(v2)), simplify(v_c_z.obj.coeff(v3))],\n",
    "])\n",
    "B"
   ]
  },
  {
   "cell_type": "markdown",
   "id": "db1730ee-1a08-4146-9dee-ec91da9abb2b",
   "metadata": {},
   "source": [
    "This B is for a cubic lattice with lattice vectors of length 2."
   ]
  },
  {
   "cell_type": "code",
   "execution_count": 37,
   "id": "526c611c-abe9-47cf-9fd4-385d92319990",
   "metadata": {},
   "outputs": [
    {
     "data": {
      "text/latex": [
       "$\\displaystyle \\left[\\begin{array}{ccc}\\frac{1}{2} & 0 & 0\\\\0 & \\frac{1}{2} & 0\\\\0 & 0 & \\frac{1}{2}\\end{array}\\right]$"
      ],
      "text/plain": [
       "Matrix([\n",
       "[1/2,   0,   0],\n",
       "[  0, 1/2,   0],\n",
       "[  0,   0, 1/2]])"
      ]
     },
     "execution_count": 37,
     "metadata": {},
     "output_type": "execute_result"
    }
   ],
   "source": [
    "B_cubic = B.subs(cubic_lattice)\n",
    "B_cubic"
   ]
  },
  {
   "cell_type": "code",
   "execution_count": null,
   "id": "ccd9e76a-9481-49b7-a560-bb6b8f292fb3",
   "metadata": {},
   "outputs": [],
   "source": []
  }
 ],
 "metadata": {
  "kernelspec": {
   "display_name": "Python 3",
   "language": "python",
   "name": "python3"
  },
  "language_info": {
   "codemirror_mode": {
    "name": "ipython",
    "version": 3
   },
   "file_extension": ".py",
   "mimetype": "text/x-python",
   "name": "python",
   "nbconvert_exporter": "python",
   "pygments_lexer": "ipython3",
   "version": "3.8.10"
  }
 },
 "nbformat": 4,
 "nbformat_minor": 5
}
