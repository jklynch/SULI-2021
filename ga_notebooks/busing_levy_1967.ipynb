{
 "cells": [
  {
   "cell_type": "markdown",
   "id": "8f0de448-5833-4dda-aefa-d8594bf144e6",
   "metadata": {},
   "source": [
    "[the paper](https://onlinelibrary.wiley.com/doi/10.1107/S0365110X67000970)"
   ]
  },
  {
   "cell_type": "code",
   "execution_count": null,
   "id": "c647cd17-16c8-4c1c-9957-878a64891cc1",
   "metadata": {},
   "outputs": [],
   "source": [
    "import matplotlib.pyplot as plt\n",
    "import numpy as np\n",
    "\n",
    "import sympy\n",
    "from sympy import *\n",
    "from sympy.ntheory import binomial_coefficients_list\n",
    "from galgebra import *\n",
    "from galgebra.ga import Ga\n",
    "from galgebra.mv import cross\n",
    "from galgebra.printer import latex\n",
    "from IPython.display import Math\n",
    "\n",
    "# tell sympy to use latex printing by default\n",
    "sympy.init_printing(latex_printer=latex, use_latex=\"mathjax\")\n",
    "\n",
    "xyz = (x, y, z) = sympy.symbols(\"x y z\", real=True)\n",
    "o3d = Ga(\"e_1 e_2 e_3\", g=[1, 1, 1], coords=xyz)\n"
   ]
  },
  {
   "cell_type": "markdown",
   "id": "ae7c52a8-07d6-40a6-bba4-3f9c87bc0017",
   "metadata": {},
   "source": [
    "Definition of diffractometer angles"
   ]
  },
  {
   "cell_type": "markdown",
   "id": "7de55db7-b217-4983-bbd7-fc4cf25f84ff",
   "metadata": {},
   "source": [
    "define lattice (a1, a2, a3) and reciprocal lattice (b1, b2, b3) vectors"
   ]
  },
  {
   "cell_type": "code",
   "execution_count": null,
   "id": "485a494b-e606-4dc5-b8dc-f38ee5347d0a",
   "metadata": {},
   "outputs": [],
   "source": [
    "e1, e2, e3 = o3d.mv()\n",
    "(a1_1, a1_2, a1_3) = sympy.symbols(\"a1_1 a1_2 a1_3\", real=True)\n",
    "(a2_1, a2_2, a2_3) = sympy.symbols(\"a2_1 a2_2 a2_3\", real=True)\n",
    "(a3_1, a3_2, a3_3) = sympy.symbols(\"a3_1 a3_2 a3_3\", real=True)\n",
    "\n",
    "a1 = a1_1*e1 + a1_2*e2 + a1_3*e3\n",
    "a2 = a2_1*e1 + a2_2*e2 + a2_3*e3\n",
    "a3 = a3_1*e1 + a3_2*e2 + a3_3*e3\n",
    "\n",
    "b1 = cross(a2, a3) / (a1|cross(a2, a3))\n",
    "b2 = cross(a1, a3) / (a2|cross(a1, a3))\n",
    "b3 = cross(a1, a2) / (a3|cross(a1, a2))\n",
    "\n",
    "def get_vector_coefficients(multivector):\n",
    "    # return only the coefficients of e1, e2, e3\n",
    "    return [c for c in multivector.blade_coefs()[1:4]]\n",
    "\n",
    "b1_1, b1_2, b1_3 = get_vector_coefficients(b1)\n",
    "b2_1, b2_2, b2_3 = get_vector_coefficients(b2)\n",
    "b3_1, b3_2, b3_3 = get_vector_coefficients(b3)"
   ]
  },
  {
   "cell_type": "code",
   "execution_count": null,
   "id": "567a7c45-8b8f-4ed2-8206-15b53eff8527",
   "metadata": {},
   "outputs": [],
   "source": [
    "def plot_lattice_vectors(u1, u2, u3, ax):\n",
    "    # place u1, u2, u3 at the origin\n",
    "\n",
    "    # draw a line from (x01, x02, x03) to (x11, x12, x13)\n",
    "    # put coordinates into an array like this\n",
    "    #   x01  x11\n",
    "    #   x02  x12\n",
    "    #   x03  x13\n",
    "    u1_coords = np.zeros((3, 2))\n",
    "    u1_coords[:, 1] = get_vector_coefficients(u1)\n",
    "    u2_coords = np.zeros((3, 2))\n",
    "    u2_coords[:, 1] = get_vector_coefficients(u2)\n",
    "    u3_coords = np.zeros((3, 2))\n",
    "    u3_coords[:, 1] = get_vector_coefficients(u3)\n",
    "\n",
    "    ax.plot(u1_coords[0, :], u1_coords[1, :], u1_coords[2, :], c='r')\n",
    "    ax.plot(u2_coords[0, :], u2_coords[1, :], u2_coords[2, :], c='g')\n",
    "    ax.plot(u3_coords[0, :], u3_coords[1, :], u3_coords[2, :], c='b')\n",
    "\n"
   ]
  },
  {
   "cell_type": "code",
   "execution_count": null,
   "id": "7af893fa-e0fa-4741-849d-0cb41ae7084f",
   "metadata": {},
   "outputs": [],
   "source": [
    "cubic_lattice = [\n",
    "    (a1_1, 2), (a1_2, 0), (a1_3, 0),\n",
    "    (a2_1, 0), (a2_2, 2), (a2_3, 0),\n",
    "    (a3_1, 0), (a3_2, 0), (a3_3, 2),\n",
    "]\n",
    "cubic_a1 = a1.subs(cubic_lattice)\n",
    "cubic_a2 = a2.subs(cubic_lattice)\n",
    "cubic_a3 = a3.subs(cubic_lattice)\n",
    "\n",
    "ax = plt.figure().add_subplot(projection='3d')\n",
    "plot_lattice_vectors(cubic_a1, cubic_a2, cubic_a3, ax)\n",
    "plt.show()"
   ]
  },
  {
   "cell_type": "code",
   "execution_count": null,
   "id": "1cf8f51f-5114-4ef5-9cd1-81f62e6b0462",
   "metadata": {},
   "outputs": [],
   "source": [
    "cubic_b1 = b1.subs(cubic_lattice)\n",
    "cubic_b2 = b2.subs(cubic_lattice)\n",
    "cubic_b3 = b3.subs(cubic_lattice)\n",
    "\n",
    "ax = plt.figure().add_subplot(projection='3d')\n",
    "plot_lattice_vectors(cubic_b1, cubic_b2, cubic_b3, ax)\n",
    "plt.show()"
   ]
  },
  {
   "cell_type": "markdown",
   "id": "a8e849fb-3912-4fc9-838f-a948cd7a3217",
   "metadata": {},
   "source": [
    "Coordinate transformations"
   ]
  },
  {
   "cell_type": "code",
   "execution_count": null,
   "id": "6f6e23ae-5c4f-481a-8343-1117ebe5a9c3",
   "metadata": {},
   "outputs": [],
   "source": [
    "(v1, v2, v3) = sympy.symbols(\"v1 v2 v3\", real=True)\n",
    "v = v1*b1 + v2*b2 + v3*b3"
   ]
  },
  {
   "cell_type": "code",
   "execution_count": null,
   "id": "f431bc29-7b86-4d03-90ba-14d9d6350030",
   "metadata": {},
   "outputs": [],
   "source": []
  },
  {
   "cell_type": "code",
   "execution_count": null,
   "id": "da4146f4-44b5-42e9-8d2d-5191b2e3fb48",
   "metadata": {},
   "outputs": [],
   "source": []
  }
 ],
 "metadata": {
  "kernelspec": {
   "display_name": "Python 3",
   "language": "python",
   "name": "python3"
  },
  "language_info": {
   "codemirror_mode": {
    "name": "ipython",
    "version": 3
   },
   "file_extension": ".py",
   "mimetype": "text/x-python",
   "name": "python",
   "nbconvert_exporter": "python",
   "pygments_lexer": "ipython3",
   "version": "3.8.10"
  }
 },
 "nbformat": 4,
 "nbformat_minor": 5
}
