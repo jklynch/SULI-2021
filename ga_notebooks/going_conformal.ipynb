{
 "cells": [
  {
   "cell_type": "code",
   "execution_count": 1,
   "id": "2f556167-0085-46e8-908f-c950d44ae8fb",
   "metadata": {},
   "outputs": [],
   "source": [
    "import matplotlib.pyplot as plt\n",
    "from matplotlib.colors import CSS4_COLORS as colors\n",
    "import numpy as np\n",
    "\n",
    "import sympy\n",
    "#from sympy import *\n",
    "from sympy.ntheory import binomial_coefficients_list\n",
    "from galgebra import *\n",
    "from galgebra.ga import Ga\n",
    "from galgebra.mv import cross\n",
    "from galgebra.printer import latex\n",
    "from IPython.display import Math\n",
    "\n",
    "%matplotlib widget\n",
    "\n",
    "# tell sympy to use latex printing by default\n",
    "sympy.init_printing(latex_printer=latex, use_latex=\"mathjax\")\n",
    "\n",
    "# use galgebra vectors and operations even though\n",
    "# everything in this notebook will be vector algebra\n",
    "xyz = (x, y, z) = sympy.symbols(\"x y z\", real=True)\n",
    "o3d = Ga(\"e_1 e_2 e_3\", g=[1, 1, 1], coords=xyz)\n",
    "e1, e2, e3 = o3d.mv()"
   ]
  },
  {
   "cell_type": "code",
   "execution_count": 2,
   "id": "f0bef839-67eb-4bc6-b6eb-0454261972e1",
   "metadata": {
    "tags": []
   },
   "outputs": [],
   "source": [
    "def plot_vector(ax, v, **kwargs):\n",
    "    x = v.blade_coefs()[1]\n",
    "    y = v.blade_coefs()[2]\n",
    "    z = v.blade_coefs()[3]\n",
    "    print(v)\n",
    "    print(v.blade_coefs())\n",
    "    ax.plot([0, x], [0, y], [0, z], **kwargs)"
   ]
  },
  {
   "cell_type": "code",
   "execution_count": 3,
   "id": "f89e86c6-c9d8-4754-923b-8ba3d5d00364",
   "metadata": {},
   "outputs": [],
   "source": [
    "def make_plot_fancy(ax, axis_limits=None):\n",
    "    if axis_limits is None:\n",
    "        axis_limits = [-1, 1]\n",
    "    ax.set_xlabel(\"x\")\n",
    "    ax.set_ylabel(\"y\")\n",
    "    ax.set_zlabel(\"z\")\n",
    "    ax.set_xlim3d(axis_limits)\n",
    "    ax.set_ylim3d(axis_limits)\n",
    "    ax.set_zlim3d(axis_limits)\n",
    "    ax.set_box_aspect(aspect = (1,1,1))"
   ]
  },
  {
   "cell_type": "code",
   "execution_count": 4,
   "id": "66f734e0-fc30-4513-b4c3-0bc2b932472d",
   "metadata": {},
   "outputs": [],
   "source": [
    "# start with lattice vector a\n",
    "a = 1*e1"
   ]
  },
  {
   "cell_type": "code",
   "execution_count": 5,
   "id": "87a9b25a-d9a2-485d-91a4-b98e9ad99aa1",
   "metadata": {},
   "outputs": [
    {
     "data": {
      "text/latex": [
       "\\begin{equation*} \\frac{\\sqrt{3}}{2} \\boldsymbol{e}_{1} + \\frac{1}{2} \\boldsymbol{e}_{2} \\end{equation*}"
      ],
      "text/plain": [
       "sqrt(3)*e_1/2 + e_2/2"
      ]
     },
     "execution_count": 5,
     "metadata": {},
     "output_type": "execute_result"
    }
   ],
   "source": [
    "# make a rotor to rotate 30??? degrees in the x-y plane (around the z axis)\n",
    "# find m_hat and n_hat with 60 degrees between them\n",
    "n_hat = e1\n",
    "m = sympy.cos(sympy.pi/6)*e1 + sympy.sin(sympy.pi/6)*e2\n",
    "m_hat = m / m.norm()\n",
    "m_hat"
   ]
  },
  {
   "cell_type": "code",
   "execution_count": 6,
   "id": "0c2c3d07-7a5f-47ce-88a3-f2d235cc96a8",
   "metadata": {},
   "outputs": [],
   "source": [
    "def make_rotor(r1, r2, rotation_angle):\n",
    "    # r1 and r2 are in the plane of rotation\n",
    "    # make a vector or1 orthogonal to r1\n",
    "    r1_hat = r1 / r1.norm()\n",
    "    r2_hat = r2 / r2.norm()\n",
    "    or1 = r2_hat - ((r1_hat|r2_hat)*r1_hat)\n",
    "    or1_hat = or1 / or1.norm()\n",
    "    print(f\" r1_hat: {r1_hat}\")\n",
    "    print(f\" r2_hat: {r2_hat}\")\n",
    "    print(f\"or1_hat: {or1_hat}\")\n",
    "    # make a vector q1 such that the angle between r1 and q1 is one-half the rotation angle\n",
    "    q1 = sympy.cos(rotation_angle / 2)*r1_hat + sympy.sin(rotation_angle / 2)*or1_hat\n",
    "    q1_hat = q1 / q1.norm()\n",
    "    R = r1_hat * q1_hat\n",
    "    return R"
   ]
  },
  {
   "cell_type": "code",
   "execution_count": 7,
   "id": "bb98d1e6-5c4e-4e0b-b595-60b7ef16fab8",
   "metadata": {},
   "outputs": [
    {
     "data": {
      "application/vnd.jupyter.widget-view+json": {
       "model_id": "c96f6fa6452649d5a0b5b4da046a1ec9",
       "version_major": 2,
       "version_minor": 0
      },
      "text/plain": [
       "Canvas(toolbar=Toolbar(toolitems=[('Home', 'Reset original view', 'home', 'home'), ('Back', 'Back to previous …"
      ]
     },
     "metadata": {},
     "output_type": "display_data"
    },
    {
     "name": "stdout",
     "output_type": "stream",
     "text": [
      "e_1\n",
      "[0, 1, 0, 0, 0, 0, 0, 0]\n",
      "sqrt(3)*e_1/2 + e_2/2\n",
      "[0, sqrt(3)/2, 1/2, 0, 0, 0, 0, 0]\n"
     ]
    }
   ],
   "source": [
    "ax = plt.figure().add_subplot(projection='3d')\n",
    "plot_vector(ax, n_hat, c=\"orange\")\n",
    "plot_vector(ax, m_hat, c=\"blue\")\n",
    "make_plot_fancy(ax)"
   ]
  },
  {
   "cell_type": "code",
   "execution_count": 8,
   "id": "07e1033e-6d18-40e7-b941-49165eda9175",
   "metadata": {},
   "outputs": [
    {
     "data": {
      "text/latex": [
       "\\begin{equation*} \\frac{\\sqrt{3}}{2}  - \\frac{1}{2} \\boldsymbol{e}_{1}\\wedge \\boldsymbol{e}_{2} \\end{equation*}"
      ],
      "text/plain": [
       "sqrt(3)/2 - e_1^e_2/2"
      ]
     },
     "execution_count": 8,
     "metadata": {},
     "output_type": "execute_result"
    }
   ],
   "source": [
    "R_ = m_hat*n_hat\n",
    "R_"
   ]
  },
  {
   "cell_type": "code",
   "execution_count": 9,
   "id": "45998210-8179-4825-a36b-bd83f34fb230",
   "metadata": {},
   "outputs": [
    {
     "data": {
      "text/latex": [
       "\\begin{equation*} \\frac{1}{2} \\boldsymbol{e}_{1} + \\frac{\\sqrt{3}}{2} \\boldsymbol{e}_{2} \\end{equation*}"
      ],
      "text/plain": [
       "e_1/2 + sqrt(3)*e_2/2"
      ]
     },
     "execution_count": 9,
     "metadata": {},
     "output_type": "execute_result"
    }
   ],
   "source": [
    "R_*a*R_.rev()"
   ]
  },
  {
   "cell_type": "code",
   "execution_count": 10,
   "id": "18271038-81f0-4b5e-b70a-003a53460ecc",
   "metadata": {},
   "outputs": [
    {
     "name": "stdout",
     "output_type": "stream",
     "text": [
      " r1_hat: e_1\n",
      " r2_hat: e_2\n",
      "or1_hat: e_2\n"
     ]
    },
    {
     "data": {
      "text/latex": [
       "\\begin{equation*} \\frac{\\sqrt{3}}{2}  + \\frac{1}{2} \\boldsymbol{e}_{1}\\wedge \\boldsymbol{e}_{2} \\end{equation*}"
      ],
      "text/plain": [
       "sqrt(3)/2 + e_1^e_2/2"
      ]
     },
     "execution_count": 10,
     "metadata": {},
     "output_type": "execute_result"
    }
   ],
   "source": [
    "R = make_rotor(e1, e2, sympy.pi/3)\n",
    "R"
   ]
  },
  {
   "cell_type": "code",
   "execution_count": 11,
   "id": "0c718a03-d2f5-4aac-bb4c-b85aef87de8a",
   "metadata": {},
   "outputs": [
    {
     "data": {
      "text/latex": [
       "\\begin{equation*} \\frac{1}{2} \\boldsymbol{e}_{1} - \\frac{\\sqrt{3}}{2} \\boldsymbol{e}_{2} \\end{equation*}"
      ],
      "text/plain": [
       "e_1/2 - sqrt(3)*e_2/2"
      ]
     },
     "execution_count": 11,
     "metadata": {},
     "output_type": "execute_result"
    }
   ],
   "source": [
    "b = R*(a)*(R.rev())\n",
    "b"
   ]
  },
  {
   "cell_type": "code",
   "execution_count": 12,
   "id": "a43d49cf-cbde-47a8-9b61-9f694b29fb96",
   "metadata": {},
   "outputs": [
    {
     "data": {
      "text/latex": [
       "$\\displaystyle \\frac{\\pi}{3}$"
      ],
      "text/plain": [
       "pi/3"
      ]
     },
     "execution_count": 12,
     "metadata": {},
     "output_type": "execute_result"
    }
   ],
   "source": [
    "sympy.acos((a|b).obj)"
   ]
  },
  {
   "cell_type": "code",
   "execution_count": 13,
   "id": "32d99de6-0ca9-42b8-be91-79e0202490de",
   "metadata": {},
   "outputs": [
    {
     "data": {
      "application/vnd.jupyter.widget-view+json": {
       "model_id": "2bb732f5a6844bdf9ec82637f396bb13",
       "version_major": 2,
       "version_minor": 0
      },
      "text/plain": [
       "Canvas(toolbar=Toolbar(toolitems=[('Home', 'Reset original view', 'home', 'home'), ('Back', 'Back to previous …"
      ]
     },
     "metadata": {},
     "output_type": "display_data"
    },
    {
     "name": "stdout",
     "output_type": "stream",
     "text": [
      "e_1\n",
      "[0, 1, 0, 0, 0, 0, 0, 0]\n",
      "e_1/2 - sqrt(3)*e_2/2\n",
      "[0, 1/2, (-1)*1/2*sqrt(3), 0, 0, 0, 0, 0]\n"
     ]
    }
   ],
   "source": [
    "ax = plt.figure().add_subplot(projection='3d')\n",
    "plot_vector(ax, a, c=\"r\")\n",
    "plot_vector(ax, b, c=\"g\")\n",
    "ax.set_xlabel(\"x\")\n",
    "ax.set_ylabel(\"y\")\n",
    "ax.set_zlabel(\"z\")\n",
    "ax.set_xlim3d([-2, 2])\n",
    "ax.set_ylim3d([-2, 2])\n",
    "ax.set_zlim3d([-2, 2])\n",
    "ax.set_box_aspect(aspect = (1,1,1))"
   ]
  },
  {
   "cell_type": "code",
   "execution_count": 14,
   "id": "2b5c9cfc-4fbd-4e45-9b8c-9a0ca3268d96",
   "metadata": {},
   "outputs": [
    {
     "name": "stdout",
     "output_type": "stream",
     "text": [
      "A: e_2^e_3\n"
     ]
    },
    {
     "data": {
      "text/latex": [
       "\\begin{equation*} - \\boldsymbol{e}_{3} \\end{equation*}"
      ],
      "text/plain": [
       "-e_3"
      ]
     },
     "execution_count": 14,
     "metadata": {},
     "output_type": "execute_result"
    }
   ],
   "source": [
    "# rotate vector b around a by 5 degrees\n",
    "A = a.dual()\n",
    "print(f\"A: {A}\")\n",
    "# find a unit vector m_hat in A\n",
    "m = b|A\n",
    "m_hat = m / m.norm()\n",
    "m_hat"
   ]
  },
  {
   "cell_type": "code",
   "execution_count": 15,
   "id": "d4f3b244-c4c4-4eec-998c-3a0b143bfae7",
   "metadata": {},
   "outputs": [
    {
     "data": {
      "text/latex": [
       "\\begin{equation*}  \\boldsymbol{e}_{2} \\end{equation*}"
      ],
      "text/plain": [
       "e_2"
      ]
     },
     "execution_count": 15,
     "metadata": {},
     "output_type": "execute_result"
    }
   ],
   "source": [
    "# find a unit vector n_hat in A orthogonal to m\n",
    "n = m|A\n",
    "n_hat = n / n.norm()\n",
    "n_hat"
   ]
  },
  {
   "cell_type": "code",
   "execution_count": 16,
   "id": "a47e6673-8a5f-43ca-a532-8f8210678a82",
   "metadata": {},
   "outputs": [],
   "source": [
    "# find a unit vector r_hat making a small angle with m_hat\n",
    "r_hat = sympy.cos(sympy.pi/20)*m_hat + sympy.sin(sympy.pi/20)*n_hat"
   ]
  },
  {
   "cell_type": "code",
   "execution_count": 17,
   "id": "e8d426d3-5f3d-4645-9f9f-5ad083cc4a36",
   "metadata": {},
   "outputs": [
    {
     "data": {
      "application/vnd.jupyter.widget-view+json": {
       "model_id": "a27eeb8c8bbc428390e1fd28b1e9bc76",
       "version_major": 2,
       "version_minor": 0
      },
      "text/plain": [
       "Canvas(toolbar=Toolbar(toolitems=[('Home', 'Reset original view', 'home', 'home'), ('Back', 'Back to previous …"
      ]
     },
     "metadata": {},
     "output_type": "display_data"
    },
    {
     "name": "stdout",
     "output_type": "stream",
     "text": [
      "-e_3\n",
      "[0, 0, 0, -1, 0, 0, 0, 0]\n",
      "e_2\n",
      "[0, 0, 1, 0, 0, 0, 0, 0]\n",
      "(-sqrt(5 - sqrt(5))/4 + sqrt(2)/8 + sqrt(10)/8)*e_2 + (-sqrt(5 - sqrt(5))/4 - sqrt(10)/8 - sqrt(2)/8)*e_3\n",
      "[0, 0, (-1)*1/2*sqrt(2)*sqrt(5/8 - sqrt(5)/8) + sqrt(2)/8 + sqrt(10)/8, (-1)*1/2*sqrt(2)*sqrt(5/8 - sqrt(5)/8) + (-1)*1/8*sqrt(10) + (-1)*1/8*sqrt(2), 0, 0, 0, 0]\n"
     ]
    }
   ],
   "source": [
    "# plot m_hat, n_hat, r_hat\n",
    "ax = plt.figure().add_subplot(projection='3d')\n",
    "plot_vector(ax, m_hat, c=colors[\"magenta\"])\n",
    "plot_vector(ax, n_hat, c=colors[\"navy\"])\n",
    "plot_vector(ax, r_hat, c=colors[\"red\"])\n",
    "ax.set_xlabel(\"x\")\n",
    "ax.set_ylabel(\"y\")\n",
    "ax.set_zlabel(\"z\")\n",
    "ax.set_xlim3d([-2, 2])\n",
    "ax.set_ylim3d([-2, 2])\n",
    "ax.set_zlim3d([-2, 2])\n",
    "ax.set_box_aspect(aspect = (1,1,1))"
   ]
  },
  {
   "cell_type": "code",
   "execution_count": 18,
   "id": "4287b0d7-2973-43cd-b49a-ccb3db4dad28",
   "metadata": {},
   "outputs": [
    {
     "data": {
      "text/latex": [
       "\\begin{equation*} \\left ( \\frac{\\sqrt{2}}{8} + \\frac{\\sqrt{10}}{8} + \\frac{\\sqrt{5 - \\sqrt{5}}}{4}\\right )  + \\left ( - \\frac{\\sqrt{5 - \\sqrt{5}}}{4} + \\frac{\\sqrt{2}}{8} + \\frac{\\sqrt{10}}{8}\\right ) \\boldsymbol{e}_{2}\\wedge \\boldsymbol{e}_{3} \\end{equation*}"
      ],
      "text/plain": [
       "sqrt(2)/8 + sqrt(10)/8 + sqrt(5 - sqrt(5))/4 + (-sqrt(5 - sqrt(5))/4 + sqrt(2)/8 + sqrt(10)/8)*e_2^e_3"
      ]
     },
     "execution_count": 18,
     "metadata": {},
     "output_type": "execute_result"
    }
   ],
   "source": [
    "# make a pi/20 rotor\n",
    "R = m_hat*r_hat\n",
    "R"
   ]
  },
  {
   "cell_type": "code",
   "execution_count": 19,
   "id": "0be3ef97-84bf-47af-82c1-6b237a271219",
   "metadata": {},
   "outputs": [
    {
     "data": {
      "application/vnd.jupyter.widget-view+json": {
       "model_id": "988586b246684256839f16e64743fa28",
       "version_major": 2,
       "version_minor": 0
      },
      "text/plain": [
       "Canvas(toolbar=Toolbar(toolitems=[('Home', 'Reset original view', 'home', 'home'), ('Back', 'Back to previous …"
      ]
     },
     "metadata": {},
     "output_type": "display_data"
    },
    {
     "name": "stdout",
     "output_type": "stream",
     "text": [
      "e_1/2 - sqrt(5 - sqrt(5))*(sqrt(6) + sqrt(30))*e_2/16 + (-sqrt(3)/8 + sqrt(15)/8)*e_3\n",
      "[0, 1/2, (-1)*1/4*sqrt(15)*sqrt(5/8 - sqrt(5)/8) + (-1)*1/4*sqrt(3)*sqrt(5/8 - sqrt(5)/8), (-1)*1/8*sqrt(3) + sqrt(15)/8, 0, 0, 0, 0]\n",
      "e_1/2 + (-sqrt(15)/8 - sqrt(3)/8)*e_2 + sqrt(30 - 6*sqrt(5))*e_3/8\n",
      "[0, 1/2, (-1)*1/8*sqrt(15) + (-1)*1/8*sqrt(3), sqrt(3)*sqrt(5/8 - sqrt(5)/8)/2, 0, 0, 0, 0]\n",
      "e_1/2 - sqrt(30 - 6*sqrt(5))*e_2/8 + (sqrt(3)/8 + sqrt(15)/8)*e_3\n",
      "[0, 1/2, (-1)*1/2*sqrt(3)*sqrt(5/8 - sqrt(5)/8), sqrt(3)/8 + sqrt(15)/8, 0, 0, 0, 0]\n",
      "e_1/2 + (-sqrt(15)/8 + sqrt(3)/8)*e_2 + sqrt(5 - sqrt(5))*(sqrt(6) + sqrt(30))*e_3/16\n",
      "[0, 1/2, (-1)*1/8*sqrt(15) + sqrt(3)/8, sqrt(3)*sqrt(5/8 - sqrt(5)/8)/4 + sqrt(15)*sqrt(5/8 - sqrt(5)/8)/4, 0, 0, 0, 0]\n",
      "e_1/2 + sqrt(3)*e_3/2\n",
      "[0, 1/2, 0, sqrt(3)/2, 0, 0, 0, 0]\n",
      "e_1/2 + (-sqrt(3)/8 + sqrt(15)/8)*e_2 + sqrt(5 - sqrt(5))*(sqrt(6) + sqrt(30))*e_3/16\n",
      "[0, 1/2, (-1)*1/8*sqrt(3) + sqrt(15)/8, sqrt(3)*sqrt(5/8 - sqrt(5)/8)/4 + sqrt(15)*sqrt(5/8 - sqrt(5)/8)/4, 0, 0, 0, 0]\n",
      "e_1/2 + sqrt(30 - 6*sqrt(5))*e_2/8 + (sqrt(3)/8 + sqrt(15)/8)*e_3\n",
      "[0, 1/2, sqrt(3)*sqrt(5/8 - sqrt(5)/8)/2, sqrt(3)/8 + sqrt(15)/8, 0, 0, 0, 0]\n",
      "e_1/2 + (sqrt(3)/8 + sqrt(15)/8)*e_2 + sqrt(30 - 6*sqrt(5))*e_3/8\n",
      "[0, 1/2, sqrt(3)/8 + sqrt(15)/8, sqrt(3)*sqrt(5/8 - sqrt(5)/8)/2, 0, 0, 0, 0]\n",
      "e_1/2 + sqrt(5 - sqrt(5))*(sqrt(6) + sqrt(30))*e_2/16 + (-sqrt(3)/8 + sqrt(15)/8)*e_3\n",
      "[0, 1/2, sqrt(3)*sqrt(5/8 - sqrt(5)/8)/4 + sqrt(15)*sqrt(5/8 - sqrt(5)/8)/4, (-1)*1/8*sqrt(3) + sqrt(15)/8, 0, 0, 0, 0]\n",
      "e_1/2 + sqrt(3)*e_2/2\n",
      "[0, 1/2, sqrt(3)/2, 0, 0, 0, 0, 0]\n",
      "e_1/2 + sqrt(5 - sqrt(5))*(sqrt(6) + sqrt(30))*e_2/16 + (-sqrt(15)/8 + sqrt(3)/8)*e_3\n",
      "[0, 1/2, sqrt(3)*sqrt(5/8 - sqrt(5)/8)/4 + sqrt(15)*sqrt(5/8 - sqrt(5)/8)/4, (-1)*1/8*sqrt(15) + sqrt(3)/8, 0, 0, 0, 0]\n",
      "e_1/2 + (sqrt(3)/8 + sqrt(15)/8)*e_2 - sqrt(30 - 6*sqrt(5))*e_3/8\n",
      "[0, 1/2, sqrt(3)/8 + sqrt(15)/8, (-1)*1/2*sqrt(3)*sqrt(5/8 - sqrt(5)/8), 0, 0, 0, 0]\n",
      "e_1/2 + sqrt(30 - 6*sqrt(5))*e_2/8 + (-sqrt(15)/8 - sqrt(3)/8)*e_3\n",
      "[0, 1/2, sqrt(3)*sqrt(5/8 - sqrt(5)/8)/2, (-1)*1/8*sqrt(15) + (-1)*1/8*sqrt(3), 0, 0, 0, 0]\n",
      "e_1/2 + (-sqrt(3)/8 + sqrt(15)/8)*e_2 - sqrt(5 - sqrt(5))*(sqrt(6) + sqrt(30))*e_3/16\n",
      "[0, 1/2, (-1)*1/8*sqrt(3) + sqrt(15)/8, (-1)*1/4*sqrt(15)*sqrt(5/8 - sqrt(5)/8) + (-1)*1/4*sqrt(3)*sqrt(5/8 - sqrt(5)/8), 0, 0, 0, 0]\n",
      "e_1/2 - sqrt(3)*e_3/2\n",
      "[0, 1/2, 0, (-1)*1/2*sqrt(3), 0, 0, 0, 0]\n",
      "e_1/2 + (-sqrt(15)/8 + sqrt(3)/8)*e_2 - sqrt(5 - sqrt(5))*(sqrt(6) + sqrt(30))*e_3/16\n",
      "[0, 1/2, (-1)*1/8*sqrt(15) + sqrt(3)/8, (-1)*1/4*sqrt(15)*sqrt(5/8 - sqrt(5)/8) + (-1)*1/4*sqrt(3)*sqrt(5/8 - sqrt(5)/8), 0, 0, 0, 0]\n",
      "e_1/2 - sqrt(30 - 6*sqrt(5))*e_2/8 + (-sqrt(15)/8 - sqrt(3)/8)*e_3\n",
      "[0, 1/2, (-1)*1/2*sqrt(3)*sqrt(5/8 - sqrt(5)/8), (-1)*1/8*sqrt(15) + (-1)*1/8*sqrt(3), 0, 0, 0, 0]\n",
      "e_1/2 + (-sqrt(15)/8 - sqrt(3)/8)*e_2 - sqrt(30 - 6*sqrt(5))*e_3/8\n",
      "[0, 1/2, (-1)*1/8*sqrt(15) + (-1)*1/8*sqrt(3), (-1)*1/2*sqrt(3)*sqrt(5/8 - sqrt(5)/8), 0, 0, 0, 0]\n",
      "e_1/2 - sqrt(5 - sqrt(5))*(sqrt(6) + sqrt(30))*e_2/16 + (-sqrt(15)/8 + sqrt(3)/8)*e_3\n",
      "[0, 1/2, (-1)*1/4*sqrt(15)*sqrt(5/8 - sqrt(5)/8) + (-1)*1/4*sqrt(3)*sqrt(5/8 - sqrt(5)/8), (-1)*1/8*sqrt(15) + sqrt(3)/8, 0, 0, 0, 0]\n",
      "e_1/2 - sqrt(3)*e_2/2\n",
      "[0, 1/2, (-1)*1/2*sqrt(3), 0, 0, 0, 0, 0]\n",
      "e_1\n",
      "[0, 1, 0, 0, 0, 0, 0, 0]\n",
      "e_1/2 - sqrt(3)*e_2/2\n",
      "[0, 1/2, (-1)*1/2*sqrt(3), 0, 0, 0, 0, 0]\n"
     ]
    }
   ],
   "source": [
    "# plot rotated vectors\n",
    "ax = plt.figure().add_subplot(projection='3d')\n",
    "b_i = b\n",
    "for i in range(20):\n",
    "    b_i = R*b_i*R.rev()\n",
    "    plot_vector(ax, b_i, c=colors[\"seagreen\"])\n",
    "plot_vector(ax, a, c=colors[\"red\"])\n",
    "plot_vector(ax, b, c=colors[\"blue\"])\n",
    "\n",
    "ax.set_xlabel(\"x\")\n",
    "ax.set_ylabel(\"y\")\n",
    "ax.set_zlabel(\"z\")\n",
    "ax.set_xlim3d([-2, 2])\n",
    "ax.set_ylim3d([-2, 2])\n",
    "ax.set_zlim3d([-2, 2])\n",
    "ax.set_box_aspect(aspect = (1,1,1))    "
   ]
  },
  {
   "cell_type": "code",
   "execution_count": 20,
   "id": "72555e8c-b32a-4cfe-a322-3d163ddb6cd0",
   "metadata": {},
   "outputs": [
    {
     "data": {
      "application/vnd.jupyter.widget-view+json": {
       "model_id": "1f7abdf5d3a74cb0a749added581c0d1",
       "version_major": 2,
       "version_minor": 0
      },
      "text/plain": [
       "Canvas(toolbar=Toolbar(toolitems=[('Home', 'Reset original view', 'home', 'home'), ('Back', 'Back to previous …"
      ]
     },
     "metadata": {},
     "output_type": "display_data"
    },
    {
     "name": "stdout",
     "output_type": "stream",
     "text": [
      "e_1\n",
      "[0, 1, 0, 0, 0, 0, 0, 0]\n",
      "e_1/2 - sqrt(3)*e_2/2\n",
      "[0, 1/2, (-1)*1/2*sqrt(3), 0, 0, 0, 0, 0]\n"
     ]
    }
   ],
   "source": [
    "# plot rotated points\n",
    "ax = plt.figure().add_subplot(projection='3d')\n",
    "bs = []\n",
    "b_i = b\n",
    "bs.append(b_i)\n",
    "for i in range(20):\n",
    "    b_i = R*b_i*R.rev()\n",
    "    bs.append(b_i)\n",
    "    b_i_coefs = b_i.blade_coefs()\n",
    "    ax.scatter(b_i_coefs[1], b_i_coefs[2], b_i_coefs[3], c=colors[\"seagreen\"])\n",
    "plot_vector(ax, a, c=colors[\"red\"])\n",
    "plot_vector(ax, b, c=colors[\"blue\"])\n",
    "\n",
    "ax.set_xlabel(\"x\")\n",
    "ax.set_ylabel(\"y\")\n",
    "ax.set_zlabel(\"z\")\n",
    "ax.set_xlim3d([-1, 1])\n",
    "ax.set_ylim3d([-1, 1])\n",
    "ax.set_zlim3d([-1, 1])\n",
    "ax.set_box_aspect(aspect = (1,1,1))    "
   ]
  },
  {
   "cell_type": "markdown",
   "id": "363ec595-6107-4369-ad10-f776980bf5c0",
   "metadata": {},
   "source": [
    "# Conformal Model"
   ]
  },
  {
   "cell_type": "code",
   "execution_count": 21,
   "id": "6e3b6cbc-32aa-416b-862d-297f9963ce46",
   "metadata": {},
   "outputs": [],
   "source": [
    "# cm3coords = (o, x1, x2, x3, inf) = sympy.symbols(\"origin x_1 x_2 x_3 inf\", real=True)\n",
    "# cm3metric = \"0 0 0 0 -1, 0 1 0 0 0, 0 0 1 0 0, 0 0 0 1 0, -1 0 0 0 0\"\n",
    "# cm3basis = \"e_o e_1 e_2 e_3 e_\\inf\"\n",
    "# cm3 = Ga(cm3basis, g=cm3metric, coords=cm3coords)\n",
    "# eo, e1, e2, e3, eoo = cm3.mv()\n",
    "# eplus = (eo - eoo)/2\n",
    "# eminus = (eo + eoo)/2\n",
    "# E = eo^eoo\n",
    "# Ga.dual_mode(\"Iinv+\")"
   ]
  },
  {
   "cell_type": "code",
   "execution_count": 22,
   "id": "addacf72-f8d0-4499-a0bf-bef66f2466d1",
   "metadata": {},
   "outputs": [],
   "source": [
    "# n_bar is the origin, n is the point at infinity\n",
    "cm3coords = (o, c1, c2, c3, inf) = sympy.symbols(\"origin x_1 x_2 x_3 inf\", real=True)\n",
    "cm3metric = \"0 0 0 0 2, 0 1 0 0 0, 0 0 1 0 0, 0 0 0 1 0, 2 0 0 0 0\"\n",
    "cm3basis = \"\\overline{n} f_1 f_2 f_3 n\"\n",
    "cm3 = Ga(cm3basis, g=cm3metric, coords=cm3coords)\n",
    "n_bar, f1, f2, f3, n = cm3.mv()\n",
    "#f_bar = (n - n_bar)/2\n",
    "#f = (n_bar + n)/2\n",
    "f_bar, f = sympy.symbols(\"f_bar f\")\n",
    "#Ga.dual_mode(\"Iinv+\")  # desperation"
   ]
  },
  {
   "cell_type": "code",
   "execution_count": 23,
   "id": "996d0f2f-f8a9-42a3-858c-7ad9e35fece1",
   "metadata": {},
   "outputs": [],
   "source": [
    "def build_conformal_point(point_g3):\n",
    "    # page 210 (11.45)\n",
    "    x_g3, y_g3, z_g3 = point_g3.blade_coefs()[1:4]\n",
    "    p = x_g3*f1 + y_g3*f2 + z_g3*f3\n",
    "    point_g5 = (1/2)*(2*p + (p*p)*n - n_bar)\n",
    "    return point_g5"
   ]
  },
  {
   "cell_type": "code",
   "execution_count": 24,
   "id": "8320dcf8-2940-4ed3-af07-12c26516ee9b",
   "metadata": {},
   "outputs": [],
   "source": [
    "def build_conformal_circle(p1_g5, p2_g5, p3_g5):\n",
    "    C = p1_g5 ^ p2_g5 ^ p3_g5\n",
    "    return C"
   ]
  },
  {
   "cell_type": "code",
   "execution_count": 25,
   "id": "6e1ddfc9-eb27-4dc5-990a-1ff8a9b32773",
   "metadata": {},
   "outputs": [],
   "source": [
    "def normalize_conformal_mv(X):\n",
    "    return X / (-X|n)"
   ]
  },
  {
   "cell_type": "code",
   "execution_count": 26,
   "id": "80b61575-8bac-4f88-aa48-1f3efad81246",
   "metadata": {},
   "outputs": [],
   "source": [
    "bs_g5 = [build_conformal_point(b_i) for b_i in bs]"
   ]
  },
  {
   "cell_type": "markdown",
   "id": "0008c11b-e826-4411-86c4-ca1a665f0bb1",
   "metadata": {},
   "source": [
    "page 210 (11.47)\n",
    "expect P = -1/2 * n_bar"
   ]
  },
  {
   "cell_type": "code",
   "execution_count": 27,
   "id": "496b8eae-1e8c-4459-bc90-358decb28b6a",
   "metadata": {},
   "outputs": [
    {
     "data": {
      "text/latex": [
       "\\begin{equation*} -0.5 \\boldsymbol{\\overline{n}} \\end{equation*}"
      ],
      "text/plain": [
       "-0.5*\\overline{n}"
      ]
     },
     "execution_count": 27,
     "metadata": {},
     "output_type": "execute_result"
    }
   ],
   "source": [
    "P = build_conformal_point(0*e1+0*e2+0*e3)\n",
    "P"
   ]
  },
  {
   "cell_type": "markdown",
   "id": "e66fce5f-1007-493f-97fc-83f6fd6043b9",
   "metadata": {},
   "source": [
    "page 210 (11.48)\n",
    "\n",
    "expect P = 2*f_2 + 2*n - (1/2)*n_bar"
   ]
  },
  {
   "cell_type": "code",
   "execution_count": 28,
   "id": "4ddaa2a1-fe36-4687-8fdd-82ce98f87ffa",
   "metadata": {},
   "outputs": [
    {
     "data": {
      "text/latex": [
       "\\begin{equation*} -0.5 \\boldsymbol{\\overline{n}} + 2.0 \\boldsymbol{f}_{2} + 2.0 \\boldsymbol{n} \\end{equation*}"
      ],
      "text/plain": [
       "-0.5*\\overline{n} + 2.0*f_2 + 2.0*n"
      ]
     },
     "execution_count": 28,
     "metadata": {},
     "output_type": "execute_result"
    }
   ],
   "source": [
    "P = build_conformal_point(0*e1+2*e2+0*e3)\n",
    "P"
   ]
  },
  {
   "cell_type": "code",
   "execution_count": 29,
   "id": "5977cae3-695b-40cc-bd16-6bd4acc89424",
   "metadata": {},
   "outputs": [
    {
     "data": {
      "text/latex": [
       "\\begin{equation*} -0.5 \\boldsymbol{\\overline{n}} + 2.0 \\boldsymbol{f}_{2} + 2.0 \\boldsymbol{n} \\end{equation*}"
      ],
      "text/plain": [
       "-0.5*\\overline{n} + 2.0*f_2 + 2.0*n"
      ]
     },
     "execution_count": 29,
     "metadata": {},
     "output_type": "execute_result"
    }
   ],
   "source": [
    "normalize_conformal_mv(P)"
   ]
  },
  {
   "cell_type": "code",
   "execution_count": 30,
   "id": "43853028-f255-4ec1-96c0-fe14535ca6da",
   "metadata": {},
   "outputs": [],
   "source": [
    "C1_p1_g3 =  e1\n",
    "C1_p2_g3 =  e2\n",
    "C1_p3_g3 = -e1"
   ]
  },
  {
   "cell_type": "code",
   "execution_count": 31,
   "id": "b11be251-b92c-4034-8854-174b297932ee",
   "metadata": {},
   "outputs": [],
   "source": [
    "C1_p1_g5 = build_conformal_point(C1_p1_g3)\n",
    "C1_p2_g5 = build_conformal_point(C1_p2_g3)\n",
    "C1_p3_g5 = build_conformal_point(C1_p3_g3)"
   ]
  },
  {
   "cell_type": "code",
   "execution_count": 32,
   "id": "8986a120-d04b-4205-862a-5cc7dbfff931",
   "metadata": {},
   "outputs": [
    {
     "data": {
      "text/latex": [
       "\\begin{equation*} -1.0 \\boldsymbol{\\overline{n}}\\wedge \\boldsymbol{f}_{1}\\wedge \\boldsymbol{f}_{2} + 1.0 \\boldsymbol{f}_{1}\\wedge \\boldsymbol{f}_{2}\\wedge \\boldsymbol{n} \\end{equation*}"
      ],
      "text/plain": [
       "-1.0*\\overline{n}^f_1^f_2 + 1.0*f_1^f_2^n"
      ]
     },
     "execution_count": 32,
     "metadata": {},
     "output_type": "execute_result"
    }
   ],
   "source": [
    "C1_g5 = build_conformal_circle(C1_p1_g5, C1_p2_g5, C1_p3_g5)\n",
    "C1_g5"
   ]
  },
  {
   "cell_type": "markdown",
   "id": "470c7515-b306-4c1e-91ae-d2f253c5aeef",
   "metadata": {},
   "source": [
    "the radius of c1 should be 1"
   ]
  },
  {
   "cell_type": "code",
   "execution_count": 33,
   "id": "593849e8-c2b3-4de3-8fb7-cfae9e96514d",
   "metadata": {},
   "outputs": [
    {
     "data": {
      "text/latex": [
       "\\begin{equation*} 1.0 \\end{equation*}"
      ],
      "text/plain": [
       "1.0"
      ]
     },
     "execution_count": 33,
     "metadata": {},
     "output_type": "execute_result"
    }
   ],
   "source": [
    "rho_squared = -(C1_g5*C1_g5) / ((C1_g5 ^ n)*(C1_g5 ^ n))\n",
    "rho_squared"
   ]
  },
  {
   "cell_type": "markdown",
   "id": "614836f6-0b04-40be-b253-b4f534cce897",
   "metadata": {},
   "source": [
    "the center of c1 is the origin"
   ]
  },
  {
   "cell_type": "code",
   "execution_count": 34,
   "id": "14aae59c-680e-4789-ab73-0d225c59d066",
   "metadata": {},
   "outputs": [
    {
     "data": {
      "text/latex": [
       "\\begin{equation*} -4.0 \\boldsymbol{\\overline{n}} \\end{equation*}"
      ],
      "text/plain": [
       "-4.0*\\overline{n}"
      ]
     },
     "execution_count": 34,
     "metadata": {},
     "output_type": "execute_result"
    }
   ],
   "source": [
    "C1_g5*n*C1_g5"
   ]
  },
  {
   "cell_type": "markdown",
   "id": "201932a7-12cb-4911-a153-d1d40962491a",
   "metadata": {},
   "source": [
    "page 215"
   ]
  },
  {
   "cell_type": "code",
   "execution_count": 35,
   "id": "a9a2f132-1ce3-451e-8936-d6f87f8d7a26",
   "metadata": {},
   "outputs": [
    {
     "data": {
      "text/latex": [
       "\\begin{equation*} -0.5 \\boldsymbol{\\overline{n}} + 4.0 \\boldsymbol{f}_{1} + 8.0 \\boldsymbol{n} \\end{equation*}"
      ],
      "text/plain": [
       "-0.5*\\overline{n} + 4.0*f_1 + 8.0*n"
      ]
     },
     "execution_count": 35,
     "metadata": {},
     "output_type": "execute_result"
    }
   ],
   "source": [
    "P_1 = build_conformal_point(4*e1)\n",
    "P_1"
   ]
  },
  {
   "cell_type": "code",
   "execution_count": 36,
   "id": "08507d84-fb4f-4930-a88d-ac21780324a6",
   "metadata": {},
   "outputs": [
    {
     "data": {
      "text/latex": [
       "\\begin{equation*} -0.5 \\boldsymbol{\\overline{n}} + 2.0 \\boldsymbol{f}_{1} + 2.0 \\boldsymbol{f}_{2} + 4.0 \\boldsymbol{n} \\end{equation*}"
      ],
      "text/plain": [
       "-0.5*\\overline{n} + 2.0*f_1 + 2.0*f_2 + 4.0*n"
      ]
     },
     "execution_count": 36,
     "metadata": {},
     "output_type": "execute_result"
    }
   ],
   "source": [
    "P_2 = build_conformal_point(2*e1 + 2*e2)\n",
    "P_2"
   ]
  },
  {
   "cell_type": "code",
   "execution_count": 37,
   "id": "5c3a957c-c25d-4a2d-bab2-ee16be48b394",
   "metadata": {},
   "outputs": [
    {
     "data": {
      "text/latex": [
       "\\begin{equation*} -0.5 \\boldsymbol{\\overline{n}} \\end{equation*}"
      ],
      "text/plain": [
       "-0.5*\\overline{n}"
      ]
     },
     "execution_count": 37,
     "metadata": {},
     "output_type": "execute_result"
    }
   ],
   "source": [
    "P_3 = build_conformal_point(0*e1)\n",
    "P_3"
   ]
  },
  {
   "cell_type": "code",
   "execution_count": 38,
   "id": "f6dac116-f7d4-461f-8012-a767b683ac76",
   "metadata": {},
   "outputs": [
    {
     "data": {
      "text/latex": [
       "\\begin{equation*} -4.0 \\boldsymbol{\\overline{n}}\\wedge \\boldsymbol{f}_{1}\\wedge \\boldsymbol{f}_{2} + 8.0 \\boldsymbol{\\overline{n}}\\wedge \\boldsymbol{f}_{2}\\wedge \\boldsymbol{n} \\end{equation*}"
      ],
      "text/plain": [
       "-4.0*\\overline{n}^f_1^f_2 + 8.0*\\overline{n}^f_2^n"
      ]
     },
     "execution_count": 38,
     "metadata": {},
     "output_type": "execute_result"
    }
   ],
   "source": [
    "C2 = build_conformal_circle(P_1, P_2, P_3)\n",
    "C2"
   ]
  },
  {
   "cell_type": "code",
   "execution_count": 39,
   "id": "fce9e9b2-06a0-4c07-8ec2-896b836b3660",
   "metadata": {},
   "outputs": [],
   "source": [
    "#C2 = normalize_conformal_mv(C2)\n",
    "#C2"
   ]
  },
  {
   "cell_type": "code",
   "execution_count": 40,
   "id": "bec01413-54d6-495f-ad20-151cb7946cf4",
   "metadata": {},
   "outputs": [
    {
     "data": {
      "text/latex": [
       "\\begin{equation*} 4.0 \\boldsymbol{\\overline{n}}\\wedge \\boldsymbol{f}_{3} -16.0 \\boldsymbol{f}_{1}\\wedge \\boldsymbol{f}_{3} \\end{equation*}"
      ],
      "text/plain": [
       "4.0*\\overline{n}^f_3 - 16.0*f_1^f_3"
      ]
     },
     "execution_count": 40,
     "metadata": {},
     "output_type": "execute_result"
    }
   ],
   "source": [
    "C2.dual()"
   ]
  },
  {
   "cell_type": "code",
   "execution_count": 41,
   "id": "28434f84-9d9a-4dd9-8c2e-332248ef73ce",
   "metadata": {},
   "outputs": [
    {
     "data": {
      "text/latex": [
       "\\begin{equation*} -0.5 \\boldsymbol{\\overline{n}} + 2.0 \\boldsymbol{f}_{1} \\end{equation*}"
      ],
      "text/plain": [
       "-0.5*\\overline{n} + 2.0*f_1"
      ]
     },
     "execution_count": 41,
     "metadata": {},
     "output_type": "execute_result"
    }
   ],
   "source": [
    "rho_squared = C2 / (C2^n)\n",
    "rho_squared"
   ]
  },
  {
   "cell_type": "markdown",
   "id": "f0099677-67df-42a8-a167-2c16efffd7e5",
   "metadata": {},
   "source": [
    "page 216"
   ]
  },
  {
   "cell_type": "code",
   "execution_count": 42,
   "id": "da6425ac-7c4d-40ad-ae2e-f75ee22a722c",
   "metadata": {},
   "outputs": [
    {
     "data": {
      "text/latex": [
       "\\begin{equation*} -0.5 \\boldsymbol{\\overline{n}} + 2.0 \\boldsymbol{f}_{1} + 2.0 \\boldsymbol{n} \\end{equation*}"
      ],
      "text/plain": [
       "-0.5*\\overline{n} + 2.0*f_1 + 2.0*n"
      ]
     },
     "execution_count": 42,
     "metadata": {},
     "output_type": "execute_result"
    }
   ],
   "source": [
    "C2nC2 = (C2*n*C2)/(-(C2*n*C2)|n)\n",
    "C2nC2"
   ]
  },
  {
   "cell_type": "code",
   "execution_count": 53,
   "id": "c2588460-d0ef-499d-ab2e-8d578a226ba0",
   "metadata": {},
   "outputs": [
    {
     "data": {
      "text/latex": [
       "\\begin{equation*} -1.0 \\boldsymbol{\\overline{n}}\\wedge \\boldsymbol{f}_{2}\\wedge \\boldsymbol{f}_{3} + 0.5 \\boldsymbol{f}_{1}\\wedge \\boldsymbol{f}_{2}\\wedge \\boldsymbol{f}_{3} + 1.0 \\boldsymbol{f}_{2}\\wedge \\boldsymbol{f}_{3}\\wedge \\boldsymbol{n} \\end{equation*}"
      ],
      "text/plain": [
       "-1.0*\\overline{n}^f_2^f_3 + 0.5*f_1^f_2^f_3 + 1.0*f_2^f_3^n"
      ]
     },
     "execution_count": 53,
     "metadata": {},
     "output_type": "execute_result"
    }
   ],
   "source": [
    "M = (normalize_conformal_mv(C1_g5.dual()) ^ normalize_conformal_mv(C2.dual())).dual()\n",
    "M"
   ]
  },
  {
   "cell_type": "code",
   "execution_count": 54,
   "id": "0ec75914-2556-4793-b58b-1e6c8152ad9d",
   "metadata": {},
   "outputs": [
    {
     "data": {
      "text/latex": [
       "\\begin{equation*} -0.5 \\boldsymbol{\\overline{n}} + 0.25 \\boldsymbol{f}_{1} + 0.5 \\boldsymbol{n} \\end{equation*}"
      ],
      "text/plain": [
       "-0.5*\\overline{n} + 0.25*f_1 + 0.5*n"
      ]
     },
     "execution_count": 54,
     "metadata": {},
     "output_type": "execute_result"
    }
   ],
   "source": [
    "normalize_conformal_mv(M)"
   ]
  },
  {
   "cell_type": "code",
   "execution_count": 55,
   "id": "7ec0a58d-bc24-47cc-81d6-cd0eea29e252",
   "metadata": {},
   "outputs": [
    {
     "data": {
      "text/latex": [
       "\\begin{equation*} -1.0 \\boldsymbol{\\overline{n}}\\wedge \\boldsymbol{f}_{1}\\wedge \\boldsymbol{f}_{2} + 1.0 \\boldsymbol{f}_{1}\\wedge \\boldsymbol{f}_{2}\\wedge \\boldsymbol{n} \\end{equation*}"
      ],
      "text/plain": [
       "-1.0*\\overline{n}^f_1^f_2 + 1.0*f_1^f_2^n"
      ]
     },
     "execution_count": 55,
     "metadata": {},
     "output_type": "execute_result"
    }
   ],
   "source": [
    "C1_g5"
   ]
  },
  {
   "cell_type": "code",
   "execution_count": 56,
   "id": "7fec64df-c039-4738-9787-0eec656c6fd9",
   "metadata": {},
   "outputs": [
    {
     "data": {
      "text/latex": [
       "\\begin{equation*} -4.0 \\boldsymbol{\\overline{n}}\\wedge \\boldsymbol{f}_{1}\\wedge \\boldsymbol{f}_{2} + 8.0 \\boldsymbol{\\overline{n}}\\wedge \\boldsymbol{f}_{2}\\wedge \\boldsymbol{n} \\end{equation*}"
      ],
      "text/plain": [
       "-4.0*\\overline{n}^f_1^f_2 + 8.0*\\overline{n}^f_2^n"
      ]
     },
     "execution_count": 56,
     "metadata": {},
     "output_type": "execute_result"
    }
   ],
   "source": [
    "C2"
   ]
  },
  {
   "cell_type": "code",
   "execution_count": null,
   "id": "86779a91-80e9-45c9-8000-9d1204b03351",
   "metadata": {},
   "outputs": [],
   "source": []
  }
 ],
 "metadata": {
  "kernelspec": {
   "display_name": "Python 3",
   "language": "python",
   "name": "python3"
  },
  "language_info": {
   "codemirror_mode": {
    "name": "ipython",
    "version": 3
   },
   "file_extension": ".py",
   "mimetype": "text/x-python",
   "name": "python",
   "nbconvert_exporter": "python",
   "pygments_lexer": "ipython3",
   "version": "3.8.10"
  }
 },
 "nbformat": 4,
 "nbformat_minor": 5
}
