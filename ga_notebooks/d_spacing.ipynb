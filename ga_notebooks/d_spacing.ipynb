{
 "cells": [
  {
   "cell_type": "code",
   "execution_count": 1,
   "id": "a368bb97-9b77-43bc-ace0-2b34256107c5",
   "metadata": {},
   "outputs": [],
   "source": [
    "import sympy\n",
    "from sympy import *\n",
    "from sympy.ntheory import binomial_coefficients_list\n",
    "from galgebra import *\n",
    "from galgebra.ga import Ga\n",
    "from galgebra.printer import latex\n",
    "from IPython.display import Math\n",
    "\n",
    "# tell sympy to use our printing by default\n",
    "sympy.init_printing(latex_printer=latex, use_latex='mathjax')"
   ]
  },
  {
   "cell_type": "code",
   "execution_count": 2,
   "id": "856b2451-3abc-4617-a1f1-ff87131fb39c",
   "metadata": {},
   "outputs": [],
   "source": [
    "xyz = (x, y, z) = sympy.symbols('x y z', real=True)\n",
    "o3d = Ga('e_1 e_2 e_3', g=[1, 1, 1], coords=xyz)\n",
    "grad = o3d.grad"
   ]
  },
  {
   "cell_type": "code",
   "execution_count": 3,
   "id": "f6501053-86ee-49ef-9e55-330f3bec97f1",
   "metadata": {},
   "outputs": [],
   "source": [
    "e1, e2, e3 = o3d.mv()\n",
    "(a1, a2, a3) = sympy.symbols('a1 a2 a3', real=True)\n",
    "(b1, b2, b3) = sympy.symbols('b1 b2 b3', real=True)\n",
    "(c1, c2, c3) = sympy.symbols('c1 c2 c3', real=True)\n",
    "d, g, f, n, w, v, s, t, h, k, l = sympy.symbols('d g f n w v s t h k l')\n",
    "Ar, Br, Cr = sympy.symbols('Ar Br Cr')\n",
    "\n",
    "a = a1*e1 + a2*e2 + a3*e3\n",
    "b = b1*e1 + b2*e2 + b3*e3\n",
    "c = c1*e1 + c2*e2 + c3*e3"
   ]
  },
  {
   "cell_type": "code",
   "execution_count": 4,
   "id": "0b739012-5452-4b0f-b23f-ebb209ba1b09",
   "metadata": {},
   "outputs": [],
   "source": [
    "w = b^c\n",
    "v = a^w\n",
    "Ar = w/(v.norm())\n",
    "\n",
    "s = a^c\n",
    "t = b^s\n",
    "Br = s/(t.norm())\n",
    "\n",
    "f = a^b\n",
    "n = c^f\n",
    "Cr = f/(n.norm())"
   ]
  },
  {
   "cell_type": "code",
   "execution_count": 5,
   "id": "6a50c94f-0034-4e1d-ba0d-9e3dd469ead4",
   "metadata": {},
   "outputs": [
    {
     "name": "stdout",
     "output_type": "stream",
     "text": [
      "(b1*c2 - b2*c1)*e_1^e_2/(a1*b2*c3 - a1*b3*c2 - a2*b1*c3 + a2*b3*c1 + a3*b1*c2 - a3*b2*c1) + (b1*c3 - b3*c1)*e_1^e_3/(a1*b2*c3 - a1*b3*c2 - a2*b1*c3 + a2*b3*c1 + a3*b1*c2 - a3*b2*c1) + (b2*c3 - b3*c2)*e_2^e_3/(a1*b2*c3 - a1*b3*c2 - a2*b1*c3 + a2*b3*c1 + a3*b1*c2 - a3*b2*c1)\n"
     ]
    }
   ],
   "source": [
    "print(Ar)"
   ]
  },
  {
   "cell_type": "code",
   "execution_count": 6,
   "id": "22f084f7-bd01-4f54-89bc-73f45da832e2",
   "metadata": {},
   "outputs": [
    {
     "name": "stdout",
     "output_type": "stream",
     "text": [
      "a1*b2*c3 - a1*b3*c2 - a2*b1*c3 + a2*b3*c1 + a3*b1*c2 - a3*b2*c1\n"
     ]
    }
   ],
   "source": [
    "print(v.norm())"
   ]
  },
  {
   "cell_type": "code",
   "execution_count": 7,
   "id": "3c4845ba-ac70-4373-89d2-8fda57196733",
   "metadata": {},
   "outputs": [],
   "source": [
    "g = h*Ar + k*Br + l*Cr"
   ]
  },
  {
   "cell_type": "code",
   "execution_count": 8,
   "id": "92e9ef2d-fc86-4dcd-9cd3-fdd16b7a03f2",
   "metadata": {},
   "outputs": [],
   "source": [
    "g111 = g.subs([(h,1), (k,1), (l,1)])"
   ]
  },
  {
   "cell_type": "code",
   "execution_count": 9,
   "id": "77ccf0e5-0119-4542-aa1c-5e5078ac9b39",
   "metadata": {},
   "outputs": [
    {
     "data": {
      "text/latex": [
       "\\begin{equation*}  \\boldsymbol{e}_{1}\\wedge \\boldsymbol{e}_{2}\\wedge \\boldsymbol{e}_{3} \\end{equation*}"
      ],
      "text/plain": [
       "e_1^e_2^e_3"
      ]
     },
     "execution_count": 9,
     "metadata": {},
     "output_type": "execute_result"
    }
   ],
   "source": [
    "g111^a"
   ]
  },
  {
   "cell_type": "code",
   "execution_count": 10,
   "id": "d7ea28e9-efab-461f-8c67-16789185ae77",
   "metadata": {},
   "outputs": [],
   "source": [
    "cubic_vectors = [(a1,1), (a2, 0), (a3,0), (b1,0), (b2,1), (b3,0), (c1,0), (c2,0), (c3,1)]"
   ]
  },
  {
   "cell_type": "code",
   "execution_count": 11,
   "id": "79f8ca62-9fd2-4ffc-b5ec-934eb9bb3c91",
   "metadata": {},
   "outputs": [
    {
     "data": {
      "text/latex": [
       "\\begin{equation*}  \\boldsymbol{e}_{1}\\wedge \\boldsymbol{e}_{2}\\wedge \\boldsymbol{e}_{3} \\end{equation*}"
      ],
      "text/plain": [
       "e_1^e_2^e_3"
      ]
     },
     "execution_count": 11,
     "metadata": {},
     "output_type": "execute_result"
    }
   ],
   "source": [
    "(Ar*a).subs(cubic_vectors)"
   ]
  },
  {
   "cell_type": "code",
   "execution_count": 17,
   "id": "01f1d251-b037-4540-8b61-a3307dbdff34",
   "metadata": {},
   "outputs": [
    {
     "data": {
      "text/latex": [
       "\\begin{equation*} - \\boldsymbol{e}_{1}\\wedge \\boldsymbol{e}_{2}\\wedge \\boldsymbol{e}_{3} \\end{equation*}"
      ],
      "text/plain": [
       "-e_1^e_2^e_3"
      ]
     },
     "execution_count": 17,
     "metadata": {},
     "output_type": "execute_result"
    }
   ],
   "source": [
    "(Br*b).subs(cubic_vectors)"
   ]
  },
  {
   "cell_type": "code",
   "execution_count": 18,
   "id": "d1711ecd-fc30-4e9a-9c48-0fa4bcb105d7",
   "metadata": {},
   "outputs": [
    {
     "data": {
      "text/latex": [
       "\\begin{equation*}  \\boldsymbol{e}_{1}\\wedge \\boldsymbol{e}_{2}\\wedge \\boldsymbol{e}_{3} \\end{equation*}"
      ],
      "text/plain": [
       "e_1^e_2^e_3"
      ]
     },
     "execution_count": 18,
     "metadata": {},
     "output_type": "execute_result"
    }
   ],
   "source": [
    "(Cr*c).subs(cubic_vectors)"
   ]
  },
  {
   "cell_type": "code",
   "execution_count": 20,
   "id": "ac2b94f9-293e-406f-abc5-dd1853552279",
   "metadata": {},
   "outputs": [
    {
     "data": {
      "text/latex": [
       "\\begin{equation*} - \\boldsymbol{e}_{3} \\end{equation*}"
      ],
      "text/plain": [
       "-e_3"
      ]
     },
     "execution_count": 20,
     "metadata": {},
     "output_type": "execute_result"
    }
   ],
   "source": [
    "(Ar*b).subs(cubic_vectors)"
   ]
  },
  {
   "cell_type": "code",
   "execution_count": 22,
   "id": "7a50a088-f947-4139-a3a3-af88662c8648",
   "metadata": {},
   "outputs": [
    {
     "data": {
      "text/latex": [
       "\\begin{equation*} - \\boldsymbol{e}_{3} \\end{equation*}"
      ],
      "text/plain": [
       "-e_3"
      ]
     },
     "execution_count": 22,
     "metadata": {},
     "output_type": "execute_result"
    }
   ],
   "source": [
    "(Br*a).subs(cubic_vectors)"
   ]
  },
  {
   "cell_type": "code",
   "execution_count": 21,
   "id": "567408ee-e56c-4684-bc94-8495c81268a1",
   "metadata": {},
   "outputs": [
    {
     "data": {
      "text/latex": [
       "\\begin{equation*}  \\boldsymbol{e}_{2} \\end{equation*}"
      ],
      "text/plain": [
       "e_2"
      ]
     },
     "execution_count": 21,
     "metadata": {},
     "output_type": "execute_result"
    }
   ],
   "source": [
    "(Ar*c).subs(cubic_vectors)"
   ]
  },
  {
   "cell_type": "code",
   "execution_count": 24,
   "id": "1bd13909-8266-4258-ad72-c81adc7ebb62",
   "metadata": {},
   "outputs": [
    {
     "data": {
      "text/latex": [
       "\\begin{equation*}  0  \\end{equation*}"
      ],
      "text/plain": [
       "0"
      ]
     },
     "execution_count": 24,
     "metadata": {},
     "output_type": "execute_result"
    }
   ],
   "source": [
    "(Ar|a).subs(cubic_vectors)"
   ]
  },
  {
   "cell_type": "code",
   "execution_count": 25,
   "id": "fc5d356a-0793-4f70-a41a-4da5adaccd8e",
   "metadata": {},
   "outputs": [
    {
     "data": {
      "text/latex": [
       "\\begin{equation*} - \\boldsymbol{e}_{3} \\end{equation*}"
      ],
      "text/plain": [
       "-e_3"
      ]
     },
     "execution_count": 25,
     "metadata": {},
     "output_type": "execute_result"
    }
   ],
   "source": [
    "(Ar|b).subs(cubic_vectors)"
   ]
  },
  {
   "cell_type": "code",
   "execution_count": 26,
   "id": "aa5d52be-416d-411d-9451-7696d9b68d7e",
   "metadata": {},
   "outputs": [
    {
     "data": {
      "text/latex": [
       "\\begin{equation*}  0  \\end{equation*}"
      ],
      "text/plain": [
       "0"
      ]
     },
     "execution_count": 26,
     "metadata": {},
     "output_type": "execute_result"
    }
   ],
   "source": [
    "Ar^b"
   ]
  },
  {
   "cell_type": "code",
   "execution_count": 15,
   "id": "8de9ad29-bc24-4acb-875e-64f0b55de742",
   "metadata": {},
   "outputs": [],
   "source": [
    "g = 2*Ar + 3*Br + 4*Cr"
   ]
  },
  {
   "cell_type": "code",
   "execution_count": 16,
   "id": "c1de6fb2-7425-4760-afaf-44ab8c335a63",
   "metadata": {},
   "outputs": [
    {
     "data": {
      "text/latex": [
       "\\begin{equation*} \\text{NaN} \\end{equation*}"
      ],
      "text/plain": [
       "nan"
      ]
     },
     "execution_count": 16,
     "metadata": {},
     "output_type": "execute_result"
    }
   ],
   "source": [
    "g.subs([(a1, 1), (a2, 2), (a3, 3), (b1, 4), (b2, 5), (b3, 6), (c1, 7), (c2, 8), (c3, 9)])"
   ]
  },
  {
   "cell_type": "code",
   "execution_count": null,
   "id": "f9886d7a-18b5-4812-9de7-7180af1b3596",
   "metadata": {},
   "outputs": [],
   "source": []
  },
  {
   "cell_type": "code",
   "execution_count": null,
   "id": "d66cb22e-f172-49c4-a75b-ea262ca1d1be",
   "metadata": {},
   "outputs": [],
   "source": []
  }
 ],
 "metadata": {
  "kernelspec": {
   "display_name": "Python 3",
   "language": "python",
   "name": "python3"
  },
  "language_info": {
   "codemirror_mode": {
    "name": "ipython",
    "version": 3
   },
   "file_extension": ".py",
   "mimetype": "text/x-python",
   "name": "python",
   "nbconvert_exporter": "python",
   "pygments_lexer": "ipython3",
   "version": "3.8.10"
  }
 },
 "nbformat": 4,
 "nbformat_minor": 5
}
