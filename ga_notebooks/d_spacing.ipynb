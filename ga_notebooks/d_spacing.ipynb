{
 "cells": [
  {
   "cell_type": "code",
   "execution_count": 1,
   "id": "a368bb97-9b77-43bc-ace0-2b34256107c5",
   "metadata": {},
   "outputs": [],
   "source": [
    "import sympy\n",
    "from sympy import *\n",
    "from sympy.ntheory import binomial_coefficients_list\n",
    "from galgebra import *\n",
    "from galgebra.ga import Ga\n",
    "from galgebra.printer import latex\n",
    "from IPython.display import Math\n",
    "\n",
    "# tell sympy to use our printing by default\n",
    "sympy.init_printing(latex_printer=latex, use_latex='mathjax')"
   ]
  },
  {
   "cell_type": "code",
   "execution_count": 2,
   "id": "856b2451-3abc-4617-a1f1-ff87131fb39c",
   "metadata": {},
   "outputs": [],
   "source": [
    "xyz = (x, y, z) = sympy.symbols('x y z', real=True)\n",
    "o3d = Ga('e_1 e_2 e_3', g=[1, 1, 1], coords=xyz)\n",
    "grad = o3d.grad"
   ]
  },
  {
   "cell_type": "code",
   "execution_count": 3,
   "id": "f6501053-86ee-49ef-9e55-330f3bec97f1",
   "metadata": {},
   "outputs": [],
   "source": [
    "e1, e2, e3 = o3d.mv()\n",
    "(a1, a2, a3) = sympy.symbols('a1 a2 a3', real=True)\n",
    "(b1, b2, b3) = sympy.symbols('b1 b2 b3', real=True)\n",
    "(c1, c2, c3) = sympy.symbols('c1 c2 c3', real=True)\n",
    "dgfnwvsthkl = sympy.symbols('d g f n w v s t h k l')\n",
    "arbrcr = sympy.symbols('ar br cr')\n",
    "\n",
    "a = a1*e1 + a2*e2 + a3*e3\n",
    "b = b1*e1 + b2*e2 + b3*e3\n",
    "c = c1*e1 + c2*e2 + c3*e3"
   ]
  },
  {
   "cell_type": "code",
   "execution_count": 4,
   "id": "0b739012-5452-4b0f-b23f-ebb209ba1b09",
   "metadata": {},
   "outputs": [],
   "source": [
    "w = b^c\n",
    "v = a|w\n",
    "ar = w/v\n",
    "\n",
    "s = a^c\n",
    "t = b|s\n",
    "br = s/t\n",
    "\n",
    "f = a^b\n",
    "n = c|f\n",
    "cr = f/n"
   ]
  },
  {
   "cell_type": "code",
   "execution_count": 5,
   "id": "6a50c94f-0034-4e1d-ba0d-9e3dd469ead4",
   "metadata": {},
   "outputs": [
    {
     "data": {
      "text/latex": [
       "\\begin{equation*} \\frac{1}{14} \\boldsymbol{e}_{1} + \\frac{1}{7} \\boldsymbol{e}_{2} + \\frac{3}{14} \\boldsymbol{e}_{3} \\end{equation*}"
      ],
      "text/plain": [
       "e_1/14 + e_2/7 + 3*e_3/14"
      ]
     },
     "execution_count": 5,
     "metadata": {},
     "output_type": "execute_result"
    }
   ],
   "source": [
    "ar.subs([(a1, 1), (a2, 2), (a3, 3), (b1, 4), (b2, 5), (b3, 6), (c1, 7), (c2, 8), (c3, 9)])"
   ]
  },
  {
   "cell_type": "code",
   "execution_count": 6,
   "id": "77ccf0e5-0119-4542-aa1c-5e5078ac9b39",
   "metadata": {},
   "outputs": [
    {
     "data": {
      "text/latex": [
       "\\begin{equation*} \\frac{4}{77} \\boldsymbol{e}_{1} + \\frac{5}{77} \\boldsymbol{e}_{2} + \\frac{6}{77} \\boldsymbol{e}_{3} \\end{equation*}"
      ],
      "text/plain": [
       "4*e_1/77 + 5*e_2/77 + 6*e_3/77"
      ]
     },
     "execution_count": 6,
     "metadata": {},
     "output_type": "execute_result"
    }
   ],
   "source": [
    "br.subs([(a1, 1), (a2, 2), (a3, 3), (b1, 4), (b2, 5), (b3, 6), (c1, 7), (c2, 8), (c3, 9)])"
   ]
  },
  {
   "cell_type": "code",
   "execution_count": 7,
   "id": "ac2b94f9-293e-406f-abc5-dd1853552279",
   "metadata": {},
   "outputs": [
    {
     "data": {
      "text/latex": [
       "\\begin{equation*} \\frac{7}{194} \\boldsymbol{e}_{1} + \\frac{4}{97} \\boldsymbol{e}_{2} + \\frac{9}{194} \\boldsymbol{e}_{3} \\end{equation*}"
      ],
      "text/plain": [
       "7*e_1/194 + 4*e_2/97 + 9*e_3/194"
      ]
     },
     "execution_count": 7,
     "metadata": {},
     "output_type": "execute_result"
    }
   ],
   "source": [
    "cr.subs([(a1, 1), (a2, 2), (a3, 3), (b1, 4), (b2, 5), (b3, 6), (c1, 7), (c2, 8), (c3, 9)])"
   ]
  },
  {
   "cell_type": "code",
   "execution_count": 8,
   "id": "8de9ad29-bc24-4acb-875e-64f0b55de742",
   "metadata": {},
   "outputs": [],
   "source": [
    "g = 2*ar + 3*br + 4*cr"
   ]
  },
  {
   "cell_type": "code",
   "execution_count": 9,
   "id": "c1de6fb2-7425-4760-afaf-44ab8c335a63",
   "metadata": {},
   "outputs": [
    {
     "data": {
      "text/latex": [
       "\\begin{equation*} \\frac{3309}{7469} \\boldsymbol{e}_{1} + \\frac{4821}{7469} \\boldsymbol{e}_{2} + \\frac{6333}{7469} \\boldsymbol{e}_{3} \\end{equation*}"
      ],
      "text/plain": [
       "3309*e_1/7469 + 4821*e_2/7469 + 6333*e_3/7469"
      ]
     },
     "execution_count": 9,
     "metadata": {},
     "output_type": "execute_result"
    }
   ],
   "source": [
    "g.subs([(a1, 1), (a2, 2), (a3, 3), (b1, 4), (b2, 5), (b3, 6), (c1, 7), (c2, 8), (c3, 9)])"
   ]
  },
  {
   "cell_type": "code",
   "execution_count": null,
   "id": "f9886d7a-18b5-4812-9de7-7180af1b3596",
   "metadata": {},
   "outputs": [],
   "source": []
  },
  {
   "cell_type": "code",
   "execution_count": null,
   "id": "d66cb22e-f172-49c4-a75b-ea262ca1d1be",
   "metadata": {},
   "outputs": [],
   "source": []
  }
 ],
 "metadata": {
  "kernelspec": {
   "display_name": "Python 3",
   "language": "python",
   "name": "python3"
  },
  "language_info": {
   "codemirror_mode": {
    "name": "ipython",
    "version": 3
   },
   "file_extension": ".py",
   "mimetype": "text/x-python",
   "name": "python",
   "nbconvert_exporter": "python",
   "pygments_lexer": "ipython3",
   "version": "3.8.10"
  }
 },
 "nbformat": 4,
 "nbformat_minor": 5
}
