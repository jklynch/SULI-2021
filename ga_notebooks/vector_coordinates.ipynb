{
 "cells": [
  {
   "cell_type": "code",
   "execution_count": 1,
   "id": "4a5972a2-52e4-417e-a7aa-d4f47ceeb02d",
   "metadata": {},
   "outputs": [],
   "source": [
    "import sympy\n",
    "from sympy import *\n",
    "from sympy import S, pi, oo, sin, cos, tan, exp, integrate, Symbol\n",
    "from sympy.ntheory import binomial_coefficients_list\n",
    "from galgebra import *\n",
    "from galgebra.ga import Ga\n",
    "from galgebra.printer import latex\n",
    "from IPython.display import Math\n",
    "\n",
    "# tell sympy to use our printing by default\n",
    "sympy.init_printing(latex_printer=latex, use_latex='mathjax')"
   ]
  },
  {
   "cell_type": "code",
   "execution_count": 2,
   "id": "1aed1d29-3284-4fdb-9256-c2a97246f8ca",
   "metadata": {},
   "outputs": [],
   "source": [
    "xyz = (x, y, z) = sympy.symbols('x y z', real=True)\n",
    "o3d = Ga('e_1 e_2 e_3', g=[1, 1, 1], coords=xyz)\n",
    "grad = o3d.grad"
   ]
  },
  {
   "cell_type": "code",
   "execution_count": 10,
   "id": "ef30f19d-2a4c-4c39-8afc-512561efa49a",
   "metadata": {},
   "outputs": [],
   "source": [
    "e1, e2, e3 = o3d.mv()\n",
    "(a1, a2, a3) = sympy.symbols('a1 a2 a3', real=True)\n",
    "(b1, b2, b3) = sympy.symbols('b1 b2 b3', real=True)\n",
    "(c1, c2, c3) = sympy.symbols('c1 c2 c3', real=True)\n",
    "n, m, p, g= sympy.symbols('n m p g')\n",
    "\n",
    "a = a1*e1 + a2*e2 + a3*e3\n",
    "b = b1*e1 + b2*e2 + b3*e3\n",
    "c = c1*e1 + c2*e2 + c3*e3\n",
    "\n",
    "#To create the unit vectors\n",
    "ah = a/(a.norm())\n",
    "bh = b/(b.norm())\n",
    "ch = c/(c.norm())\n",
    "\n",
    "#To help construct the rotors\n",
    "m = ah|bh\n",
    "n = 2+2*m"
   ]
  },
  {
   "cell_type": "markdown",
   "id": "3cbb4914-47a9-41ff-9c34-9424f34a5f6c",
   "metadata": {},
   "source": [
    "Triclinic (P) calculations"
   ]
  },
  {
   "cell_type": "code",
   "execution_count": 4,
   "id": "c209deaa-f61c-4807-9258-979b25296f19",
   "metadata": {},
   "outputs": [
    {
     "data": {
      "text/latex": [
       "\\begin{equation*}  \\boldsymbol{e}_{1} \\end{equation*}"
      ],
      "text/plain": [
       "e_1"
      ]
     },
     "execution_count": 4,
     "metadata": {},
     "output_type": "execute_result"
    }
   ],
   "source": [
    "b.subs([(b1,1), (b2,0), (b3,0)])"
   ]
  },
  {
   "cell_type": "code",
   "execution_count": 11,
   "id": "21b1743b-b8a7-4479-8a33-afbe10a89708",
   "metadata": {},
   "outputs": [],
   "source": [
    "#Actual Rotors\n",
    "R = (1+bh*ah)/sqrt(n.obj)\n",
    "Ri = (1+ah*bh)/sqrt(n.obj)\n",
    "\n",
    "#Sends vector a to b\n",
    "ar = R*a*Ri"
   ]
  },
  {
   "cell_type": "code",
   "execution_count": 12,
   "id": "f46625f6-294d-42e2-a29d-f0d8aa3d3ac1",
   "metadata": {},
   "outputs": [
    {
     "data": {
      "text/latex": [
       "\\begin{equation*} \\sqrt{13} \\boldsymbol{e}_{1} \\end{equation*}"
      ],
      "text/plain": [
       "sqrt(13)*e_1"
      ]
     },
     "execution_count": 12,
     "metadata": {},
     "output_type": "execute_result"
    }
   ],
   "source": [
    "ar.subs([(a1, 2), (a2, 3), (a3, 0), (b1, 3), (b2, 0), (b3, 0)])"
   ]
  },
  {
   "cell_type": "code",
   "execution_count": 15,
   "id": "440cd387-a846-4b53-ace9-8e949d95abfe",
   "metadata": {},
   "outputs": [
    {
     "data": {
      "text/latex": [
       "\\begin{equation*} \\frac{2 {\\left ( a_{1} \\right )}^{3} + 2 {\\left ( a_{1} \\right )}^{2} \\sqrt{{\\left ( a_{1} \\right )}^{2} + {\\left ( a_{2} \\right )}^{2}} + 2 a_{1} {\\left ( a_{2} \\right )}^{2} + {\\left ( a_{2} \\right )}^{2} \\sqrt{{\\left ( a_{1} \\right )}^{2} + {\\left ( a_{2} \\right )}^{2}}}{2 {\\left ( a_{1} \\right )}^{2} + 2 a_{1} \\sqrt{{\\left ( a_{1} \\right )}^{2} + {\\left ( a_{2} \\right )}^{2}} + {\\left ( a_{2} \\right )}^{2}} \\boldsymbol{e}_{1} \\end{equation*}"
      ],
      "text/plain": [
       "(2*a1**3 + 2*a1**2*sqrt(a1**2 + a2**2) + 2*a1*a2**2 + a2**2*sqrt(a1**2 + a2**2))*e_1/(2*a1**2 + 2*a1*sqrt(a1**2 + a2**2) + a2**2)"
      ]
     },
     "execution_count": 15,
     "metadata": {},
     "output_type": "execute_result"
    }
   ],
   "source": [
    "ar.subs([(a3, 0), (b1, 3), (b2, 0), (b3, 0)])"
   ]
  },
  {
   "cell_type": "code",
   "execution_count": 16,
   "id": "7b8191ea-3ca6-4a5d-9cc3-9e0f989705e1",
   "metadata": {},
   "outputs": [
    {
     "data": {
      "text/latex": [
       "\\begin{equation*} 5 \\boldsymbol{e}_{1} \\end{equation*}"
      ],
      "text/plain": [
       "5*e_1"
      ]
     },
     "execution_count": 16,
     "metadata": {},
     "output_type": "execute_result"
    }
   ],
   "source": [
    "ar.subs([(a1, 4), (a2, 3), (a3, 0), (b1, 3), (b2, 0), (b3, 0)])"
   ]
  },
  {
   "cell_type": "code",
   "execution_count": 17,
   "id": "e8b0cdc5-505d-467d-a259-5e0c4639927d",
   "metadata": {},
   "outputs": [
    {
     "data": {
      "text/latex": [
       "\\begin{equation*} 2 \\sqrt{13} \\boldsymbol{e}_{1} \\end{equation*}"
      ],
      "text/plain": [
       "2*sqrt(13)*e_1"
      ]
     },
     "execution_count": 17,
     "metadata": {},
     "output_type": "execute_result"
    }
   ],
   "source": [
    "ar.subs([(a1, 4), (a2, 6), (a3, 0), (b1, 3), (b2, 0), (b3, 0)])"
   ]
  },
  {
   "cell_type": "code",
   "execution_count": null,
   "id": "9d8ca2dd-f112-480a-ac14-67ff3bd42741",
   "metadata": {},
   "outputs": [],
   "source": []
  }
 ],
 "metadata": {
  "kernelspec": {
   "display_name": "Python 3",
   "language": "python",
   "name": "python3"
  },
  "language_info": {
   "codemirror_mode": {
    "name": "ipython",
    "version": 3
   },
   "file_extension": ".py",
   "mimetype": "text/x-python",
   "name": "python",
   "nbconvert_exporter": "python",
   "pygments_lexer": "ipython3",
   "version": "3.8.10"
  }
 },
 "nbformat": 4,
 "nbformat_minor": 5
}
