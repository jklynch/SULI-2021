{
 "cells": [
  {
   "cell_type": "code",
   "execution_count": 1,
   "id": "4a5972a2-52e4-417e-a7aa-d4f47ceeb02d",
   "metadata": {},
   "outputs": [],
   "source": [
    "import sympy\n",
    "from sympy import *\n",
    "from sympy import S, pi, oo, sin, cos, tan, exp, integrate, Symbol\n",
    "from sympy.ntheory import binomial_coefficients_list\n",
    "from galgebra import *\n",
    "from galgebra.ga import Ga\n",
    "from galgebra.printer import latex\n",
    "from IPython.display import Math\n",
    "\n",
    "import matplotlib.pyplot as plt\n",
    "import numpy as np\n",
    "\n",
    "%matplotlib widget\n",
    "\n",
    "# tell sympy to use our printing by default\n",
    "sympy.init_printing(latex_printer=latex, use_latex='mathjax')\n",
    "\n",
    "def get_vector_coefficients(multivector):\n",
    "    # return only the coefficients of e1, e2, e3\n",
    "    return [c for c in multivector.blade_coefs()[1:4]]"
   ]
  },
  {
   "cell_type": "code",
   "execution_count": 2,
   "id": "1aed1d29-3284-4fdb-9256-c2a97246f8ca",
   "metadata": {},
   "outputs": [],
   "source": [
    "xyz = (x, y, z) = sympy.symbols('x y z', real=True)\n",
    "o3d = Ga('e_1 e_2 e_3', g=[1, 1, 1], coords=xyz)\n",
    "grad = o3d.grad"
   ]
  },
  {
   "cell_type": "code",
   "execution_count": 3,
   "id": "ef30f19d-2a4c-4c39-8afc-512561efa49a",
   "metadata": {},
   "outputs": [],
   "source": [
    "e1, e2, e3 = o3d.mv()\n",
    "(a1, a2, a3) = sympy.symbols('a1 a2 a3', real=True)\n",
    "(b1, b2, b3) = sympy.symbols('b1 b2 b3', real=True)\n",
    "(c1, c2, c3) = sympy.symbols('c1 c2 c3', real=True)\n",
    "(v1, v2, v3) = sympy.symbols('v1 v2 v3', real=True)\n",
    "(w1, w2, w3) = sympy.symbols('w1 w2 w3', real=True)\n",
    "n, m, p, g= sympy.symbols('n m p g')\n",
    "\n",
    "a = a1*e1 + a2*e2 + a3*e3\n",
    "b = b1*e1 + b2*e2 + b3*e3\n",
    "c = c1*e1 + c2*e2 + c3*e3\n",
    "v = v1*e1 + v2*e2 + v3*e3\n",
    "w = w1*e1 + w2*e2 + w3*e3\n",
    "\n",
    "#To create the unit vectors\n",
    "ah = a/(a.norm())\n",
    "bh = b/(b.norm())\n",
    "ch = c/(c.norm())\n",
    "\n",
    "#To help construct the rotors\n",
    "m = ah|bh\n",
    "n = 2+2*m"
   ]
  },
  {
   "cell_type": "markdown",
   "id": "3cbb4914-47a9-41ff-9c34-9424f34a5f6c",
   "metadata": {},
   "source": [
    "Triclinic (P) calculations"
   ]
  },
  {
   "cell_type": "code",
   "execution_count": 4,
   "id": "c209deaa-f61c-4807-9258-979b25296f19",
   "metadata": {},
   "outputs": [
    {
     "data": {
      "text/latex": [
       "\\begin{equation*}  \\boldsymbol{e}_{1} \\end{equation*}"
      ],
      "text/plain": [
       "e_1"
      ]
     },
     "execution_count": 4,
     "metadata": {},
     "output_type": "execute_result"
    }
   ],
   "source": [
    "b.subs([(b1,1), (b2,0), (b3,0)])"
   ]
  },
  {
   "cell_type": "code",
   "execution_count": 5,
   "id": "21b1743b-b8a7-4479-8a33-afbe10a89708",
   "metadata": {},
   "outputs": [],
   "source": [
    "#Actual Rotors\n",
    "R = (1+bh*ah)/sqrt(n.obj)\n",
    "Ri = (1+ah*bh)/sqrt(n.obj)\n",
    "R_n = (1+ah*bh)/sqrt(n.obj)\n",
    "Ri_n = (1+bh*ah)/sqrt(n.obj)\n",
    "\n",
    "#Sends vector a to b\n",
    "ar = R*a*Ri\n",
    "\n",
    "#Sends vector b to a?\n",
    "br = R_n*b*Ri_n"
   ]
  },
  {
   "cell_type": "code",
   "execution_count": 6,
   "id": "f46625f6-294d-42e2-a29d-f0d8aa3d3ac1",
   "metadata": {},
   "outputs": [
    {
     "data": {
      "text/latex": [
       "\\begin{equation*} \\sqrt{13} \\boldsymbol{e}_{1} \\end{equation*}"
      ],
      "text/plain": [
       "sqrt(13)*e_1"
      ]
     },
     "execution_count": 6,
     "metadata": {},
     "output_type": "execute_result"
    }
   ],
   "source": [
    "ar.subs([(a1, 2), (a2, 3), (a3, 0), (b1, 3), (b2, 0), (b3, 0)])"
   ]
  },
  {
   "cell_type": "code",
   "execution_count": 7,
   "id": "440cd387-a846-4b53-ace9-8e949d95abfe",
   "metadata": {},
   "outputs": [
    {
     "data": {
      "text/latex": [
       "\\begin{equation*} \\frac{2 {\\left ( a_{1} \\right )}^{3} + 2 {\\left ( a_{1} \\right )}^{2} \\sqrt{{\\left ( a_{1} \\right )}^{2} + {\\left ( a_{2} \\right )}^{2}} + 2 a_{1} {\\left ( a_{2} \\right )}^{2} + {\\left ( a_{2} \\right )}^{2} \\sqrt{{\\left ( a_{1} \\right )}^{2} + {\\left ( a_{2} \\right )}^{2}}}{2 {\\left ( a_{1} \\right )}^{2} + 2 a_{1} \\sqrt{{\\left ( a_{1} \\right )}^{2} + {\\left ( a_{2} \\right )}^{2}} + {\\left ( a_{2} \\right )}^{2}} \\boldsymbol{e}_{1} \\end{equation*}"
      ],
      "text/plain": [
       "(2*a1**3 + 2*a1**2*sqrt(a1**2 + a2**2) + 2*a1*a2**2 + a2**2*sqrt(a1**2 + a2**2))*e_1/(2*a1**2 + 2*a1*sqrt(a1**2 + a2**2) + a2**2)"
      ]
     },
     "execution_count": 7,
     "metadata": {},
     "output_type": "execute_result"
    }
   ],
   "source": [
    "ar.subs([(a3, 0), (b1, 3), (b2, 0), (b3, 0)])"
   ]
  },
  {
   "cell_type": "code",
   "execution_count": 8,
   "id": "7b8191ea-3ca6-4a5d-9cc3-9e0f989705e1",
   "metadata": {},
   "outputs": [
    {
     "data": {
      "text/latex": [
       "\\begin{equation*} 5 \\boldsymbol{e}_{1} \\end{equation*}"
      ],
      "text/plain": [
       "5*e_1"
      ]
     },
     "execution_count": 8,
     "metadata": {},
     "output_type": "execute_result"
    }
   ],
   "source": [
    "ar.subs([(a1, 4), (a2, 3), (a3, 0), (b1, 3), (b2, 0), (b3, 0)])"
   ]
  },
  {
   "cell_type": "code",
   "execution_count": 9,
   "id": "e8b0cdc5-505d-467d-a259-5e0c4639927d",
   "metadata": {},
   "outputs": [
    {
     "data": {
      "text/latex": [
       "\\begin{equation*} 2 \\sqrt{13} \\boldsymbol{e}_{1} \\end{equation*}"
      ],
      "text/plain": [
       "2*sqrt(13)*e_1"
      ]
     },
     "execution_count": 9,
     "metadata": {},
     "output_type": "execute_result"
    }
   ],
   "source": [
    "ar.subs([(a1, 4), (a2, 6), (a3, 0), (b1, 3), (b2, 0), (b3, 0)])"
   ]
  },
  {
   "cell_type": "markdown",
   "id": "cec7b6cb-a442-466c-90af-f105b2f999e6",
   "metadata": {},
   "source": [
    "Calculating angle between two vectors"
   ]
  },
  {
   "cell_type": "code",
   "execution_count": 10,
   "id": "9d8ca2dd-f112-480a-ac14-67ff3bd42741",
   "metadata": {},
   "outputs": [],
   "source": [
    "p = a|b\n",
    "s = a.norm()*b.norm()\n",
    "t = p/s"
   ]
  },
  {
   "cell_type": "code",
   "execution_count": 11,
   "id": "7e620782-3b16-4a85-9d03-c9d6ef62531d",
   "metadata": {},
   "outputs": [],
   "source": [
    "g = acos(t.obj)"
   ]
  },
  {
   "cell_type": "code",
   "execution_count": 12,
   "id": "a2be062e-5e37-48af-b853-c697ab81684f",
   "metadata": {},
   "outputs": [
    {
     "data": {
      "text/latex": [
       "\\begin{equation*} \\sqrt{10} \\boldsymbol{e}_{2} \\end{equation*}"
      ],
      "text/plain": [
       "sqrt(10)*e_2"
      ]
     },
     "execution_count": 12,
     "metadata": {},
     "output_type": "execute_result"
    }
   ],
   "source": [
    "br.subs([(a1, 0), (a2, 3), (a3, 0), (b1, 3), (b2, 1), (b3, 0)])"
   ]
  },
  {
   "cell_type": "code",
   "execution_count": 13,
   "id": "f6bf567c-5db8-4433-9eaf-0dc2d1c4b92e",
   "metadata": {},
   "outputs": [],
   "source": [
    "#Vector b rotated onto vector a (0,3,0)\n",
    "b_n = br.subs([(a1, 0), (a2, 3), (a3, 0), (b1, 3), (b2, 1), (b3, 0)])"
   ]
  },
  {
   "cell_type": "code",
   "execution_count": 14,
   "id": "077db474-c68d-4713-b402-1828fb521cf6",
   "metadata": {},
   "outputs": [
    {
     "data": {
      "text/latex": [
       "\\begin{equation*} -9 \\boldsymbol{e}_{1}\\wedge \\boldsymbol{e}_{2} \\end{equation*}"
      ],
      "text/plain": [
       "-9*e_1^e_2"
      ]
     },
     "execution_count": 14,
     "metadata": {},
     "output_type": "execute_result"
    }
   ],
   "source": [
    "y = a^b\n",
    "y.subs([(a1, 0), (a2, 3), (a3, 0), (b1, 3), (b2, 1), (b3, 0)])"
   ]
  },
  {
   "cell_type": "code",
   "execution_count": 15,
   "id": "c7c8fb47-896e-4c11-8d4c-dc2598551da1",
   "metadata": {},
   "outputs": [],
   "source": [
    "z = y.norm()\n",
    "q = y/z\n",
    "R1 = (cos(pi/4)- q*sin(pi/4))\n",
    "R2 = (cos(pi/4)+ q*sin(pi/4))"
   ]
  },
  {
   "cell_type": "code",
   "execution_count": 16,
   "id": "f6292c44-43d5-40ea-98cc-10310e8ad304",
   "metadata": {},
   "outputs": [],
   "source": [
    "k = R1.subs([(a1, 0), (a2, 3), (a3, 0), (b1, 3), (b2, 1), (b3, 0)])"
   ]
  },
  {
   "cell_type": "code",
   "execution_count": 17,
   "id": "9caab734-1115-4f7b-ad32-25f66e0d58c3",
   "metadata": {},
   "outputs": [],
   "source": [
    "j = R2.subs([(a1, 0), (a2, 3), (a3, 0), (b1, 3), (b2, 1), (b3, 0)])"
   ]
  },
  {
   "cell_type": "code",
   "execution_count": 18,
   "id": "e229c228-8e44-417f-90c9-cddffd66a973",
   "metadata": {},
   "outputs": [
    {
     "data": {
      "text/latex": [
       "\\begin{equation*} \\sqrt{10} \\boldsymbol{e}_{1} \\end{equation*}"
      ],
      "text/plain": [
       "sqrt(10)*e_1"
      ]
     },
     "execution_count": 18,
     "metadata": {},
     "output_type": "execute_result"
    }
   ],
   "source": [
    "#Vector b rotated 90° off of vector a\n",
    "k*b_n*j"
   ]
  },
  {
   "cell_type": "code",
   "execution_count": 19,
   "id": "ec3ebeff-0340-4aef-9c46-7cee7d8c8884",
   "metadata": {},
   "outputs": [],
   "source": [
    "b_ninety = k*b_n*j"
   ]
  },
  {
   "cell_type": "code",
   "execution_count": 20,
   "id": "c167a739-337b-448d-b9c1-f9d482e61790",
   "metadata": {},
   "outputs": [
    {
     "data": {
      "text/latex": [
       "$\\displaystyle acos {\\left (\\frac{\\sqrt{10}}{10} \\right )}$"
      ],
      "text/plain": [
       "    ⎛√10⎞\n",
       "acos⎜───⎟\n",
       "    ⎝ 10⎠"
      ]
     },
     "execution_count": 20,
     "metadata": {},
     "output_type": "execute_result"
    }
   ],
   "source": [
    "#Angle between original vectors a and b\n",
    "g.subs([(a1, 0), (a2, 3), (a3, 0), (b1, 3), (b2, 1), (b3, 0)])"
   ]
  },
  {
   "cell_type": "code",
   "execution_count": 21,
   "id": "1774ea71-eece-499d-b519-8ab5737de895",
   "metadata": {},
   "outputs": [],
   "source": [
    "#Will rotate the 90° rotated vector b by the original angle between the vectors a and b\n",
    "R1_o = (cos(g/2)- q*sin(g/2))\n",
    "R2_o = (cos(g/2)+ q*sin(g/2))"
   ]
  },
  {
   "cell_type": "code",
   "execution_count": 22,
   "id": "76d305cb-ab2a-4d52-b852-9e2a329a2e7f",
   "metadata": {},
   "outputs": [],
   "source": [
    "#New rotors with original angles\n",
    "k_n = R1_o.subs([(a1, 0), (a2, 3), (a3, 0), (b1, 3), (b2, 1), (b3, 0)])\n",
    "j_n = R2_o.subs([(a1, 0), (a2, 3), (a3, 0), (b1, 3), (b2, 1), (b3, 0)])"
   ]
  },
  {
   "cell_type": "code",
   "execution_count": 23,
   "id": "f1535188-7d5d-49d1-b5d7-7e3df2394291",
   "metadata": {},
   "outputs": [
    {
     "data": {
      "text/latex": [
       "\\begin{equation*}  \\boldsymbol{e}_{1} -3 \\boldsymbol{e}_{2} \\end{equation*}"
      ],
      "text/plain": [
       "e_1 - 3*e_2"
      ]
     },
     "execution_count": 23,
     "metadata": {},
     "output_type": "execute_result"
    }
   ],
   "source": [
    "#Final vector\n",
    "k_n*b_ninety*j_n"
   ]
  },
  {
   "cell_type": "code",
   "execution_count": 24,
   "id": "a23a957e-e7fd-4171-9be4-e22bf3fbf232",
   "metadata": {},
   "outputs": [],
   "source": [
    "def plot_lattice_vectors(u1, u2, u3, u4, ax):\n",
    "    # place u1, u2, u3 at the origin\n",
    "\n",
    "    # draw a line from (x01, x02, x03) to (x11, x12, x13)\n",
    "    # put coordinates into an array like this\n",
    "    #   x01  x11\n",
    "    #   x02  x12\n",
    "    #   x03  x13\n",
    "    u1_coords = np.zeros((3, 2))\n",
    "    u1_coords[:, 1] = get_vector_coefficients(u1)\n",
    "    u2_coords = np.zeros((3, 2))\n",
    "    u2_coords[:, 1] = get_vector_coefficients(u2)\n",
    "    u3_coords = np.zeros((3, 2))\n",
    "    u3_coords[:, 1] = get_vector_coefficients(u3)\n",
    "    u4_coords = np.zeros((3, 2))\n",
    "    u4_coords[:, 1] = get_vector_coefficients(u4)\n",
    "\n",
    "    ax.plot(u1_coords[0, :], u1_coords[1, :], u1_coords[2, :], c='r')\n",
    "    ax.plot(u2_coords[0, :], u2_coords[1, :], u2_coords[2, :], c='g')\n",
    "    ax.plot(u3_coords[0, :], u3_coords[1, :], u3_coords[2, :], c='b')\n",
    "    ax.plot(u4_coords[0, :], u4_coords[1, :], u4_coords[2, :], c='m')"
   ]
  },
  {
   "cell_type": "code",
   "execution_count": 25,
   "id": "d6ec5eab-4374-40f1-b6b1-651fd1ff5599",
   "metadata": {},
   "outputs": [
    {
     "data": {
      "application/vnd.jupyter.widget-view+json": {
       "model_id": "8883b33657e64eb78de5733a5beaa464",
       "version_major": 2,
       "version_minor": 0
      },
      "text/plain": [
       "Canvas(toolbar=Toolbar(toolitems=[('Home', 'Reset original view', 'home', 'home'), ('Back', 'Back to previous …"
      ]
     },
     "metadata": {},
     "output_type": "display_data"
    }
   ],
   "source": [
    "cubic_lattice = [\n",
    "    (a1, 0), (a2, 3), (a3, 0),\n",
    "    (b1, 3), (b2, 1), (b3, 0),\n",
    "    (c1, sqrt(10)), (c2, 0), (c3, 0),\n",
    "    (v1, 1), (v2, -3), (v3, 0),\n",
    "]\n",
    "cubic_a = a.subs(cubic_lattice)\n",
    "cubic_b = b.subs(cubic_lattice)\n",
    "cubic_c = c.subs(cubic_lattice)\n",
    "cubic_v = v.subs(cubic_lattice)\n",
    "\n",
    "ax = plt.figure().add_subplot(projection='3d')\n",
    "plot_lattice_vectors(cubic_a, cubic_b, cubic_c, cubic_v, ax)\n",
    "plt.show()"
   ]
  },
  {
   "cell_type": "code",
   "execution_count": 26,
   "id": "5bc430e8-0dec-45cf-b6ab-4902ca19d920",
   "metadata": {},
   "outputs": [
    {
     "data": {
      "text/latex": [
       "$\\displaystyle acos {\\left (- \\frac{3 \\sqrt{10}}{10} \\right )}$"
      ],
      "text/plain": [
       "    ⎛-3⋅√10 ⎞\n",
       "acos⎜───────⎟\n",
       "    ⎝   10  ⎠"
      ]
     },
     "execution_count": 26,
     "metadata": {},
     "output_type": "execute_result"
    }
   ],
   "source": [
    "#Angle between new vector and original a vector\n",
    "g.subs([(a1, 0), (a2, 3), (a3, 0), (b1, 1), (b2, -3), (b3, 0)])"
   ]
  },
  {
   "cell_type": "code",
   "execution_count": 27,
   "id": "259de638-e65f-4ffa-a9ea-0c4087160034",
   "metadata": {},
   "outputs": [
    {
     "data": {
      "text/latex": [
       "$\\displaystyle \\frac{\\pi}{2}$"
      ],
      "text/plain": [
       "π\n",
       "─\n",
       "2"
      ]
     },
     "execution_count": 27,
     "metadata": {},
     "output_type": "execute_result"
    }
   ],
   "source": [
    "#Angle between original b vector and new vector\n",
    "g.subs([(a1, 3), (a2, 1), (a3, 0), (b1, 1), (b2, -3), (b3, 0)])"
   ]
  },
  {
   "cell_type": "code",
   "execution_count": 28,
   "id": "79e9b1a3-37cb-4910-a7f2-06109e2b7c32",
   "metadata": {},
   "outputs": [
    {
     "data": {
      "text/latex": [
       "$\\displaystyle acos {\\left (\\frac{\\sqrt{10}}{10} \\right )}$"
      ],
      "text/plain": [
       "    ⎛√10⎞\n",
       "acos⎜───⎟\n",
       "    ⎝ 10⎠"
      ]
     },
     "execution_count": 28,
     "metadata": {},
     "output_type": "execute_result"
    }
   ],
   "source": [
    "#Angle between 90° rotated b vector and new vector\n",
    "g.subs([(a1, sqrt(10)), (a2, 0), (a3, 0), (b1, 1), (b2, -3), (b3, 0)])"
   ]
  },
  {
   "cell_type": "code",
   "execution_count": 29,
   "id": "67eb0bf7-e0f0-4cfd-9e78-915233f01edd",
   "metadata": {},
   "outputs": [
    {
     "data": {
      "text/latex": [
       "$\\displaystyle acos {\\left (\\frac{\\sqrt{10}}{10} \\right )}$"
      ],
      "text/plain": [
       "    ⎛√10⎞\n",
       "acos⎜───⎟\n",
       "    ⎝ 10⎠"
      ]
     },
     "execution_count": 29,
     "metadata": {},
     "output_type": "execute_result"
    }
   ],
   "source": [
    "#Angle between original vectors\n",
    "g.subs([(a1, 0), (a2, 3), (a3, 0), (b1, 3), (b2, 1), (b3, 0)])"
   ]
  },
  {
   "cell_type": "code",
   "execution_count": null,
   "id": "7a79985e-2094-4aa9-9378-5b9af59327cd",
   "metadata": {},
   "outputs": [],
   "source": []
  }
 ],
 "metadata": {
  "kernelspec": {
   "display_name": "Python 3",
   "language": "python",
   "name": "python3"
  },
  "language_info": {
   "codemirror_mode": {
    "name": "ipython",
    "version": 3
   },
   "file_extension": ".py",
   "mimetype": "text/x-python",
   "name": "python",
   "nbconvert_exporter": "python",
   "pygments_lexer": "ipython3",
   "version": "3.8.10"
  }
 },
 "nbformat": 4,
 "nbformat_minor": 5
}
