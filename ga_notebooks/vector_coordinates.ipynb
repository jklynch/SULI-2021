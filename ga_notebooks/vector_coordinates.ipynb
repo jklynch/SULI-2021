{
 "cells": [
  {
   "cell_type": "code",
   "execution_count": 1,
   "id": "4a5972a2-52e4-417e-a7aa-d4f47ceeb02d",
   "metadata": {},
   "outputs": [],
   "source": [
    "import sympy\n",
    "from sympy import *\n",
    "from sympy import S, pi, oo, sin, cos, tan, exp, integrate, Symbol\n",
    "from sympy.ntheory import binomial_coefficients_list\n",
    "from galgebra import *\n",
    "from galgebra.ga import Ga\n",
    "from galgebra.printer import latex\n",
    "from IPython.display import Math\n",
    "\n",
    "import matplotlib.pyplot as plt\n",
    "import numpy as np\n",
    "\n",
    "\n",
    "# tell sympy to use our printing by default\n",
    "sympy.init_printing(latex_printer=latex, use_latex='mathjax')\n",
    "\n",
    "def get_vector_coefficients(multivector):\n",
    "    # return only the coefficients of e1, e2, e3\n",
    "    return [c for c in multivector.blade_coefs()[1:4]]"
   ]
  },
  {
   "cell_type": "code",
   "execution_count": 2,
   "id": "1aed1d29-3284-4fdb-9256-c2a97246f8ca",
   "metadata": {},
   "outputs": [],
   "source": [
    "xyz = (x, y, z) = sympy.symbols('x y z', real=True)\n",
    "o3d = Ga('e_1 e_2 e_3', g=[1, 1, 1], coords=xyz)\n",
    "grad = o3d.grad"
   ]
  },
  {
   "cell_type": "code",
   "execution_count": 3,
   "id": "ef30f19d-2a4c-4c39-8afc-512561efa49a",
   "metadata": {},
   "outputs": [],
   "source": [
    "e1, e2, e3 = o3d.mv()\n",
    "(a1, a2, a3) = sympy.symbols('a1 a2 a3', real=True)\n",
    "(b1, b2, b3) = sympy.symbols('b1 b2 b3', real=True)\n",
    "(c1, c2, c3) = sympy.symbols('c1 c2 c3', real=True)\n",
    "(v1, v2, v3) = sympy.symbols('v1 v2 v3', real=True)\n",
    "(w1, w2, w3) = sympy.symbols('w1 w2 w3', real=True)\n",
    "n, m, p, g= sympy.symbols('n m p g')\n",
    "\n",
    "a = a1*e1 + a2*e2 + a3*e3\n",
    "b = b1*e1 + b2*e2 + b3*e3\n",
    "c = c1*e1 + c2*e2 + c3*e3\n",
    "v = v1*e1 + v2*e2 + v3*e3\n",
    "w = w1*e1 + w2*e2 + w3*e3\n",
    "\n",
    "#To create the unit vectors\n",
    "ah = a/(a.norm())\n",
    "bh = b/(b.norm())\n",
    "ch = c/(c.norm())\n",
    "\n",
    "#To help construct the rotors\n",
    "m = ah|bh\n",
    "n = 2+2*m"
   ]
  },
  {
   "cell_type": "markdown",
   "id": "3cbb4914-47a9-41ff-9c34-9424f34a5f6c",
   "metadata": {},
   "source": [
    "Triclinic (P) calculations"
   ]
  },
  {
   "cell_type": "code",
   "execution_count": 4,
   "id": "c209deaa-f61c-4807-9258-979b25296f19",
   "metadata": {},
   "outputs": [
    {
     "data": {
      "text/latex": [
       "\\begin{equation*}  \\boldsymbol{e}_{1} \\end{equation*}"
      ],
      "text/plain": [
       "e_1"
      ]
     },
     "execution_count": 4,
     "metadata": {},
     "output_type": "execute_result"
    }
   ],
   "source": [
    "b.subs([(b1,1), (b2,0), (b3,0)])"
   ]
  },
  {
   "cell_type": "code",
   "execution_count": 5,
   "id": "21b1743b-b8a7-4479-8a33-afbe10a89708",
   "metadata": {},
   "outputs": [],
   "source": [
    "#Actual Rotors\n",
    "R = (1+bh*ah)/sqrt(n.obj)\n",
    "Ri = (1+ah*bh)/sqrt(n.obj)\n",
    "R_n = (1+ah*bh)/sqrt(n.obj)\n",
    "Ri_n = (1+bh*ah)/sqrt(n.obj)\n",
    "\n",
    "#Sends vector a to b\n",
    "ar = R*a*Ri\n",
    "\n",
    "#Sends vector b to a?\n",
    "br = R_n*b*Ri_n"
   ]
  },
  {
   "cell_type": "code",
   "execution_count": 6,
   "id": "f46625f6-294d-42e2-a29d-f0d8aa3d3ac1",
   "metadata": {},
   "outputs": [
    {
     "data": {
      "text/latex": [
       "\\begin{equation*} \\sqrt{13} \\boldsymbol{e}_{1} \\end{equation*}"
      ],
      "text/plain": [
       "sqrt(13)*e_1"
      ]
     },
     "execution_count": 6,
     "metadata": {},
     "output_type": "execute_result"
    }
   ],
   "source": [
    "ar.subs([(a1, 2), (a2, 3), (a3, 0), (b1, 3), (b2, 0), (b3, 0)])"
   ]
  },
  {
   "cell_type": "code",
   "execution_count": 7,
   "id": "440cd387-a846-4b53-ace9-8e949d95abfe",
   "metadata": {},
   "outputs": [
    {
     "data": {
      "text/latex": [
       "\\begin{equation*} \\frac{2 {\\left ( a_{1} \\right )}^{3} + 2 {\\left ( a_{1} \\right )}^{2} \\sqrt{{\\left ( a_{1} \\right )}^{2} + {\\left ( a_{2} \\right )}^{2}} + 2 a_{1} {\\left ( a_{2} \\right )}^{2} + {\\left ( a_{2} \\right )}^{2} \\sqrt{{\\left ( a_{1} \\right )}^{2} + {\\left ( a_{2} \\right )}^{2}}}{2 {\\left ( a_{1} \\right )}^{2} + 2 a_{1} \\sqrt{{\\left ( a_{1} \\right )}^{2} + {\\left ( a_{2} \\right )}^{2}} + {\\left ( a_{2} \\right )}^{2}} \\boldsymbol{e}_{1} \\end{equation*}"
      ],
      "text/plain": [
       "(2*a1**3 + 2*a1**2*sqrt(a1**2 + a2**2) + 2*a1*a2**2 + a2**2*sqrt(a1**2 + a2**2))*e_1/(2*a1**2 + 2*a1*sqrt(a1**2 + a2**2) + a2**2)"
      ]
     },
     "execution_count": 7,
     "metadata": {},
     "output_type": "execute_result"
    }
   ],
   "source": [
    "ar.subs([(a3, 0), (b1, 3), (b2, 0), (b3, 0)])"
   ]
  },
  {
   "cell_type": "code",
   "execution_count": 8,
   "id": "7b8191ea-3ca6-4a5d-9cc3-9e0f989705e1",
   "metadata": {},
   "outputs": [
    {
     "data": {
      "text/latex": [
       "\\begin{equation*} 5 \\boldsymbol{e}_{1} \\end{equation*}"
      ],
      "text/plain": [
       "5*e_1"
      ]
     },
     "execution_count": 8,
     "metadata": {},
     "output_type": "execute_result"
    }
   ],
   "source": [
    "ar.subs([(a1, 4), (a2, 3), (a3, 0), (b1, 3), (b2, 0), (b3, 0)])"
   ]
  },
  {
   "cell_type": "code",
   "execution_count": 9,
   "id": "e8b0cdc5-505d-467d-a259-5e0c4639927d",
   "metadata": {},
   "outputs": [
    {
     "data": {
      "text/latex": [
       "\\begin{equation*} 2 \\sqrt{13} \\boldsymbol{e}_{1} \\end{equation*}"
      ],
      "text/plain": [
       "2*sqrt(13)*e_1"
      ]
     },
     "execution_count": 9,
     "metadata": {},
     "output_type": "execute_result"
    }
   ],
   "source": [
    "ar.subs([(a1, 4), (a2, 6), (a3, 0), (b1, 3), (b2, 0), (b3, 0)])"
   ]
  },
  {
   "cell_type": "markdown",
   "id": "cec7b6cb-a442-466c-90af-f105b2f999e6",
   "metadata": {},
   "source": [
    "Calculating angle between two vectors"
   ]
  },
  {
   "cell_type": "code",
   "execution_count": 10,
   "id": "9d8ca2dd-f112-480a-ac14-67ff3bd42741",
   "metadata": {},
   "outputs": [],
   "source": [
    "p = a|b\n",
    "s = a.norm()*b.norm()\n",
    "t = p/s"
   ]
  },
  {
   "cell_type": "code",
   "execution_count": 11,
   "id": "7e620782-3b16-4a85-9d03-c9d6ef62531d",
   "metadata": {},
   "outputs": [],
   "source": [
    "g = acos(t.obj)"
   ]
  },
  {
   "cell_type": "code",
   "execution_count": 12,
   "id": "a2be062e-5e37-48af-b853-c697ab81684f",
   "metadata": {},
   "outputs": [
    {
     "data": {
      "text/latex": [
       "\\begin{equation*} \\sqrt{10} \\boldsymbol{e}_{2} \\end{equation*}"
      ],
      "text/plain": [
       "sqrt(10)*e_2"
      ]
     },
     "execution_count": 12,
     "metadata": {},
     "output_type": "execute_result"
    }
   ],
   "source": [
    "br.subs([(a1, 0), (a2, 3), (a3, 0), (b1, 3), (b2, 1), (b3, 0)])"
   ]
  },
  {
   "cell_type": "code",
   "execution_count": 13,
   "id": "f6bf567c-5db8-4433-9eaf-0dc2d1c4b92e",
   "metadata": {},
   "outputs": [],
   "source": [
    "#Vector b rotated onto vector a (0,3,0)\n",
    "b_n = br.subs([(a1, 0), (a2, 3), (a3, 0), (b1, 3), (b2, 1), (b3, 0)])"
   ]
  },
  {
   "cell_type": "code",
   "execution_count": 14,
   "id": "077db474-c68d-4713-b402-1828fb521cf6",
   "metadata": {},
   "outputs": [
    {
     "data": {
      "text/latex": [
       "\\begin{equation*} -9 \\boldsymbol{e}_{1}\\wedge \\boldsymbol{e}_{2} \\end{equation*}"
      ],
      "text/plain": [
       "-9*e_1^e_2"
      ]
     },
     "execution_count": 14,
     "metadata": {},
     "output_type": "execute_result"
    }
   ],
   "source": [
    "y = a^b\n",
    "y.subs([(a1, 0), (a2, 3), (a3, 0), (b1, 3), (b2, 1), (b3, 0)])"
   ]
  },
  {
   "cell_type": "code",
   "execution_count": 15,
   "id": "c7c8fb47-896e-4c11-8d4c-dc2598551da1",
   "metadata": {},
   "outputs": [],
   "source": [
    "z = y.norm()\n",
    "q = y/z\n",
    "R1 = (cos(pi/4)- q*sin(pi/4))\n",
    "R2 = (cos(pi/4)+ q*sin(pi/4))"
   ]
  },
  {
   "cell_type": "code",
   "execution_count": 16,
   "id": "f6292c44-43d5-40ea-98cc-10310e8ad304",
   "metadata": {},
   "outputs": [],
   "source": [
    "k = R1.subs([(a1, 0), (a2, 3), (a3, 0), (b1, 3), (b2, 1), (b3, 0)])"
   ]
  },
  {
   "cell_type": "code",
   "execution_count": 17,
   "id": "9caab734-1115-4f7b-ad32-25f66e0d58c3",
   "metadata": {},
   "outputs": [],
   "source": [
    "j = R2.subs([(a1, 0), (a2, 3), (a3, 0), (b1, 3), (b2, 1), (b3, 0)])"
   ]
  },
  {
   "cell_type": "code",
   "execution_count": 18,
   "id": "e229c228-8e44-417f-90c9-cddffd66a973",
   "metadata": {},
   "outputs": [
    {
     "data": {
      "text/latex": [
       "\\begin{equation*} \\sqrt{10} \\boldsymbol{e}_{1} \\end{equation*}"
      ],
      "text/plain": [
       "sqrt(10)*e_1"
      ]
     },
     "execution_count": 18,
     "metadata": {},
     "output_type": "execute_result"
    }
   ],
   "source": [
    "#Vector b rotated 90° off of vector a\n",
    "k*b_n*j"
   ]
  },
  {
   "cell_type": "code",
   "execution_count": 19,
   "id": "ec3ebeff-0340-4aef-9c46-7cee7d8c8884",
   "metadata": {},
   "outputs": [],
   "source": [
    "b_ninety = k*b_n*j"
   ]
  },
  {
   "cell_type": "code",
   "execution_count": 20,
   "id": "c167a739-337b-448d-b9c1-f9d482e61790",
   "metadata": {},
   "outputs": [
    {
     "data": {
      "text/latex": [
       "$\\displaystyle acos {\\left (\\frac{\\sqrt{10}}{10} \\right )}$"
      ],
      "text/plain": [
       "    ⎛√10⎞\n",
       "acos⎜───⎟\n",
       "    ⎝ 10⎠"
      ]
     },
     "execution_count": 20,
     "metadata": {},
     "output_type": "execute_result"
    }
   ],
   "source": [
    "#Angle between original vectors a and b\n",
    "g.subs([(a1, 0), (a2, 3), (a3, 0), (b1, 3), (b2, 1), (b3, 0)])"
   ]
  },
  {
   "cell_type": "code",
   "execution_count": 21,
   "id": "1774ea71-eece-499d-b519-8ab5737de895",
   "metadata": {},
   "outputs": [],
   "source": [
    "#Will rotate the 90° rotated vector b by the original angle between the vectors a and b\n",
    "R1_o = (cos(g/2)- q*sin(g/2))\n",
    "R2_o = (cos(g/2)+ q*sin(g/2))"
   ]
  },
  {
   "cell_type": "code",
   "execution_count": 22,
   "id": "76d305cb-ab2a-4d52-b852-9e2a329a2e7f",
   "metadata": {},
   "outputs": [],
   "source": [
    "#New rotors with original angles\n",
    "k_n = R1_o.subs([(a1, 0), (a2, 3), (a3, 0), (b1, 3), (b2, 1), (b3, 0)])\n",
    "j_n = R2_o.subs([(a1, 0), (a2, 3), (a3, 0), (b1, 3), (b2, 1), (b3, 0)])"
   ]
  },
  {
   "cell_type": "code",
   "execution_count": 23,
   "id": "f1535188-7d5d-49d1-b5d7-7e3df2394291",
   "metadata": {},
   "outputs": [
    {
     "data": {
      "text/latex": [
       "\\begin{equation*}  \\boldsymbol{e}_{1} -3 \\boldsymbol{e}_{2} \\end{equation*}"
      ],
      "text/plain": [
       "e_1 - 3*e_2"
      ]
     },
     "execution_count": 23,
     "metadata": {},
     "output_type": "execute_result"
    }
   ],
   "source": [
    "#Final vector\n",
    "k_n*b_ninety*j_n"
   ]
  },
  {
   "cell_type": "code",
   "execution_count": 24,
   "id": "a23a957e-e7fd-4171-9be4-e22bf3fbf232",
   "metadata": {},
   "outputs": [],
   "source": [
    "def plot_lattice_vectors(u1, u2, u3, u4, ax):\n",
    "    # place u1, u2, u3 at the origin\n",
    "\n",
    "    # draw a line from (x01, x02, x03) to (x11, x12, x13)\n",
    "    # put coordinates into an array like this\n",
    "    #   x01  x11\n",
    "    #   x02  x12\n",
    "    #   x03  x13\n",
    "    u1_coords = np.zeros((3, 2))\n",
    "    u1_coords[:, 1] = get_vector_coefficients(u1)\n",
    "    u2_coords = np.zeros((3, 2))\n",
    "    u2_coords[:, 1] = get_vector_coefficients(u2)\n",
    "    u3_coords = np.zeros((3, 2))\n",
    "    u3_coords[:, 1] = get_vector_coefficients(u3)\n",
    "    u4_coords = np.zeros((3, 2))\n",
    "    u4_coords[:, 1] = get_vector_coefficients(u4)\n",
    "\n",
    "    ax.plot(u1_coords[0, :], u1_coords[1, :], u1_coords[2, :], c='r')\n",
    "    ax.plot(u2_coords[0, :], u2_coords[1, :], u2_coords[2, :], c='g')\n",
    "    ax.plot(u3_coords[0, :], u3_coords[1, :], u3_coords[2, :], c='b')\n",
    "    ax.plot(u4_coords[0, :], u4_coords[1, :], u4_coords[2, :], c='m')"
   ]
  },
  {
   "cell_type": "code",
   "execution_count": 25,
   "id": "d6ec5eab-4374-40f1-b6b1-651fd1ff5599",
   "metadata": {},
   "outputs": [
    {
     "data": {
      "image/png": "[encoded data removed]",
      "text/plain": [
       "<Figure size 432x288 with 1 Axes>"
      ]
     },
     "metadata": {
      "needs_background": "light"
     },
     "output_type": "display_data"
    }
   ],
   "source": [
    "cubic_lattice = [\n",
    "    (a1, 0), (a2, 3), (a3, 0),\n",
    "    (b1, 3), (b2, 1), (b3, 0),\n",
    "    (c1, sqrt(10)), (c2, 0), (c3, 0),\n",
    "    (v1, 1), (v2, -3), (v3, 0),\n",
    "]\n",
    "cubic_a = a.subs(cubic_lattice)\n",
    "cubic_b = b.subs(cubic_lattice)\n",
    "cubic_c = c.subs(cubic_lattice)\n",
    "cubic_v = v.subs(cubic_lattice)\n",
    "\n",
    "ax = plt.figure().add_subplot(projection='3d')\n",
    "ax.set_xlabel(\"x\")\n",
    "ax.set_ylabel(\"y\")\n",
    "ax.set_zlabel(\"z\")\n",
    "plot_lattice_vectors(cubic_a, cubic_b, cubic_c, cubic_v, ax)\n",
    "plt.show()"
   ]
  },
  {
   "cell_type": "code",
   "execution_count": 26,
   "id": "5bc430e8-0dec-45cf-b6ab-4902ca19d920",
   "metadata": {},
   "outputs": [
    {
     "data": {
      "text/latex": [
       "$\\displaystyle acos {\\left (- \\frac{3 \\sqrt{10}}{10} \\right )}$"
      ],
      "text/plain": [
       "    ⎛-3⋅√10 ⎞\n",
       "acos⎜───────⎟\n",
       "    ⎝   10  ⎠"
      ]
     },
     "execution_count": 26,
     "metadata": {},
     "output_type": "execute_result"
    }
   ],
   "source": [
    "#Angle between new vector and original a vector\n",
    "g.subs([(a1, 0), (a2, 3), (a3, 0), (b1, 1), (b2, -3), (b3, 0)])"
   ]
  },
  {
   "cell_type": "code",
   "execution_count": 27,
   "id": "259de638-e65f-4ffa-a9ea-0c4087160034",
   "metadata": {},
   "outputs": [
    {
     "data": {
      "text/latex": [
       "$\\displaystyle \\frac{\\pi}{2}$"
      ],
      "text/plain": [
       "π\n",
       "─\n",
       "2"
      ]
     },
     "execution_count": 27,
     "metadata": {},
     "output_type": "execute_result"
    }
   ],
   "source": [
    "#Angle between original b vector and new vector\n",
    "g.subs([(a1, 3), (a2, 1), (a3, 0), (b1, 1), (b2, -3), (b3, 0)])"
   ]
  },
  {
   "cell_type": "code",
   "execution_count": 28,
   "id": "79e9b1a3-37cb-4910-a7f2-06109e2b7c32",
   "metadata": {},
   "outputs": [
    {
     "data": {
      "text/latex": [
       "$\\displaystyle acos {\\left (\\frac{\\sqrt{10}}{10} \\right )}$"
      ],
      "text/plain": [
       "    ⎛√10⎞\n",
       "acos⎜───⎟\n",
       "    ⎝ 10⎠"
      ]
     },
     "execution_count": 28,
     "metadata": {},
     "output_type": "execute_result"
    }
   ],
   "source": [
    "#Angle between 90° rotated b vector and new vector\n",
    "g.subs([(a1, sqrt(10)), (a2, 0), (a3, 0), (b1, 1), (b2, -3), (b3, 0)])"
   ]
  },
  {
   "cell_type": "code",
   "execution_count": 29,
   "id": "67eb0bf7-e0f0-4cfd-9e78-915233f01edd",
   "metadata": {},
   "outputs": [
    {
     "data": {
      "text/latex": [
       "$\\displaystyle acos {\\left (\\frac{\\sqrt{10}}{10} \\right )}$"
      ],
      "text/plain": [
       "    ⎛√10⎞\n",
       "acos⎜───⎟\n",
       "    ⎝ 10⎠"
      ]
     },
     "execution_count": 29,
     "metadata": {},
     "output_type": "execute_result"
    }
   ],
   "source": [
    "#Angle between original vectors\n",
    "g.subs([(a1, 0), (a2, 3), (a3, 0), (b1, 3), (b2, 1), (b3, 0)])"
   ]
  },
  {
   "cell_type": "code",
   "execution_count": 30,
   "id": "7a79985e-2094-4aa9-9378-5b9af59327cd",
   "metadata": {},
   "outputs": [],
   "source": [
    "#Vector a and b angle: \n",
    "#Vector a and c angle: \n",
    "#Vector b and c angle: \n",
    "#Lengths: |a| = , |b| = , |c| = \n",
    "\n",
    "ac = 1*e1 + 2*e2 + 3*e3\n",
    "bc = 7*e1 + 3*e2 + 4*e3\n",
    "\n",
    "pc = ac|bc\n",
    "sc = ac.norm()*bc.norm()\n",
    "tc = pc/sc\n",
    "\n",
    "gc = acos(tc.obj)"
   ]
  },
  {
   "cell_type": "code",
   "execution_count": 31,
   "id": "4dfa9110-04f4-40d8-8bd6-e874c42515f8",
   "metadata": {},
   "outputs": [
    {
     "data": {
      "text/latex": [
       "$\\displaystyle acos {\\left (\\frac{25 \\sqrt{259}}{518} \\right )}$"
      ],
      "text/plain": [
       "    ⎛25⋅√259⎞\n",
       "acos⎜───────⎟\n",
       "    ⎝  518  ⎠"
      ]
     },
     "execution_count": 31,
     "metadata": {},
     "output_type": "execute_result"
    }
   ],
   "source": [
    "gc.subs([(a1, 1), (a2, 2), (a3, 3), ])"
   ]
  },
  {
   "cell_type": "code",
   "execution_count": 32,
   "id": "bf9ce2ef-6425-4a7a-b4b1-983b75c85d4f",
   "metadata": {},
   "outputs": [],
   "source": [
    "v = 2*e1 + 3*e2\n",
    "c = v.blade_coefs()"
   ]
  },
  {
   "cell_type": "code",
   "execution_count": 33,
   "id": "4ad6b686-dbeb-4ba8-9cb6-11fe94806909",
   "metadata": {},
   "outputs": [
    {
     "data": {
      "text/latex": [
       "$\\displaystyle \\left[ 0, \\  2, \\  3, \\  0, \\  0, \\  0, \\  0, \\  0\\right]$"
      ],
      "text/plain": [
       "[0, 2, 3, 0, 0, 0, 0, 0]"
      ]
     },
     "execution_count": 33,
     "metadata": {},
     "output_type": "execute_result"
    }
   ],
   "source": [
    "c"
   ]
  },
  {
   "cell_type": "code",
   "execution_count": 34,
   "id": "c11fea4a-b27d-4e44-8657-7001a84be1ea",
   "metadata": {},
   "outputs": [
    {
     "data": {
      "text/plain": [
       "<mpl_toolkits.mplot3d.art3d.Path3DCollection at 0x7fd991efda60>"
      ]
     },
     "execution_count": 34,
     "metadata": {},
     "output_type": "execute_result"
    },
    {
     "ename": "ValueError",
     "evalue": "Invalid RGBA argument: masked_array(data=[0.12156862745098039, 0.4666666666666667,\n                   0.7058823529411765, 1.0],\n             mask=False,\n       fill_value='?',\n            dtype=object)",
     "output_type": "error",
     "traceback": [
      "\u001b[0;31m---------------------------------------------------------------------------\u001b[0m",
      "\u001b[0;31mValueError\u001b[0m                                Traceback (most recent call last)",
      "\u001b[0;32m~/Downloads/ENTER/envs/mars/lib/python3.8/site-packages/IPython/core/formatters.py\u001b[0m in \u001b[0;36m__call__\u001b[0;34m(self, obj)\u001b[0m\n\u001b[1;32m    339\u001b[0m                 \u001b[0;32mpass\u001b[0m\u001b[0;34m\u001b[0m\u001b[0;34m\u001b[0m\u001b[0m\n\u001b[1;32m    340\u001b[0m             \u001b[0;32melse\u001b[0m\u001b[0;34m:\u001b[0m\u001b[0;34m\u001b[0m\u001b[0;34m\u001b[0m\u001b[0m\n\u001b[0;32m--> 341\u001b[0;31m                 \u001b[0;32mreturn\u001b[0m \u001b[0mprinter\u001b[0m\u001b[0;34m(\u001b[0m\u001b[0mobj\u001b[0m\u001b[0;34m)\u001b[0m\u001b[0;34m\u001b[0m\u001b[0;34m\u001b[0m\u001b[0m\n\u001b[0m\u001b[1;32m    342\u001b[0m             \u001b[0;31m# Finally look for special method names\u001b[0m\u001b[0;34m\u001b[0m\u001b[0;34m\u001b[0m\u001b[0;34m\u001b[0m\u001b[0m\n\u001b[1;32m    343\u001b[0m             \u001b[0mmethod\u001b[0m \u001b[0;34m=\u001b[0m \u001b[0mget_real_method\u001b[0m\u001b[0;34m(\u001b[0m\u001b[0mobj\u001b[0m\u001b[0;34m,\u001b[0m \u001b[0mself\u001b[0m\u001b[0;34m.\u001b[0m\u001b[0mprint_method\u001b[0m\u001b[0;34m)\u001b[0m\u001b[0;34m\u001b[0m\u001b[0;34m\u001b[0m\u001b[0m\n",
      "\u001b[0;32m~/Downloads/ENTER/envs/mars/lib/python3.8/site-packages/IPython/core/pylabtools.py\u001b[0m in \u001b[0;36m<lambda>\u001b[0;34m(fig)\u001b[0m\n\u001b[1;32m    248\u001b[0m \u001b[0;34m\u001b[0m\u001b[0m\n\u001b[1;32m    249\u001b[0m     \u001b[0;32mif\u001b[0m \u001b[0;34m'png'\u001b[0m \u001b[0;32min\u001b[0m \u001b[0mformats\u001b[0m\u001b[0;34m:\u001b[0m\u001b[0;34m\u001b[0m\u001b[0;34m\u001b[0m\u001b[0m\n\u001b[0;32m--> 250\u001b[0;31m         \u001b[0mpng_formatter\u001b[0m\u001b[0;34m.\u001b[0m\u001b[0mfor_type\u001b[0m\u001b[0;34m(\u001b[0m\u001b[0mFigure\u001b[0m\u001b[0;34m,\u001b[0m \u001b[0;32mlambda\u001b[0m \u001b[0mfig\u001b[0m\u001b[0;34m:\u001b[0m \u001b[0mprint_figure\u001b[0m\u001b[0;34m(\u001b[0m\u001b[0mfig\u001b[0m\u001b[0;34m,\u001b[0m \u001b[0;34m'png'\u001b[0m\u001b[0;34m,\u001b[0m \u001b[0;34m**\u001b[0m\u001b[0mkwargs\u001b[0m\u001b[0;34m)\u001b[0m\u001b[0;34m)\u001b[0m\u001b[0;34m\u001b[0m\u001b[0;34m\u001b[0m\u001b[0m\n\u001b[0m\u001b[1;32m    251\u001b[0m     \u001b[0;32mif\u001b[0m \u001b[0;34m'retina'\u001b[0m \u001b[0;32min\u001b[0m \u001b[0mformats\u001b[0m \u001b[0;32mor\u001b[0m \u001b[0;34m'png2x'\u001b[0m \u001b[0;32min\u001b[0m \u001b[0mformats\u001b[0m\u001b[0;34m:\u001b[0m\u001b[0;34m\u001b[0m\u001b[0;34m\u001b[0m\u001b[0m\n\u001b[1;32m    252\u001b[0m         \u001b[0mpng_formatter\u001b[0m\u001b[0;34m.\u001b[0m\u001b[0mfor_type\u001b[0m\u001b[0;34m(\u001b[0m\u001b[0mFigure\u001b[0m\u001b[0;34m,\u001b[0m \u001b[0;32mlambda\u001b[0m \u001b[0mfig\u001b[0m\u001b[0;34m:\u001b[0m \u001b[0mretina_figure\u001b[0m\u001b[0;34m(\u001b[0m\u001b[0mfig\u001b[0m\u001b[0;34m,\u001b[0m \u001b[0;34m**\u001b[0m\u001b[0mkwargs\u001b[0m\u001b[0;34m)\u001b[0m\u001b[0;34m)\u001b[0m\u001b[0;34m\u001b[0m\u001b[0;34m\u001b[0m\u001b[0m\n",
      "\u001b[0;32m~/Downloads/ENTER/envs/mars/lib/python3.8/site-packages/IPython/core/pylabtools.py\u001b[0m in \u001b[0;36mprint_figure\u001b[0;34m(fig, fmt, bbox_inches, **kwargs)\u001b[0m\n\u001b[1;32m    132\u001b[0m         \u001b[0mFigureCanvasBase\u001b[0m\u001b[0;34m(\u001b[0m\u001b[0mfig\u001b[0m\u001b[0;34m)\u001b[0m\u001b[0;34m\u001b[0m\u001b[0;34m\u001b[0m\u001b[0m\n\u001b[1;32m    133\u001b[0m \u001b[0;34m\u001b[0m\u001b[0m\n\u001b[0;32m--> 134\u001b[0;31m     \u001b[0mfig\u001b[0m\u001b[0;34m.\u001b[0m\u001b[0mcanvas\u001b[0m\u001b[0;34m.\u001b[0m\u001b[0mprint_figure\u001b[0m\u001b[0;34m(\u001b[0m\u001b[0mbytes_io\u001b[0m\u001b[0;34m,\u001b[0m \u001b[0;34m**\u001b[0m\u001b[0mkw\u001b[0m\u001b[0;34m)\u001b[0m\u001b[0;34m\u001b[0m\u001b[0;34m\u001b[0m\u001b[0m\n\u001b[0m\u001b[1;32m    135\u001b[0m     \u001b[0mdata\u001b[0m \u001b[0;34m=\u001b[0m \u001b[0mbytes_io\u001b[0m\u001b[0;34m.\u001b[0m\u001b[0mgetvalue\u001b[0m\u001b[0;34m(\u001b[0m\u001b[0;34m)\u001b[0m\u001b[0;34m\u001b[0m\u001b[0;34m\u001b[0m\u001b[0m\n\u001b[1;32m    136\u001b[0m     \u001b[0;32mif\u001b[0m \u001b[0mfmt\u001b[0m \u001b[0;34m==\u001b[0m \u001b[0;34m'svg'\u001b[0m\u001b[0;34m:\u001b[0m\u001b[0;34m\u001b[0m\u001b[0;34m\u001b[0m\u001b[0m\n",
      "\u001b[0;32m~/Downloads/ENTER/envs/mars/lib/python3.8/site-packages/matplotlib/backend_bases.py\u001b[0m in \u001b[0;36mprint_figure\u001b[0;34m(self, filename, dpi, facecolor, edgecolor, orientation, format, bbox_inches, **kwargs)\u001b[0m\n\u001b[1;32m   2098\u001b[0m                            else suppress())\n\u001b[1;32m   2099\u001b[0m                     \u001b[0;32mwith\u001b[0m \u001b[0mctx\u001b[0m\u001b[0;34m:\u001b[0m\u001b[0;34m\u001b[0m\u001b[0;34m\u001b[0m\u001b[0m\n\u001b[0;32m-> 2100\u001b[0;31m                         \u001b[0mself\u001b[0m\u001b[0;34m.\u001b[0m\u001b[0mfigure\u001b[0m\u001b[0;34m.\u001b[0m\u001b[0mdraw\u001b[0m\u001b[0;34m(\u001b[0m\u001b[0mrenderer\u001b[0m\u001b[0;34m)\u001b[0m\u001b[0;34m\u001b[0m\u001b[0;34m\u001b[0m\u001b[0m\n\u001b[0m\u001b[1;32m   2101\u001b[0m                     \u001b[0mbbox_artists\u001b[0m \u001b[0;34m=\u001b[0m \u001b[0mkwargs\u001b[0m\u001b[0;34m.\u001b[0m\u001b[0mpop\u001b[0m\u001b[0;34m(\u001b[0m\u001b[0;34m\"bbox_extra_artists\"\u001b[0m\u001b[0;34m,\u001b[0m \u001b[0;32mNone\u001b[0m\u001b[0;34m)\u001b[0m\u001b[0;34m\u001b[0m\u001b[0;34m\u001b[0m\u001b[0m\n\u001b[1;32m   2102\u001b[0m                     bbox_inches = self.figure.get_tightbbox(renderer,\n",
      "\u001b[0;32m~/Downloads/ENTER/envs/mars/lib/python3.8/site-packages/matplotlib/artist.py\u001b[0m in \u001b[0;36mdraw_wrapper\u001b[0;34m(artist, renderer, *args, **kwargs)\u001b[0m\n\u001b[1;32m     36\u001b[0m                 \u001b[0mrenderer\u001b[0m\u001b[0;34m.\u001b[0m\u001b[0mstart_filter\u001b[0m\u001b[0;34m(\u001b[0m\u001b[0;34m)\u001b[0m\u001b[0;34m\u001b[0m\u001b[0;34m\u001b[0m\u001b[0m\n\u001b[1;32m     37\u001b[0m \u001b[0;34m\u001b[0m\u001b[0m\n\u001b[0;32m---> 38\u001b[0;31m             \u001b[0;32mreturn\u001b[0m \u001b[0mdraw\u001b[0m\u001b[0;34m(\u001b[0m\u001b[0martist\u001b[0m\u001b[0;34m,\u001b[0m \u001b[0mrenderer\u001b[0m\u001b[0;34m,\u001b[0m \u001b[0;34m*\u001b[0m\u001b[0margs\u001b[0m\u001b[0;34m,\u001b[0m \u001b[0;34m**\u001b[0m\u001b[0mkwargs\u001b[0m\u001b[0;34m)\u001b[0m\u001b[0;34m\u001b[0m\u001b[0;34m\u001b[0m\u001b[0m\n\u001b[0m\u001b[1;32m     39\u001b[0m         \u001b[0;32mfinally\u001b[0m\u001b[0;34m:\u001b[0m\u001b[0;34m\u001b[0m\u001b[0;34m\u001b[0m\u001b[0m\n\u001b[1;32m     40\u001b[0m             \u001b[0;32mif\u001b[0m \u001b[0martist\u001b[0m\u001b[0;34m.\u001b[0m\u001b[0mget_agg_filter\u001b[0m\u001b[0;34m(\u001b[0m\u001b[0;34m)\u001b[0m \u001b[0;32mis\u001b[0m \u001b[0;32mnot\u001b[0m \u001b[0;32mNone\u001b[0m\u001b[0;34m:\u001b[0m\u001b[0;34m\u001b[0m\u001b[0;34m\u001b[0m\u001b[0m\n",
      "\u001b[0;32m~/Downloads/ENTER/envs/mars/lib/python3.8/site-packages/matplotlib/figure.py\u001b[0m in \u001b[0;36mdraw\u001b[0;34m(self, renderer)\u001b[0m\n\u001b[1;32m   1733\u001b[0m \u001b[0;34m\u001b[0m\u001b[0m\n\u001b[1;32m   1734\u001b[0m             \u001b[0mself\u001b[0m\u001b[0;34m.\u001b[0m\u001b[0mpatch\u001b[0m\u001b[0;34m.\u001b[0m\u001b[0mdraw\u001b[0m\u001b[0;34m(\u001b[0m\u001b[0mrenderer\u001b[0m\u001b[0;34m)\u001b[0m\u001b[0;34m\u001b[0m\u001b[0;34m\u001b[0m\u001b[0m\n\u001b[0;32m-> 1735\u001b[0;31m             mimage._draw_list_compositing_images(\n\u001b[0m\u001b[1;32m   1736\u001b[0m                 renderer, self, artists, self.suppressComposite)\n\u001b[1;32m   1737\u001b[0m \u001b[0;34m\u001b[0m\u001b[0m\n",
      "\u001b[0;32m~/Downloads/ENTER/envs/mars/lib/python3.8/site-packages/matplotlib/image.py\u001b[0m in \u001b[0;36m_draw_list_compositing_images\u001b[0;34m(renderer, parent, artists, suppress_composite)\u001b[0m\n\u001b[1;32m    135\u001b[0m     \u001b[0;32mif\u001b[0m \u001b[0mnot_composite\u001b[0m \u001b[0;32mor\u001b[0m \u001b[0;32mnot\u001b[0m \u001b[0mhas_images\u001b[0m\u001b[0;34m:\u001b[0m\u001b[0;34m\u001b[0m\u001b[0;34m\u001b[0m\u001b[0m\n\u001b[1;32m    136\u001b[0m         \u001b[0;32mfor\u001b[0m \u001b[0ma\u001b[0m \u001b[0;32min\u001b[0m \u001b[0martists\u001b[0m\u001b[0;34m:\u001b[0m\u001b[0;34m\u001b[0m\u001b[0;34m\u001b[0m\u001b[0m\n\u001b[0;32m--> 137\u001b[0;31m             \u001b[0ma\u001b[0m\u001b[0;34m.\u001b[0m\u001b[0mdraw\u001b[0m\u001b[0;34m(\u001b[0m\u001b[0mrenderer\u001b[0m\u001b[0;34m)\u001b[0m\u001b[0;34m\u001b[0m\u001b[0;34m\u001b[0m\u001b[0m\n\u001b[0m\u001b[1;32m    138\u001b[0m     \u001b[0;32melse\u001b[0m\u001b[0;34m:\u001b[0m\u001b[0;34m\u001b[0m\u001b[0;34m\u001b[0m\u001b[0m\n\u001b[1;32m    139\u001b[0m         \u001b[0;31m# Composite any adjacent images together\u001b[0m\u001b[0;34m\u001b[0m\u001b[0;34m\u001b[0m\u001b[0;34m\u001b[0m\u001b[0m\n",
      "\u001b[0;32m~/Downloads/ENTER/envs/mars/lib/python3.8/site-packages/matplotlib/artist.py\u001b[0m in \u001b[0;36mdraw_wrapper\u001b[0;34m(artist, renderer, *args, **kwargs)\u001b[0m\n\u001b[1;32m     36\u001b[0m                 \u001b[0mrenderer\u001b[0m\u001b[0;34m.\u001b[0m\u001b[0mstart_filter\u001b[0m\u001b[0;34m(\u001b[0m\u001b[0;34m)\u001b[0m\u001b[0;34m\u001b[0m\u001b[0;34m\u001b[0m\u001b[0m\n\u001b[1;32m     37\u001b[0m \u001b[0;34m\u001b[0m\u001b[0m\n\u001b[0;32m---> 38\u001b[0;31m             \u001b[0;32mreturn\u001b[0m \u001b[0mdraw\u001b[0m\u001b[0;34m(\u001b[0m\u001b[0martist\u001b[0m\u001b[0;34m,\u001b[0m \u001b[0mrenderer\u001b[0m\u001b[0;34m,\u001b[0m \u001b[0;34m*\u001b[0m\u001b[0margs\u001b[0m\u001b[0;34m,\u001b[0m \u001b[0;34m**\u001b[0m\u001b[0mkwargs\u001b[0m\u001b[0;34m)\u001b[0m\u001b[0;34m\u001b[0m\u001b[0;34m\u001b[0m\u001b[0m\n\u001b[0m\u001b[1;32m     39\u001b[0m         \u001b[0;32mfinally\u001b[0m\u001b[0;34m:\u001b[0m\u001b[0;34m\u001b[0m\u001b[0;34m\u001b[0m\u001b[0m\n\u001b[1;32m     40\u001b[0m             \u001b[0;32mif\u001b[0m \u001b[0martist\u001b[0m\u001b[0;34m.\u001b[0m\u001b[0mget_agg_filter\u001b[0m\u001b[0;34m(\u001b[0m\u001b[0;34m)\u001b[0m \u001b[0;32mis\u001b[0m \u001b[0;32mnot\u001b[0m \u001b[0;32mNone\u001b[0m\u001b[0;34m:\u001b[0m\u001b[0;34m\u001b[0m\u001b[0;34m\u001b[0m\u001b[0m\n",
      "\u001b[0;32m~/Downloads/ENTER/envs/mars/lib/python3.8/site-packages/mpl_toolkits/mplot3d/axes3d.py\u001b[0m in \u001b[0;36mdraw\u001b[0;34m(self, renderer)\u001b[0m\n\u001b[1;32m    289\u001b[0m                             for axis in self._get_axis_list()) + 1\n\u001b[1;32m    290\u001b[0m         for i, col in enumerate(\n\u001b[0;32m--> 291\u001b[0;31m                 sorted(self.collections,\n\u001b[0m\u001b[1;32m    292\u001b[0m                        \u001b[0mkey\u001b[0m\u001b[0;34m=\u001b[0m\u001b[0;32mlambda\u001b[0m \u001b[0mcol\u001b[0m\u001b[0;34m:\u001b[0m \u001b[0mcol\u001b[0m\u001b[0;34m.\u001b[0m\u001b[0mdo_3d_projection\u001b[0m\u001b[0;34m(\u001b[0m\u001b[0mrenderer\u001b[0m\u001b[0;34m)\u001b[0m\u001b[0;34m,\u001b[0m\u001b[0;34m\u001b[0m\u001b[0;34m\u001b[0m\u001b[0m\n\u001b[1;32m    293\u001b[0m                        reverse=True)):\n",
      "\u001b[0;32m~/Downloads/ENTER/envs/mars/lib/python3.8/site-packages/mpl_toolkits/mplot3d/axes3d.py\u001b[0m in \u001b[0;36m<lambda>\u001b[0;34m(col)\u001b[0m\n\u001b[1;32m    290\u001b[0m         for i, col in enumerate(\n\u001b[1;32m    291\u001b[0m                 sorted(self.collections,\n\u001b[0;32m--> 292\u001b[0;31m                        \u001b[0mkey\u001b[0m\u001b[0;34m=\u001b[0m\u001b[0;32mlambda\u001b[0m \u001b[0mcol\u001b[0m\u001b[0;34m:\u001b[0m \u001b[0mcol\u001b[0m\u001b[0;34m.\u001b[0m\u001b[0mdo_3d_projection\u001b[0m\u001b[0;34m(\u001b[0m\u001b[0mrenderer\u001b[0m\u001b[0;34m)\u001b[0m\u001b[0;34m,\u001b[0m\u001b[0;34m\u001b[0m\u001b[0;34m\u001b[0m\u001b[0m\n\u001b[0m\u001b[1;32m    293\u001b[0m                        reverse=True)):\n\u001b[1;32m    294\u001b[0m             \u001b[0mcol\u001b[0m\u001b[0;34m.\u001b[0m\u001b[0mzorder\u001b[0m \u001b[0;34m=\u001b[0m \u001b[0mzorder_offset\u001b[0m \u001b[0;34m+\u001b[0m \u001b[0mi\u001b[0m\u001b[0;34m\u001b[0m\u001b[0;34m\u001b[0m\u001b[0m\n",
      "\u001b[0;32m~/Downloads/ENTER/envs/mars/lib/python3.8/site-packages/mpl_toolkits/mplot3d/art3d.py\u001b[0m in \u001b[0;36mdo_3d_projection\u001b[0;34m(self, renderer)\u001b[0m\n\u001b[1;32m    540\u001b[0m         fcs = (_zalpha(self._facecolor3d, vzs) if self._depthshade else\n\u001b[1;32m    541\u001b[0m                self._facecolor3d)\n\u001b[0;32m--> 542\u001b[0;31m         \u001b[0mfcs\u001b[0m \u001b[0;34m=\u001b[0m \u001b[0mmcolors\u001b[0m\u001b[0;34m.\u001b[0m\u001b[0mto_rgba_array\u001b[0m\u001b[0;34m(\u001b[0m\u001b[0mfcs\u001b[0m\u001b[0;34m,\u001b[0m \u001b[0mself\u001b[0m\u001b[0;34m.\u001b[0m\u001b[0m_alpha\u001b[0m\u001b[0;34m)\u001b[0m\u001b[0;34m\u001b[0m\u001b[0;34m\u001b[0m\u001b[0m\n\u001b[0m\u001b[1;32m    543\u001b[0m         \u001b[0mself\u001b[0m\u001b[0;34m.\u001b[0m\u001b[0mset_facecolors\u001b[0m\u001b[0;34m(\u001b[0m\u001b[0mfcs\u001b[0m\u001b[0;34m)\u001b[0m\u001b[0;34m\u001b[0m\u001b[0;34m\u001b[0m\u001b[0m\n\u001b[1;32m    544\u001b[0m \u001b[0;34m\u001b[0m\u001b[0m\n",
      "\u001b[0;32m~/Downloads/ENTER/envs/mars/lib/python3.8/site-packages/matplotlib/colors.py\u001b[0m in \u001b[0;36mto_rgba_array\u001b[0;34m(c, alpha)\u001b[0m\n\u001b[1;32m    338\u001b[0m         \u001b[0;32mreturn\u001b[0m \u001b[0mnp\u001b[0m\u001b[0;34m.\u001b[0m\u001b[0mzeros\u001b[0m\u001b[0;34m(\u001b[0m\u001b[0;34m(\u001b[0m\u001b[0;36m0\u001b[0m\u001b[0;34m,\u001b[0m \u001b[0;36m4\u001b[0m\u001b[0;34m)\u001b[0m\u001b[0;34m,\u001b[0m \u001b[0mfloat\u001b[0m\u001b[0;34m)\u001b[0m\u001b[0;34m\u001b[0m\u001b[0;34m\u001b[0m\u001b[0m\n\u001b[1;32m    339\u001b[0m     \u001b[0;32melse\u001b[0m\u001b[0;34m:\u001b[0m\u001b[0;34m\u001b[0m\u001b[0;34m\u001b[0m\u001b[0m\n\u001b[0;32m--> 340\u001b[0;31m         \u001b[0;32mreturn\u001b[0m \u001b[0mnp\u001b[0m\u001b[0;34m.\u001b[0m\u001b[0marray\u001b[0m\u001b[0;34m(\u001b[0m\u001b[0;34m[\u001b[0m\u001b[0mto_rgba\u001b[0m\u001b[0;34m(\u001b[0m\u001b[0mcc\u001b[0m\u001b[0;34m,\u001b[0m \u001b[0malpha\u001b[0m\u001b[0;34m)\u001b[0m \u001b[0;32mfor\u001b[0m \u001b[0mcc\u001b[0m \u001b[0;32min\u001b[0m \u001b[0mc\u001b[0m\u001b[0;34m]\u001b[0m\u001b[0;34m)\u001b[0m\u001b[0;34m\u001b[0m\u001b[0;34m\u001b[0m\u001b[0m\n\u001b[0m\u001b[1;32m    341\u001b[0m \u001b[0;34m\u001b[0m\u001b[0m\n\u001b[1;32m    342\u001b[0m \u001b[0;34m\u001b[0m\u001b[0m\n",
      "\u001b[0;32m~/Downloads/ENTER/envs/mars/lib/python3.8/site-packages/matplotlib/colors.py\u001b[0m in \u001b[0;36m<listcomp>\u001b[0;34m(.0)\u001b[0m\n\u001b[1;32m    338\u001b[0m         \u001b[0;32mreturn\u001b[0m \u001b[0mnp\u001b[0m\u001b[0;34m.\u001b[0m\u001b[0mzeros\u001b[0m\u001b[0;34m(\u001b[0m\u001b[0;34m(\u001b[0m\u001b[0;36m0\u001b[0m\u001b[0;34m,\u001b[0m \u001b[0;36m4\u001b[0m\u001b[0;34m)\u001b[0m\u001b[0;34m,\u001b[0m \u001b[0mfloat\u001b[0m\u001b[0;34m)\u001b[0m\u001b[0;34m\u001b[0m\u001b[0;34m\u001b[0m\u001b[0m\n\u001b[1;32m    339\u001b[0m     \u001b[0;32melse\u001b[0m\u001b[0;34m:\u001b[0m\u001b[0;34m\u001b[0m\u001b[0;34m\u001b[0m\u001b[0m\n\u001b[0;32m--> 340\u001b[0;31m         \u001b[0;32mreturn\u001b[0m \u001b[0mnp\u001b[0m\u001b[0;34m.\u001b[0m\u001b[0marray\u001b[0m\u001b[0;34m(\u001b[0m\u001b[0;34m[\u001b[0m\u001b[0mto_rgba\u001b[0m\u001b[0;34m(\u001b[0m\u001b[0mcc\u001b[0m\u001b[0;34m,\u001b[0m \u001b[0malpha\u001b[0m\u001b[0;34m)\u001b[0m \u001b[0;32mfor\u001b[0m \u001b[0mcc\u001b[0m \u001b[0;32min\u001b[0m \u001b[0mc\u001b[0m\u001b[0;34m]\u001b[0m\u001b[0;34m)\u001b[0m\u001b[0;34m\u001b[0m\u001b[0;34m\u001b[0m\u001b[0m\n\u001b[0m\u001b[1;32m    341\u001b[0m \u001b[0;34m\u001b[0m\u001b[0m\n\u001b[1;32m    342\u001b[0m \u001b[0;34m\u001b[0m\u001b[0m\n",
      "\u001b[0;32m~/Downloads/ENTER/envs/mars/lib/python3.8/site-packages/matplotlib/colors.py\u001b[0m in \u001b[0;36mto_rgba\u001b[0;34m(c, alpha)\u001b[0m\n\u001b[1;32m    183\u001b[0m         \u001b[0mrgba\u001b[0m \u001b[0;34m=\u001b[0m \u001b[0;32mNone\u001b[0m\u001b[0;34m\u001b[0m\u001b[0;34m\u001b[0m\u001b[0m\n\u001b[1;32m    184\u001b[0m     \u001b[0;32mif\u001b[0m \u001b[0mrgba\u001b[0m \u001b[0;32mis\u001b[0m \u001b[0;32mNone\u001b[0m\u001b[0;34m:\u001b[0m  \u001b[0;31m# Suppress exception chaining of cache lookup failure.\u001b[0m\u001b[0;34m\u001b[0m\u001b[0;34m\u001b[0m\u001b[0m\n\u001b[0;32m--> 185\u001b[0;31m         \u001b[0mrgba\u001b[0m \u001b[0;34m=\u001b[0m \u001b[0m_to_rgba_no_colorcycle\u001b[0m\u001b[0;34m(\u001b[0m\u001b[0mc\u001b[0m\u001b[0;34m,\u001b[0m \u001b[0malpha\u001b[0m\u001b[0;34m)\u001b[0m\u001b[0;34m\u001b[0m\u001b[0;34m\u001b[0m\u001b[0m\n\u001b[0m\u001b[1;32m    186\u001b[0m         \u001b[0;32mtry\u001b[0m\u001b[0;34m:\u001b[0m\u001b[0;34m\u001b[0m\u001b[0;34m\u001b[0m\u001b[0m\n\u001b[1;32m    187\u001b[0m             \u001b[0m_colors_full_map\u001b[0m\u001b[0;34m.\u001b[0m\u001b[0mcache\u001b[0m\u001b[0;34m[\u001b[0m\u001b[0mc\u001b[0m\u001b[0;34m,\u001b[0m \u001b[0malpha\u001b[0m\u001b[0;34m]\u001b[0m \u001b[0;34m=\u001b[0m \u001b[0mrgba\u001b[0m\u001b[0;34m\u001b[0m\u001b[0;34m\u001b[0m\u001b[0m\n",
      "\u001b[0;32m~/Downloads/ENTER/envs/mars/lib/python3.8/site-packages/matplotlib/colors.py\u001b[0m in \u001b[0;36m_to_rgba_no_colorcycle\u001b[0;34m(c, alpha)\u001b[0m\n\u001b[1;32m    266\u001b[0m         \u001b[0;31m# float)` and `np.array(...).astype(float)` all convert \"0.5\" to 0.5.\u001b[0m\u001b[0;34m\u001b[0m\u001b[0;34m\u001b[0m\u001b[0;34m\u001b[0m\u001b[0m\n\u001b[1;32m    267\u001b[0m         \u001b[0;31m# Test dimensionality to reject single floats.\u001b[0m\u001b[0;34m\u001b[0m\u001b[0;34m\u001b[0m\u001b[0;34m\u001b[0m\u001b[0m\n\u001b[0;32m--> 268\u001b[0;31m         \u001b[0;32mraise\u001b[0m \u001b[0mValueError\u001b[0m\u001b[0;34m(\u001b[0m\u001b[0;34mf\"Invalid RGBA argument: {orig_c!r}\"\u001b[0m\u001b[0;34m)\u001b[0m\u001b[0;34m\u001b[0m\u001b[0;34m\u001b[0m\u001b[0m\n\u001b[0m\u001b[1;32m    269\u001b[0m     \u001b[0;31m# Return a tuple to prevent the cached value from being modified.\u001b[0m\u001b[0;34m\u001b[0m\u001b[0;34m\u001b[0m\u001b[0;34m\u001b[0m\u001b[0m\n\u001b[1;32m    270\u001b[0m     \u001b[0mc\u001b[0m \u001b[0;34m=\u001b[0m \u001b[0mtuple\u001b[0m\u001b[0;34m(\u001b[0m\u001b[0mc\u001b[0m\u001b[0;34m.\u001b[0m\u001b[0mastype\u001b[0m\u001b[0;34m(\u001b[0m\u001b[0mfloat\u001b[0m\u001b[0;34m)\u001b[0m\u001b[0;34m)\u001b[0m\u001b[0;34m\u001b[0m\u001b[0;34m\u001b[0m\u001b[0m\n",
      "\u001b[0;31mValueError\u001b[0m: Invalid RGBA argument: masked_array(data=[0.12156862745098039, 0.4666666666666667,\n                   0.7058823529411765, 1.0],\n             mask=False,\n       fill_value='?',\n            dtype=object)"
     ]
    },
    {
     "data": {
      "text/plain": [
       "<Figure size 432x288 with 1 Axes>"
      ]
     },
     "metadata": {
      "needs_background": "light"
     },
     "output_type": "display_data"
    }
   ],
   "source": [
    "ax = plt.figure().add_subplot(projection='3d')\n",
    "ax.scatter(c[1], c[2], c[3])"
   ]
  },
  {
   "cell_type": "code",
   "execution_count": null,
   "id": "306d6c9e-57c6-4db5-ba54-89601af2da93",
   "metadata": {},
   "outputs": [],
   "source": []
  }
 ],
 "metadata": {
  "kernelspec": {
   "display_name": "Python 3",
   "language": "python",
   "name": "python3"
  },
  "language_info": {
   "codemirror_mode": {
    "name": "ipython",
    "version": 3
   },
   "file_extension": ".py",
   "mimetype": "text/x-python",
   "name": "python",
   "nbconvert_exporter": "python",
   "pygments_lexer": "ipython3",
   "version": "3.8.10"
  }
 },
 "nbformat": 4,
 "nbformat_minor": 5
}
